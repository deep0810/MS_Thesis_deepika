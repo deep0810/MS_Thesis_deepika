{
 "cells": [
  {
   "cell_type": "markdown",
   "id": "577a5398",
   "metadata": {},
   "source": [
    "**Imports**"
   ]
  },
  {
   "cell_type": "code",
   "execution_count": 1,
   "id": "c33481bd",
   "metadata": {},
   "outputs": [],
   "source": [
    "import pandas as pd\n",
    "import numpy as np\n",
    "import seaborn as sns\n",
    "import matplotlib.pyplot as plt\n",
    "import warnings\n",
    "warnings.filterwarnings(\"ignore\")"
   ]
  },
  {
   "cell_type": "markdown",
   "id": "f9a75e6c",
   "metadata": {},
   "source": [
    "**Import Datasets**"
   ]
  },
  {
   "cell_type": "code",
   "execution_count": 2,
   "id": "28ce4524",
   "metadata": {},
   "outputs": [],
   "source": [
    "df_1 = pd.read_csv(\"application_data.csv\")\n",
    "df_2 = pd.read_csv(\"previous_application.csv\")"
   ]
  },
  {
   "cell_type": "markdown",
   "id": "bc205079",
   "metadata": {},
   "source": [
    "**Unique columns in both the data sets**"
   ]
  },
  {
   "cell_type": "code",
   "execution_count": 3,
   "id": "ca398dea",
   "metadata": {},
   "outputs": [],
   "source": [
    "app_cols=list(df_1.columns)\n",
    "prev_app_cols=list(df_2.columns)"
   ]
  },
  {
   "cell_type": "code",
   "execution_count": 4,
   "id": "3c12fd1d",
   "metadata": {},
   "outputs": [
    {
     "data": {
      "text/plain": [
       "151"
      ]
     },
     "execution_count": 4,
     "metadata": {},
     "output_type": "execute_result"
    }
   ],
   "source": [
    "unique=[]\n",
    "[unique.append(col) for col  in app_cols if col not in unique]\n",
    "[unique.append(col) for col in prev_app_cols if col not in app_cols]\n",
    "\n",
    "unique=list(set(unique))\n",
    "    \n",
    "len(list(unique))"
   ]
  },
  {
   "cell_type": "markdown",
   "id": "0c561758",
   "metadata": {},
   "source": [
    "**Common Columns in both the data sets**"
   ]
  },
  {
   "cell_type": "code",
   "execution_count": 5,
   "id": "9dfeb308",
   "metadata": {},
   "outputs": [
    {
     "data": {
      "text/plain": [
       "8"
      ]
     },
     "execution_count": 5,
     "metadata": {},
     "output_type": "execute_result"
    }
   ],
   "source": [
    "com_cols=[]\n",
    "[com_cols.append(col) for col in app_cols if col in prev_app_cols]\n",
    "len(com_cols)"
   ]
  },
  {
   "cell_type": "markdown",
   "id": "c557742b",
   "metadata": {},
   "source": [
    "**Merge the data sets**"
   ]
  },
  {
   "cell_type": "code",
   "execution_count": 6,
   "id": "b0e85792",
   "metadata": {},
   "outputs": [
    {
     "data": {
      "text/plain": [
       "(1413701, 158)"
      ]
     },
     "execution_count": 6,
     "metadata": {},
     "output_type": "execute_result"
    }
   ],
   "source": [
    "df_merge=pd.merge(df_1, df_2,on='SK_ID_CURR')\n",
    "df_merge.shape"
   ]
  },
  {
   "cell_type": "code",
   "execution_count": 7,
   "id": "84590198",
   "metadata": {},
   "outputs": [
    {
     "data": {
      "text/html": [
       "<div>\n",
       "<style scoped>\n",
       "    .dataframe tbody tr th:only-of-type {\n",
       "        vertical-align: middle;\n",
       "    }\n",
       "\n",
       "    .dataframe tbody tr th {\n",
       "        vertical-align: top;\n",
       "    }\n",
       "\n",
       "    .dataframe thead th {\n",
       "        text-align: right;\n",
       "    }\n",
       "</style>\n",
       "<table border=\"1\" class=\"dataframe\">\n",
       "  <thead>\n",
       "    <tr style=\"text-align: right;\">\n",
       "      <th></th>\n",
       "      <th>SK_ID_CURR</th>\n",
       "      <th>TARGET</th>\n",
       "      <th>CNT_CHILDREN</th>\n",
       "      <th>AMT_INCOME_TOTAL</th>\n",
       "      <th>AMT_CREDIT_x</th>\n",
       "      <th>AMT_ANNUITY_x</th>\n",
       "      <th>AMT_GOODS_PRICE_x</th>\n",
       "      <th>REGION_POPULATION_RELATIVE</th>\n",
       "      <th>DAYS_BIRTH</th>\n",
       "      <th>DAYS_EMPLOYED</th>\n",
       "      <th>...</th>\n",
       "      <th>RATE_INTEREST_PRIVILEGED</th>\n",
       "      <th>DAYS_DECISION</th>\n",
       "      <th>SELLERPLACE_AREA</th>\n",
       "      <th>CNT_PAYMENT</th>\n",
       "      <th>DAYS_FIRST_DRAWING</th>\n",
       "      <th>DAYS_FIRST_DUE</th>\n",
       "      <th>DAYS_LAST_DUE_1ST_VERSION</th>\n",
       "      <th>DAYS_LAST_DUE</th>\n",
       "      <th>DAYS_TERMINATION</th>\n",
       "      <th>NFLAG_INSURED_ON_APPROVAL</th>\n",
       "    </tr>\n",
       "  </thead>\n",
       "  <tbody>\n",
       "    <tr>\n",
       "      <th>count</th>\n",
       "      <td>1.413701e+06</td>\n",
       "      <td>1.413701e+06</td>\n",
       "      <td>1.413701e+06</td>\n",
       "      <td>1.413701e+06</td>\n",
       "      <td>1.413701e+06</td>\n",
       "      <td>1.413608e+06</td>\n",
       "      <td>1.412493e+06</td>\n",
       "      <td>1.413701e+06</td>\n",
       "      <td>1.413701e+06</td>\n",
       "      <td>1.413701e+06</td>\n",
       "      <td>...</td>\n",
       "      <td>4791.000000</td>\n",
       "      <td>1.413701e+06</td>\n",
       "      <td>1.413701e+06</td>\n",
       "      <td>1.106488e+06</td>\n",
       "      <td>852595.000000</td>\n",
       "      <td>852595.000000</td>\n",
       "      <td>852595.000000</td>\n",
       "      <td>852595.000000</td>\n",
       "      <td>852595.000000</td>\n",
       "      <td>852595.000000</td>\n",
       "    </tr>\n",
       "    <tr>\n",
       "      <th>mean</th>\n",
       "      <td>2.784813e+05</td>\n",
       "      <td>8.655296e-02</td>\n",
       "      <td>4.048933e-01</td>\n",
       "      <td>1.733160e+05</td>\n",
       "      <td>5.875537e+05</td>\n",
       "      <td>2.701702e+04</td>\n",
       "      <td>5.277186e+05</td>\n",
       "      <td>2.074985e-02</td>\n",
       "      <td>-1.632105e+04</td>\n",
       "      <td>6.870203e+04</td>\n",
       "      <td>...</td>\n",
       "      <td>0.771284</td>\n",
       "      <td>-8.803670e+02</td>\n",
       "      <td>3.149878e+02</td>\n",
       "      <td>1.605194e+01</td>\n",
       "      <td>342257.656710</td>\n",
       "      <td>13488.741567</td>\n",
       "      <td>33274.831806</td>\n",
       "      <td>76665.634755</td>\n",
       "      <td>82353.171672</td>\n",
       "      <td>0.330572</td>\n",
       "    </tr>\n",
       "    <tr>\n",
       "      <th>std</th>\n",
       "      <td>1.028118e+05</td>\n",
       "      <td>2.811789e-01</td>\n",
       "      <td>7.173454e-01</td>\n",
       "      <td>1.985734e+05</td>\n",
       "      <td>3.849173e+05</td>\n",
       "      <td>1.395116e+04</td>\n",
       "      <td>3.532465e+05</td>\n",
       "      <td>1.334702e-02</td>\n",
       "      <td>4.344557e+03</td>\n",
       "      <td>1.452777e+05</td>\n",
       "      <td>...</td>\n",
       "      <td>0.100644</td>\n",
       "      <td>7.835402e+02</td>\n",
       "      <td>7.695082e+03</td>\n",
       "      <td>1.456675e+01</td>\n",
       "      <td>88832.266598</td>\n",
       "      <td>71650.147146</td>\n",
       "      <td>106161.775933</td>\n",
       "      <td>149704.716371</td>\n",
       "      <td>153537.064274</td>\n",
       "      <td>0.470419</td>\n",
       "    </tr>\n",
       "    <tr>\n",
       "      <th>min</th>\n",
       "      <td>1.000020e+05</td>\n",
       "      <td>0.000000e+00</td>\n",
       "      <td>0.000000e+00</td>\n",
       "      <td>2.565000e+04</td>\n",
       "      <td>4.500000e+04</td>\n",
       "      <td>1.615500e+03</td>\n",
       "      <td>4.050000e+04</td>\n",
       "      <td>2.900000e-04</td>\n",
       "      <td>-2.520100e+04</td>\n",
       "      <td>-1.791200e+04</td>\n",
       "      <td>...</td>\n",
       "      <td>0.373150</td>\n",
       "      <td>-2.922000e+03</td>\n",
       "      <td>-1.000000e+00</td>\n",
       "      <td>0.000000e+00</td>\n",
       "      <td>-2922.000000</td>\n",
       "      <td>-2892.000000</td>\n",
       "      <td>-2801.000000</td>\n",
       "      <td>-2889.000000</td>\n",
       "      <td>-2874.000000</td>\n",
       "      <td>0.000000</td>\n",
       "    </tr>\n",
       "    <tr>\n",
       "      <th>25%</th>\n",
       "      <td>1.893640e+05</td>\n",
       "      <td>0.000000e+00</td>\n",
       "      <td>0.000000e+00</td>\n",
       "      <td>1.125000e+05</td>\n",
       "      <td>2.700000e+05</td>\n",
       "      <td>1.682100e+04</td>\n",
       "      <td>2.385000e+05</td>\n",
       "      <td>1.003200e-02</td>\n",
       "      <td>-1.998000e+04</td>\n",
       "      <td>-2.828000e+03</td>\n",
       "      <td>...</td>\n",
       "      <td>0.715645</td>\n",
       "      <td>-1.313000e+03</td>\n",
       "      <td>-1.000000e+00</td>\n",
       "      <td>6.000000e+00</td>\n",
       "      <td>365243.000000</td>\n",
       "      <td>-1630.000000</td>\n",
       "      <td>-1244.000000</td>\n",
       "      <td>-1316.000000</td>\n",
       "      <td>-1269.000000</td>\n",
       "      <td>0.000000</td>\n",
       "    </tr>\n",
       "    <tr>\n",
       "      <th>50%</th>\n",
       "      <td>2.789920e+05</td>\n",
       "      <td>0.000000e+00</td>\n",
       "      <td>0.000000e+00</td>\n",
       "      <td>1.575000e+05</td>\n",
       "      <td>5.084955e+05</td>\n",
       "      <td>2.492550e+04</td>\n",
       "      <td>4.500000e+05</td>\n",
       "      <td>1.885000e-02</td>\n",
       "      <td>-1.604400e+04</td>\n",
       "      <td>-1.281000e+03</td>\n",
       "      <td>...</td>\n",
       "      <td>0.835095</td>\n",
       "      <td>-5.820000e+02</td>\n",
       "      <td>4.000000e+00</td>\n",
       "      <td>1.200000e+01</td>\n",
       "      <td>365243.000000</td>\n",
       "      <td>-825.000000</td>\n",
       "      <td>-358.000000</td>\n",
       "      <td>-534.000000</td>\n",
       "      <td>-494.000000</td>\n",
       "      <td>0.000000</td>\n",
       "    </tr>\n",
       "    <tr>\n",
       "      <th>75%</th>\n",
       "      <td>3.675560e+05</td>\n",
       "      <td>0.000000e+00</td>\n",
       "      <td>1.000000e+00</td>\n",
       "      <td>2.070000e+05</td>\n",
       "      <td>8.079840e+05</td>\n",
       "      <td>3.454200e+04</td>\n",
       "      <td>6.795000e+05</td>\n",
       "      <td>2.866300e-02</td>\n",
       "      <td>-1.273900e+04</td>\n",
       "      <td>-2.840000e+02</td>\n",
       "      <td>...</td>\n",
       "      <td>0.852537</td>\n",
       "      <td>-2.710000e+02</td>\n",
       "      <td>8.500000e+01</td>\n",
       "      <td>2.400000e+01</td>\n",
       "      <td>365243.000000</td>\n",
       "      <td>-408.000000</td>\n",
       "      <td>135.000000</td>\n",
       "      <td>-73.000000</td>\n",
       "      <td>-42.000000</td>\n",
       "      <td>1.000000</td>\n",
       "    </tr>\n",
       "    <tr>\n",
       "      <th>max</th>\n",
       "      <td>4.562550e+05</td>\n",
       "      <td>1.000000e+00</td>\n",
       "      <td>1.900000e+01</td>\n",
       "      <td>1.170000e+08</td>\n",
       "      <td>4.050000e+06</td>\n",
       "      <td>2.250000e+05</td>\n",
       "      <td>4.050000e+06</td>\n",
       "      <td>7.250800e-02</td>\n",
       "      <td>-7.489000e+03</td>\n",
       "      <td>3.652430e+05</td>\n",
       "      <td>...</td>\n",
       "      <td>1.000000</td>\n",
       "      <td>-1.000000e+00</td>\n",
       "      <td>4.000000e+06</td>\n",
       "      <td>8.400000e+01</td>\n",
       "      <td>365243.000000</td>\n",
       "      <td>365243.000000</td>\n",
       "      <td>365243.000000</td>\n",
       "      <td>365243.000000</td>\n",
       "      <td>365243.000000</td>\n",
       "      <td>1.000000</td>\n",
       "    </tr>\n",
       "  </tbody>\n",
       "</table>\n",
       "<p>8 rows × 126 columns</p>\n",
       "</div>"
      ],
      "text/plain": [
       "         SK_ID_CURR        TARGET  CNT_CHILDREN  AMT_INCOME_TOTAL  \\\n",
       "count  1.413701e+06  1.413701e+06  1.413701e+06      1.413701e+06   \n",
       "mean   2.784813e+05  8.655296e-02  4.048933e-01      1.733160e+05   \n",
       "std    1.028118e+05  2.811789e-01  7.173454e-01      1.985734e+05   \n",
       "min    1.000020e+05  0.000000e+00  0.000000e+00      2.565000e+04   \n",
       "25%    1.893640e+05  0.000000e+00  0.000000e+00      1.125000e+05   \n",
       "50%    2.789920e+05  0.000000e+00  0.000000e+00      1.575000e+05   \n",
       "75%    3.675560e+05  0.000000e+00  1.000000e+00      2.070000e+05   \n",
       "max    4.562550e+05  1.000000e+00  1.900000e+01      1.170000e+08   \n",
       "\n",
       "       AMT_CREDIT_x  AMT_ANNUITY_x  AMT_GOODS_PRICE_x  \\\n",
       "count  1.413701e+06   1.413608e+06       1.412493e+06   \n",
       "mean   5.875537e+05   2.701702e+04       5.277186e+05   \n",
       "std    3.849173e+05   1.395116e+04       3.532465e+05   \n",
       "min    4.500000e+04   1.615500e+03       4.050000e+04   \n",
       "25%    2.700000e+05   1.682100e+04       2.385000e+05   \n",
       "50%    5.084955e+05   2.492550e+04       4.500000e+05   \n",
       "75%    8.079840e+05   3.454200e+04       6.795000e+05   \n",
       "max    4.050000e+06   2.250000e+05       4.050000e+06   \n",
       "\n",
       "       REGION_POPULATION_RELATIVE    DAYS_BIRTH  DAYS_EMPLOYED  ...  \\\n",
       "count                1.413701e+06  1.413701e+06   1.413701e+06  ...   \n",
       "mean                 2.074985e-02 -1.632105e+04   6.870203e+04  ...   \n",
       "std                  1.334702e-02  4.344557e+03   1.452777e+05  ...   \n",
       "min                  2.900000e-04 -2.520100e+04  -1.791200e+04  ...   \n",
       "25%                  1.003200e-02 -1.998000e+04  -2.828000e+03  ...   \n",
       "50%                  1.885000e-02 -1.604400e+04  -1.281000e+03  ...   \n",
       "75%                  2.866300e-02 -1.273900e+04  -2.840000e+02  ...   \n",
       "max                  7.250800e-02 -7.489000e+03   3.652430e+05  ...   \n",
       "\n",
       "       RATE_INTEREST_PRIVILEGED  DAYS_DECISION  SELLERPLACE_AREA  \\\n",
       "count               4791.000000   1.413701e+06      1.413701e+06   \n",
       "mean                   0.771284  -8.803670e+02      3.149878e+02   \n",
       "std                    0.100644   7.835402e+02      7.695082e+03   \n",
       "min                    0.373150  -2.922000e+03     -1.000000e+00   \n",
       "25%                    0.715645  -1.313000e+03     -1.000000e+00   \n",
       "50%                    0.835095  -5.820000e+02      4.000000e+00   \n",
       "75%                    0.852537  -2.710000e+02      8.500000e+01   \n",
       "max                    1.000000  -1.000000e+00      4.000000e+06   \n",
       "\n",
       "        CNT_PAYMENT  DAYS_FIRST_DRAWING  DAYS_FIRST_DUE  \\\n",
       "count  1.106488e+06       852595.000000   852595.000000   \n",
       "mean   1.605194e+01       342257.656710    13488.741567   \n",
       "std    1.456675e+01        88832.266598    71650.147146   \n",
       "min    0.000000e+00        -2922.000000    -2892.000000   \n",
       "25%    6.000000e+00       365243.000000    -1630.000000   \n",
       "50%    1.200000e+01       365243.000000     -825.000000   \n",
       "75%    2.400000e+01       365243.000000     -408.000000   \n",
       "max    8.400000e+01       365243.000000   365243.000000   \n",
       "\n",
       "       DAYS_LAST_DUE_1ST_VERSION  DAYS_LAST_DUE  DAYS_TERMINATION  \\\n",
       "count              852595.000000  852595.000000     852595.000000   \n",
       "mean                33274.831806   76665.634755      82353.171672   \n",
       "std                106161.775933  149704.716371     153537.064274   \n",
       "min                 -2801.000000   -2889.000000      -2874.000000   \n",
       "25%                 -1244.000000   -1316.000000      -1269.000000   \n",
       "50%                  -358.000000    -534.000000       -494.000000   \n",
       "75%                   135.000000     -73.000000        -42.000000   \n",
       "max                365243.000000  365243.000000     365243.000000   \n",
       "\n",
       "       NFLAG_INSURED_ON_APPROVAL  \n",
       "count              852595.000000  \n",
       "mean                    0.330572  \n",
       "std                     0.470419  \n",
       "min                     0.000000  \n",
       "25%                     0.000000  \n",
       "50%                     0.000000  \n",
       "75%                     1.000000  \n",
       "max                     1.000000  \n",
       "\n",
       "[8 rows x 126 columns]"
      ]
     },
     "execution_count": 7,
     "metadata": {},
     "output_type": "execute_result"
    }
   ],
   "source": [
    "df_merge.describe()"
   ]
  },
  {
   "cell_type": "code",
   "execution_count": 8,
   "id": "994e2682",
   "metadata": {},
   "outputs": [],
   "source": [
    "df_3 = df_merge.copy()"
   ]
  },
  {
   "cell_type": "code",
   "execution_count": 9,
   "id": "87983496",
   "metadata": {},
   "outputs": [
    {
     "data": {
      "text/plain": [
       "(1413701, 158)"
      ]
     },
     "execution_count": 9,
     "metadata": {},
     "output_type": "execute_result"
    }
   ],
   "source": [
    "df_3.shape"
   ]
  },
  {
   "cell_type": "markdown",
   "id": "66fa9579",
   "metadata": {},
   "source": [
    "**Remove rows with more than 10% null values**"
   ]
  },
  {
   "cell_type": "code",
   "execution_count": 10,
   "id": "36ce399d",
   "metadata": {},
   "outputs": [],
   "source": [
    "drop_percent = 10.0 \n",
    "count =  int(((100-drop_percent)/100)*df_3.shape[1] + 1)\n",
    "df_3 = df_3.dropna( axis=0, \n",
    "                    thresh=count)"
   ]
  },
  {
   "cell_type": "code",
   "execution_count": 11,
   "id": "c56b8f09",
   "metadata": {},
   "outputs": [
    {
     "data": {
      "text/plain": [
       "(373125, 158)"
      ]
     },
     "execution_count": 11,
     "metadata": {},
     "output_type": "execute_result"
    }
   ],
   "source": [
    "df_3.shape"
   ]
  },
  {
   "cell_type": "markdown",
   "id": "8ed1135b",
   "metadata": {},
   "source": [
    "**Correlation between the features**"
   ]
  },
  {
   "cell_type": "code",
   "execution_count": 12,
   "id": "a1d2635b",
   "metadata": {
    "scrolled": true
   },
   "outputs": [],
   "source": [
    "pd.set_option('display.max_rows', 500)\n",
    "pd.set_option('display.max_columns', 500)\n",
    "pd.set_option('display.width', 1000)\n",
    "#df_3.corr()\n",
    "df_3_corr_matrix = df_3.corr()"
   ]
  },
  {
   "cell_type": "code",
   "execution_count": 13,
   "id": "63337bcc",
   "metadata": {},
   "outputs": [
    {
     "data": {
      "text/plain": [
       "['AMT_GOODS_PRICE_x',\n",
       " 'YEARS_BUILD_MODE',\n",
       " 'FLOORSMAX_MODE',\n",
       " 'FLOORSMIN_MODE',\n",
       " 'APARTMENTS_MEDI',\n",
       " 'BASEMENTAREA_MEDI',\n",
       " 'YEARS_BUILD_MEDI',\n",
       " 'COMMONAREA_MEDI',\n",
       " 'ELEVATORS_MEDI',\n",
       " 'ENTRANCES_MEDI',\n",
       " 'FLOORSMAX_MEDI',\n",
       " 'FLOORSMIN_MEDI',\n",
       " 'LANDAREA_MEDI',\n",
       " 'LIVINGAPARTMENTS_MEDI',\n",
       " 'LIVINGAREA_MEDI',\n",
       " 'NONLIVINGAPARTMENTS_MEDI',\n",
       " 'NONLIVINGAREA_MEDI',\n",
       " 'OBS_60_CNT_SOCIAL_CIRCLE',\n",
       " 'AMT_GOODS_PRICE_y']"
      ]
     },
     "execution_count": 13,
     "metadata": {},
     "output_type": "execute_result"
    }
   ],
   "source": [
    "# Select upper triangle of correlation matrix\n",
    "tri = df_3_corr_matrix.where(np.triu(np.ones(df_3_corr_matrix.shape), k=1).astype(np.bool))\n",
    "\n",
    "# Find index of feature columns with correlation greater than 0.98\n",
    "high_corr = [column for column in tri.columns if any(tri[column] > 0.98)]\n",
    "high_corr\n",
    "#len(to_drop)"
   ]
  },
  {
   "cell_type": "code",
   "execution_count": 14,
   "id": "bded9e3e",
   "metadata": {},
   "outputs": [],
   "source": [
    "high_corr.remove(\"AMT_GOODS_PRICE_x\")\n",
    "high_corr.remove(\"YEARS_BUILD_MODE\")\n",
    "high_corr.remove(\"OBS_60_CNT_SOCIAL_CIRCLE\")\n",
    "high_corr.remove(\"AMT_GOODS_PRICE_y\")"
   ]
  },
  {
   "cell_type": "code",
   "execution_count": 15,
   "id": "564d7ecb",
   "metadata": {},
   "outputs": [
    {
     "data": {
      "text/plain": [
       "15"
      ]
     },
     "execution_count": 15,
     "metadata": {},
     "output_type": "execute_result"
    }
   ],
   "source": [
    "len(high_corr)"
   ]
  },
  {
   "cell_type": "code",
   "execution_count": 16,
   "id": "b3964b5b",
   "metadata": {},
   "outputs": [],
   "source": [
    "df_3 = df_3.drop(df_3[high_corr], axis=1)"
   ]
  },
  {
   "cell_type": "code",
   "execution_count": 17,
   "id": "70d9adf9",
   "metadata": {},
   "outputs": [
    {
     "data": {
      "text/plain": [
       "(373125, 143)"
      ]
     },
     "execution_count": 17,
     "metadata": {},
     "output_type": "execute_result"
    }
   ],
   "source": [
    "df_3.shape"
   ]
  },
  {
   "cell_type": "markdown",
   "id": "029c7ad6",
   "metadata": {},
   "source": [
    "**Features with more than 50% null values**"
   ]
  },
  {
   "cell_type": "code",
   "execution_count": 18,
   "id": "020aaddf",
   "metadata": {},
   "outputs": [
    {
     "name": "stdout",
     "output_type": "stream",
     "text": [
      "Number of features with Null values:  4\n"
     ]
    }
   ],
   "source": [
    "null=((df_3.isna().sum()/len(df_3))*100).sort_values()\n",
    "print(\"Number of features with Null values: \",null[null.values>50].count())"
   ]
  },
  {
   "cell_type": "code",
   "execution_count": 19,
   "id": "47b84526",
   "metadata": {},
   "outputs": [],
   "source": [
    "for columns in df_3.columns:\n",
    "  if (df_3[columns].isna().sum()/len(df_3)*100)>50:\n",
    "    df_3.drop(columns,axis=1,inplace=True)"
   ]
  },
  {
   "cell_type": "code",
   "execution_count": 20,
   "id": "44454525",
   "metadata": {},
   "outputs": [
    {
     "data": {
      "text/plain": [
       "(373125, 139)"
      ]
     },
     "execution_count": 20,
     "metadata": {},
     "output_type": "execute_result"
    }
   ],
   "source": [
    "df_3.shape"
   ]
  },
  {
   "cell_type": "code",
   "execution_count": 21,
   "id": "fbcb9513",
   "metadata": {},
   "outputs": [
    {
     "data": {
      "text/plain": [
       "\"'df_3 .drop(['BASEMENTAREA_AVG', 'YEARS_BEGINEXPLUATATION_AVG',\\n            'YEARS_BUILD_AVG','COMMONAREA_AVG','ELEVATORS_AVG', \\n            'ENTRANCES_AVG','FLOORSMAX_AVG','FLOORSMIN_AVG',\\n            'BASEMENTAREA_MODE','YEARS_BEGINEXPLUATATION_MODE',\\n            'YEARS_BUILD_MODE','COMMONAREA_MODE','ELEVATORS_MODE',\\n            'ENTRANCES_MODE','LANDAREA_MODE','WALLSMATERIAL_MODE',\\n            'SELLERPLACE_AREA'], axis=1)\""
      ]
     },
     "execution_count": 21,
     "metadata": {},
     "output_type": "execute_result"
    }
   ],
   "source": [
    "''''df_3 .drop(['BASEMENTAREA_AVG', 'YEARS_BEGINEXPLUATATION_AVG',\n",
    "            'YEARS_BUILD_AVG','COMMONAREA_AVG','ELEVATORS_AVG', \n",
    "            'ENTRANCES_AVG','FLOORSMAX_AVG','FLOORSMIN_AVG',\n",
    "            'BASEMENTAREA_MODE','YEARS_BEGINEXPLUATATION_MODE',\n",
    "            'YEARS_BUILD_MODE','COMMONAREA_MODE','ELEVATORS_MODE',\n",
    "            'ENTRANCES_MODE','LANDAREA_MODE','WALLSMATERIAL_MODE',\n",
    "            'SELLERPLACE_AREA'], axis=1)'''"
   ]
  },
  {
   "cell_type": "code",
   "execution_count": 22,
   "id": "8318aa49",
   "metadata": {},
   "outputs": [
    {
     "data": {
      "text/html": [
       "<div>\n",
       "<style scoped>\n",
       "    .dataframe tbody tr th:only-of-type {\n",
       "        vertical-align: middle;\n",
       "    }\n",
       "\n",
       "    .dataframe tbody tr th {\n",
       "        vertical-align: top;\n",
       "    }\n",
       "\n",
       "    .dataframe thead th {\n",
       "        text-align: right;\n",
       "    }\n",
       "</style>\n",
       "<table border=\"1\" class=\"dataframe\">\n",
       "  <thead>\n",
       "    <tr style=\"text-align: right;\">\n",
       "      <th></th>\n",
       "      <th>SK_ID_CURR</th>\n",
       "      <th>TARGET</th>\n",
       "      <th>NAME_CONTRACT_TYPE_x</th>\n",
       "      <th>CODE_GENDER</th>\n",
       "      <th>FLAG_OWN_CAR</th>\n",
       "      <th>FLAG_OWN_REALTY</th>\n",
       "      <th>CNT_CHILDREN</th>\n",
       "      <th>AMT_INCOME_TOTAL</th>\n",
       "      <th>AMT_CREDIT_x</th>\n",
       "      <th>AMT_ANNUITY_x</th>\n",
       "      <th>AMT_GOODS_PRICE_x</th>\n",
       "      <th>NAME_TYPE_SUITE_x</th>\n",
       "      <th>NAME_INCOME_TYPE</th>\n",
       "      <th>NAME_EDUCATION_TYPE</th>\n",
       "      <th>NAME_FAMILY_STATUS</th>\n",
       "      <th>NAME_HOUSING_TYPE</th>\n",
       "      <th>REGION_POPULATION_RELATIVE</th>\n",
       "      <th>DAYS_BIRTH</th>\n",
       "      <th>DAYS_EMPLOYED</th>\n",
       "      <th>DAYS_REGISTRATION</th>\n",
       "      <th>DAYS_ID_PUBLISH</th>\n",
       "      <th>FLAG_MOBIL</th>\n",
       "      <th>FLAG_EMP_PHONE</th>\n",
       "      <th>FLAG_WORK_PHONE</th>\n",
       "      <th>FLAG_CONT_MOBILE</th>\n",
       "      <th>FLAG_PHONE</th>\n",
       "      <th>FLAG_EMAIL</th>\n",
       "      <th>OCCUPATION_TYPE</th>\n",
       "      <th>CNT_FAM_MEMBERS</th>\n",
       "      <th>REGION_RATING_CLIENT</th>\n",
       "      <th>REGION_RATING_CLIENT_W_CITY</th>\n",
       "      <th>WEEKDAY_APPR_PROCESS_START_x</th>\n",
       "      <th>HOUR_APPR_PROCESS_START_x</th>\n",
       "      <th>REG_REGION_NOT_LIVE_REGION</th>\n",
       "      <th>REG_REGION_NOT_WORK_REGION</th>\n",
       "      <th>LIVE_REGION_NOT_WORK_REGION</th>\n",
       "      <th>REG_CITY_NOT_LIVE_CITY</th>\n",
       "      <th>REG_CITY_NOT_WORK_CITY</th>\n",
       "      <th>LIVE_CITY_NOT_WORK_CITY</th>\n",
       "      <th>ORGANIZATION_TYPE</th>\n",
       "      <th>EXT_SOURCE_2</th>\n",
       "      <th>EXT_SOURCE_3</th>\n",
       "      <th>APARTMENTS_AVG</th>\n",
       "      <th>BASEMENTAREA_AVG</th>\n",
       "      <th>YEARS_BEGINEXPLUATATION_AVG</th>\n",
       "      <th>YEARS_BUILD_AVG</th>\n",
       "      <th>COMMONAREA_AVG</th>\n",
       "      <th>ELEVATORS_AVG</th>\n",
       "      <th>ENTRANCES_AVG</th>\n",
       "      <th>FLOORSMAX_AVG</th>\n",
       "      <th>FLOORSMIN_AVG</th>\n",
       "      <th>LANDAREA_AVG</th>\n",
       "      <th>LIVINGAPARTMENTS_AVG</th>\n",
       "      <th>LIVINGAREA_AVG</th>\n",
       "      <th>NONLIVINGAPARTMENTS_AVG</th>\n",
       "      <th>NONLIVINGAREA_AVG</th>\n",
       "      <th>APARTMENTS_MODE</th>\n",
       "      <th>BASEMENTAREA_MODE</th>\n",
       "      <th>YEARS_BEGINEXPLUATATION_MODE</th>\n",
       "      <th>YEARS_BUILD_MODE</th>\n",
       "      <th>COMMONAREA_MODE</th>\n",
       "      <th>ELEVATORS_MODE</th>\n",
       "      <th>ENTRANCES_MODE</th>\n",
       "      <th>LANDAREA_MODE</th>\n",
       "      <th>LIVINGAPARTMENTS_MODE</th>\n",
       "      <th>LIVINGAREA_MODE</th>\n",
       "      <th>NONLIVINGAPARTMENTS_MODE</th>\n",
       "      <th>NONLIVINGAREA_MODE</th>\n",
       "      <th>YEARS_BEGINEXPLUATATION_MEDI</th>\n",
       "      <th>FONDKAPREMONT_MODE</th>\n",
       "      <th>HOUSETYPE_MODE</th>\n",
       "      <th>TOTALAREA_MODE</th>\n",
       "      <th>WALLSMATERIAL_MODE</th>\n",
       "      <th>EMERGENCYSTATE_MODE</th>\n",
       "      <th>OBS_30_CNT_SOCIAL_CIRCLE</th>\n",
       "      <th>DEF_30_CNT_SOCIAL_CIRCLE</th>\n",
       "      <th>OBS_60_CNT_SOCIAL_CIRCLE</th>\n",
       "      <th>DEF_60_CNT_SOCIAL_CIRCLE</th>\n",
       "      <th>DAYS_LAST_PHONE_CHANGE</th>\n",
       "      <th>FLAG_DOCUMENT_2</th>\n",
       "      <th>FLAG_DOCUMENT_3</th>\n",
       "      <th>FLAG_DOCUMENT_4</th>\n",
       "      <th>FLAG_DOCUMENT_5</th>\n",
       "      <th>FLAG_DOCUMENT_6</th>\n",
       "      <th>FLAG_DOCUMENT_7</th>\n",
       "      <th>FLAG_DOCUMENT_8</th>\n",
       "      <th>FLAG_DOCUMENT_9</th>\n",
       "      <th>FLAG_DOCUMENT_10</th>\n",
       "      <th>FLAG_DOCUMENT_11</th>\n",
       "      <th>FLAG_DOCUMENT_12</th>\n",
       "      <th>FLAG_DOCUMENT_13</th>\n",
       "      <th>FLAG_DOCUMENT_14</th>\n",
       "      <th>FLAG_DOCUMENT_15</th>\n",
       "      <th>FLAG_DOCUMENT_16</th>\n",
       "      <th>FLAG_DOCUMENT_17</th>\n",
       "      <th>FLAG_DOCUMENT_18</th>\n",
       "      <th>FLAG_DOCUMENT_19</th>\n",
       "      <th>FLAG_DOCUMENT_20</th>\n",
       "      <th>FLAG_DOCUMENT_21</th>\n",
       "      <th>AMT_REQ_CREDIT_BUREAU_HOUR</th>\n",
       "      <th>AMT_REQ_CREDIT_BUREAU_DAY</th>\n",
       "      <th>AMT_REQ_CREDIT_BUREAU_WEEK</th>\n",
       "      <th>AMT_REQ_CREDIT_BUREAU_MON</th>\n",
       "      <th>AMT_REQ_CREDIT_BUREAU_QRT</th>\n",
       "      <th>AMT_REQ_CREDIT_BUREAU_YEAR</th>\n",
       "      <th>SK_ID_PREV</th>\n",
       "      <th>NAME_CONTRACT_TYPE_y</th>\n",
       "      <th>AMT_ANNUITY_y</th>\n",
       "      <th>AMT_APPLICATION</th>\n",
       "      <th>AMT_CREDIT_y</th>\n",
       "      <th>AMT_DOWN_PAYMENT</th>\n",
       "      <th>AMT_GOODS_PRICE_y</th>\n",
       "      <th>WEEKDAY_APPR_PROCESS_START_y</th>\n",
       "      <th>HOUR_APPR_PROCESS_START_y</th>\n",
       "      <th>FLAG_LAST_APPL_PER_CONTRACT</th>\n",
       "      <th>NFLAG_LAST_APPL_IN_DAY</th>\n",
       "      <th>RATE_DOWN_PAYMENT</th>\n",
       "      <th>NAME_CASH_LOAN_PURPOSE</th>\n",
       "      <th>NAME_CONTRACT_STATUS</th>\n",
       "      <th>DAYS_DECISION</th>\n",
       "      <th>NAME_PAYMENT_TYPE</th>\n",
       "      <th>CODE_REJECT_REASON</th>\n",
       "      <th>NAME_TYPE_SUITE_y</th>\n",
       "      <th>NAME_CLIENT_TYPE</th>\n",
       "      <th>NAME_GOODS_CATEGORY</th>\n",
       "      <th>NAME_PORTFOLIO</th>\n",
       "      <th>NAME_PRODUCT_TYPE</th>\n",
       "      <th>CHANNEL_TYPE</th>\n",
       "      <th>SELLERPLACE_AREA</th>\n",
       "      <th>NAME_SELLER_INDUSTRY</th>\n",
       "      <th>CNT_PAYMENT</th>\n",
       "      <th>NAME_YIELD_GROUP</th>\n",
       "      <th>PRODUCT_COMBINATION</th>\n",
       "      <th>DAYS_FIRST_DRAWING</th>\n",
       "      <th>DAYS_FIRST_DUE</th>\n",
       "      <th>DAYS_LAST_DUE_1ST_VERSION</th>\n",
       "      <th>DAYS_LAST_DUE</th>\n",
       "      <th>DAYS_TERMINATION</th>\n",
       "      <th>NFLAG_INSURED_ON_APPROVAL</th>\n",
       "    </tr>\n",
       "  </thead>\n",
       "  <tbody>\n",
       "    <tr>\n",
       "      <th>0</th>\n",
       "      <td>100002</td>\n",
       "      <td>1</td>\n",
       "      <td>Cash loans</td>\n",
       "      <td>M</td>\n",
       "      <td>N</td>\n",
       "      <td>Y</td>\n",
       "      <td>0</td>\n",
       "      <td>202500.0</td>\n",
       "      <td>406597.5</td>\n",
       "      <td>24700.5</td>\n",
       "      <td>351000.0</td>\n",
       "      <td>Unaccompanied</td>\n",
       "      <td>Working</td>\n",
       "      <td>Secondary / secondary special</td>\n",
       "      <td>Single / not married</td>\n",
       "      <td>House / apartment</td>\n",
       "      <td>0.018801</td>\n",
       "      <td>-9461</td>\n",
       "      <td>-637</td>\n",
       "      <td>-3648.0</td>\n",
       "      <td>-2120</td>\n",
       "      <td>1</td>\n",
       "      <td>1</td>\n",
       "      <td>0</td>\n",
       "      <td>1</td>\n",
       "      <td>1</td>\n",
       "      <td>0</td>\n",
       "      <td>Laborers</td>\n",
       "      <td>1.0</td>\n",
       "      <td>2</td>\n",
       "      <td>2</td>\n",
       "      <td>WEDNESDAY</td>\n",
       "      <td>10</td>\n",
       "      <td>0</td>\n",
       "      <td>0</td>\n",
       "      <td>0</td>\n",
       "      <td>0</td>\n",
       "      <td>0</td>\n",
       "      <td>0</td>\n",
       "      <td>Business Entity Type 3</td>\n",
       "      <td>0.262949</td>\n",
       "      <td>0.139376</td>\n",
       "      <td>0.0247</td>\n",
       "      <td>0.0369</td>\n",
       "      <td>0.9722</td>\n",
       "      <td>0.6192</td>\n",
       "      <td>0.0143</td>\n",
       "      <td>0.00</td>\n",
       "      <td>0.0690</td>\n",
       "      <td>0.0833</td>\n",
       "      <td>0.1250</td>\n",
       "      <td>0.0369</td>\n",
       "      <td>0.0202</td>\n",
       "      <td>0.0190</td>\n",
       "      <td>0.0000</td>\n",
       "      <td>0.0000</td>\n",
       "      <td>0.0252</td>\n",
       "      <td>0.0383</td>\n",
       "      <td>0.9722</td>\n",
       "      <td>0.6341</td>\n",
       "      <td>0.0144</td>\n",
       "      <td>0.0000</td>\n",
       "      <td>0.0690</td>\n",
       "      <td>0.0377</td>\n",
       "      <td>0.0220</td>\n",
       "      <td>0.0198</td>\n",
       "      <td>0.0</td>\n",
       "      <td>0.0</td>\n",
       "      <td>0.9722</td>\n",
       "      <td>reg oper account</td>\n",
       "      <td>block of flats</td>\n",
       "      <td>0.0149</td>\n",
       "      <td>Stone, brick</td>\n",
       "      <td>No</td>\n",
       "      <td>2.0</td>\n",
       "      <td>2.0</td>\n",
       "      <td>2.0</td>\n",
       "      <td>2.0</td>\n",
       "      <td>-1134.0</td>\n",
       "      <td>0</td>\n",
       "      <td>1</td>\n",
       "      <td>0</td>\n",
       "      <td>0</td>\n",
       "      <td>0</td>\n",
       "      <td>0</td>\n",
       "      <td>0</td>\n",
       "      <td>0</td>\n",
       "      <td>0</td>\n",
       "      <td>0</td>\n",
       "      <td>0</td>\n",
       "      <td>0</td>\n",
       "      <td>0</td>\n",
       "      <td>0</td>\n",
       "      <td>0</td>\n",
       "      <td>0</td>\n",
       "      <td>0</td>\n",
       "      <td>0</td>\n",
       "      <td>0</td>\n",
       "      <td>0</td>\n",
       "      <td>0.0</td>\n",
       "      <td>0.0</td>\n",
       "      <td>0.0</td>\n",
       "      <td>0.0</td>\n",
       "      <td>0.0</td>\n",
       "      <td>1.0</td>\n",
       "      <td>1038818</td>\n",
       "      <td>Consumer loans</td>\n",
       "      <td>9251.775</td>\n",
       "      <td>179055.0</td>\n",
       "      <td>179055.0</td>\n",
       "      <td>0.0</td>\n",
       "      <td>179055.0</td>\n",
       "      <td>SATURDAY</td>\n",
       "      <td>9</td>\n",
       "      <td>Y</td>\n",
       "      <td>1</td>\n",
       "      <td>0.000000</td>\n",
       "      <td>XAP</td>\n",
       "      <td>Approved</td>\n",
       "      <td>-606</td>\n",
       "      <td>XNA</td>\n",
       "      <td>XAP</td>\n",
       "      <td>NaN</td>\n",
       "      <td>New</td>\n",
       "      <td>Vehicles</td>\n",
       "      <td>POS</td>\n",
       "      <td>XNA</td>\n",
       "      <td>Stone</td>\n",
       "      <td>500</td>\n",
       "      <td>Auto technology</td>\n",
       "      <td>24.0</td>\n",
       "      <td>low_normal</td>\n",
       "      <td>POS other with interest</td>\n",
       "      <td>365243.0</td>\n",
       "      <td>-565.0</td>\n",
       "      <td>125.0</td>\n",
       "      <td>-25.0</td>\n",
       "      <td>-17.0</td>\n",
       "      <td>0.0</td>\n",
       "    </tr>\n",
       "    <tr>\n",
       "      <th>1</th>\n",
       "      <td>100003</td>\n",
       "      <td>0</td>\n",
       "      <td>Cash loans</td>\n",
       "      <td>F</td>\n",
       "      <td>N</td>\n",
       "      <td>N</td>\n",
       "      <td>0</td>\n",
       "      <td>270000.0</td>\n",
       "      <td>1293502.5</td>\n",
       "      <td>35698.5</td>\n",
       "      <td>1129500.0</td>\n",
       "      <td>Family</td>\n",
       "      <td>State servant</td>\n",
       "      <td>Higher education</td>\n",
       "      <td>Married</td>\n",
       "      <td>House / apartment</td>\n",
       "      <td>0.003541</td>\n",
       "      <td>-16765</td>\n",
       "      <td>-1188</td>\n",
       "      <td>-1186.0</td>\n",
       "      <td>-291</td>\n",
       "      <td>1</td>\n",
       "      <td>1</td>\n",
       "      <td>0</td>\n",
       "      <td>1</td>\n",
       "      <td>1</td>\n",
       "      <td>0</td>\n",
       "      <td>Core staff</td>\n",
       "      <td>2.0</td>\n",
       "      <td>1</td>\n",
       "      <td>1</td>\n",
       "      <td>MONDAY</td>\n",
       "      <td>11</td>\n",
       "      <td>0</td>\n",
       "      <td>0</td>\n",
       "      <td>0</td>\n",
       "      <td>0</td>\n",
       "      <td>0</td>\n",
       "      <td>0</td>\n",
       "      <td>School</td>\n",
       "      <td>0.622246</td>\n",
       "      <td>NaN</td>\n",
       "      <td>0.0959</td>\n",
       "      <td>0.0529</td>\n",
       "      <td>0.9851</td>\n",
       "      <td>0.7960</td>\n",
       "      <td>0.0605</td>\n",
       "      <td>0.08</td>\n",
       "      <td>0.0345</td>\n",
       "      <td>0.2917</td>\n",
       "      <td>0.3333</td>\n",
       "      <td>0.0130</td>\n",
       "      <td>0.0773</td>\n",
       "      <td>0.0549</td>\n",
       "      <td>0.0039</td>\n",
       "      <td>0.0098</td>\n",
       "      <td>0.0924</td>\n",
       "      <td>0.0538</td>\n",
       "      <td>0.9851</td>\n",
       "      <td>0.8040</td>\n",
       "      <td>0.0497</td>\n",
       "      <td>0.0806</td>\n",
       "      <td>0.0345</td>\n",
       "      <td>0.0128</td>\n",
       "      <td>0.0790</td>\n",
       "      <td>0.0554</td>\n",
       "      <td>0.0</td>\n",
       "      <td>0.0</td>\n",
       "      <td>0.9851</td>\n",
       "      <td>reg oper account</td>\n",
       "      <td>block of flats</td>\n",
       "      <td>0.0714</td>\n",
       "      <td>Block</td>\n",
       "      <td>No</td>\n",
       "      <td>1.0</td>\n",
       "      <td>0.0</td>\n",
       "      <td>1.0</td>\n",
       "      <td>0.0</td>\n",
       "      <td>-828.0</td>\n",
       "      <td>0</td>\n",
       "      <td>1</td>\n",
       "      <td>0</td>\n",
       "      <td>0</td>\n",
       "      <td>0</td>\n",
       "      <td>0</td>\n",
       "      <td>0</td>\n",
       "      <td>0</td>\n",
       "      <td>0</td>\n",
       "      <td>0</td>\n",
       "      <td>0</td>\n",
       "      <td>0</td>\n",
       "      <td>0</td>\n",
       "      <td>0</td>\n",
       "      <td>0</td>\n",
       "      <td>0</td>\n",
       "      <td>0</td>\n",
       "      <td>0</td>\n",
       "      <td>0</td>\n",
       "      <td>0</td>\n",
       "      <td>0.0</td>\n",
       "      <td>0.0</td>\n",
       "      <td>0.0</td>\n",
       "      <td>0.0</td>\n",
       "      <td>0.0</td>\n",
       "      <td>0.0</td>\n",
       "      <td>1810518</td>\n",
       "      <td>Cash loans</td>\n",
       "      <td>98356.995</td>\n",
       "      <td>900000.0</td>\n",
       "      <td>1035882.0</td>\n",
       "      <td>NaN</td>\n",
       "      <td>900000.0</td>\n",
       "      <td>FRIDAY</td>\n",
       "      <td>12</td>\n",
       "      <td>Y</td>\n",
       "      <td>1</td>\n",
       "      <td>NaN</td>\n",
       "      <td>XNA</td>\n",
       "      <td>Approved</td>\n",
       "      <td>-746</td>\n",
       "      <td>XNA</td>\n",
       "      <td>XAP</td>\n",
       "      <td>Unaccompanied</td>\n",
       "      <td>Repeater</td>\n",
       "      <td>XNA</td>\n",
       "      <td>Cash</td>\n",
       "      <td>x-sell</td>\n",
       "      <td>Credit and cash offices</td>\n",
       "      <td>-1</td>\n",
       "      <td>XNA</td>\n",
       "      <td>12.0</td>\n",
       "      <td>low_normal</td>\n",
       "      <td>Cash X-Sell: low</td>\n",
       "      <td>365243.0</td>\n",
       "      <td>-716.0</td>\n",
       "      <td>-386.0</td>\n",
       "      <td>-536.0</td>\n",
       "      <td>-527.0</td>\n",
       "      <td>1.0</td>\n",
       "    </tr>\n",
       "    <tr>\n",
       "      <th>2</th>\n",
       "      <td>100003</td>\n",
       "      <td>0</td>\n",
       "      <td>Cash loans</td>\n",
       "      <td>F</td>\n",
       "      <td>N</td>\n",
       "      <td>N</td>\n",
       "      <td>0</td>\n",
       "      <td>270000.0</td>\n",
       "      <td>1293502.5</td>\n",
       "      <td>35698.5</td>\n",
       "      <td>1129500.0</td>\n",
       "      <td>Family</td>\n",
       "      <td>State servant</td>\n",
       "      <td>Higher education</td>\n",
       "      <td>Married</td>\n",
       "      <td>House / apartment</td>\n",
       "      <td>0.003541</td>\n",
       "      <td>-16765</td>\n",
       "      <td>-1188</td>\n",
       "      <td>-1186.0</td>\n",
       "      <td>-291</td>\n",
       "      <td>1</td>\n",
       "      <td>1</td>\n",
       "      <td>0</td>\n",
       "      <td>1</td>\n",
       "      <td>1</td>\n",
       "      <td>0</td>\n",
       "      <td>Core staff</td>\n",
       "      <td>2.0</td>\n",
       "      <td>1</td>\n",
       "      <td>1</td>\n",
       "      <td>MONDAY</td>\n",
       "      <td>11</td>\n",
       "      <td>0</td>\n",
       "      <td>0</td>\n",
       "      <td>0</td>\n",
       "      <td>0</td>\n",
       "      <td>0</td>\n",
       "      <td>0</td>\n",
       "      <td>School</td>\n",
       "      <td>0.622246</td>\n",
       "      <td>NaN</td>\n",
       "      <td>0.0959</td>\n",
       "      <td>0.0529</td>\n",
       "      <td>0.9851</td>\n",
       "      <td>0.7960</td>\n",
       "      <td>0.0605</td>\n",
       "      <td>0.08</td>\n",
       "      <td>0.0345</td>\n",
       "      <td>0.2917</td>\n",
       "      <td>0.3333</td>\n",
       "      <td>0.0130</td>\n",
       "      <td>0.0773</td>\n",
       "      <td>0.0549</td>\n",
       "      <td>0.0039</td>\n",
       "      <td>0.0098</td>\n",
       "      <td>0.0924</td>\n",
       "      <td>0.0538</td>\n",
       "      <td>0.9851</td>\n",
       "      <td>0.8040</td>\n",
       "      <td>0.0497</td>\n",
       "      <td>0.0806</td>\n",
       "      <td>0.0345</td>\n",
       "      <td>0.0128</td>\n",
       "      <td>0.0790</td>\n",
       "      <td>0.0554</td>\n",
       "      <td>0.0</td>\n",
       "      <td>0.0</td>\n",
       "      <td>0.9851</td>\n",
       "      <td>reg oper account</td>\n",
       "      <td>block of flats</td>\n",
       "      <td>0.0714</td>\n",
       "      <td>Block</td>\n",
       "      <td>No</td>\n",
       "      <td>1.0</td>\n",
       "      <td>0.0</td>\n",
       "      <td>1.0</td>\n",
       "      <td>0.0</td>\n",
       "      <td>-828.0</td>\n",
       "      <td>0</td>\n",
       "      <td>1</td>\n",
       "      <td>0</td>\n",
       "      <td>0</td>\n",
       "      <td>0</td>\n",
       "      <td>0</td>\n",
       "      <td>0</td>\n",
       "      <td>0</td>\n",
       "      <td>0</td>\n",
       "      <td>0</td>\n",
       "      <td>0</td>\n",
       "      <td>0</td>\n",
       "      <td>0</td>\n",
       "      <td>0</td>\n",
       "      <td>0</td>\n",
       "      <td>0</td>\n",
       "      <td>0</td>\n",
       "      <td>0</td>\n",
       "      <td>0</td>\n",
       "      <td>0</td>\n",
       "      <td>0.0</td>\n",
       "      <td>0.0</td>\n",
       "      <td>0.0</td>\n",
       "      <td>0.0</td>\n",
       "      <td>0.0</td>\n",
       "      <td>0.0</td>\n",
       "      <td>2636178</td>\n",
       "      <td>Consumer loans</td>\n",
       "      <td>64567.665</td>\n",
       "      <td>337500.0</td>\n",
       "      <td>348637.5</td>\n",
       "      <td>0.0</td>\n",
       "      <td>337500.0</td>\n",
       "      <td>SUNDAY</td>\n",
       "      <td>17</td>\n",
       "      <td>Y</td>\n",
       "      <td>1</td>\n",
       "      <td>0.000000</td>\n",
       "      <td>XAP</td>\n",
       "      <td>Approved</td>\n",
       "      <td>-828</td>\n",
       "      <td>Cash through the bank</td>\n",
       "      <td>XAP</td>\n",
       "      <td>Family</td>\n",
       "      <td>Refreshed</td>\n",
       "      <td>Furniture</td>\n",
       "      <td>POS</td>\n",
       "      <td>XNA</td>\n",
       "      <td>Stone</td>\n",
       "      <td>1400</td>\n",
       "      <td>Furniture</td>\n",
       "      <td>6.0</td>\n",
       "      <td>middle</td>\n",
       "      <td>POS industry with interest</td>\n",
       "      <td>365243.0</td>\n",
       "      <td>-797.0</td>\n",
       "      <td>-647.0</td>\n",
       "      <td>-647.0</td>\n",
       "      <td>-639.0</td>\n",
       "      <td>0.0</td>\n",
       "    </tr>\n",
       "    <tr>\n",
       "      <th>3</th>\n",
       "      <td>100003</td>\n",
       "      <td>0</td>\n",
       "      <td>Cash loans</td>\n",
       "      <td>F</td>\n",
       "      <td>N</td>\n",
       "      <td>N</td>\n",
       "      <td>0</td>\n",
       "      <td>270000.0</td>\n",
       "      <td>1293502.5</td>\n",
       "      <td>35698.5</td>\n",
       "      <td>1129500.0</td>\n",
       "      <td>Family</td>\n",
       "      <td>State servant</td>\n",
       "      <td>Higher education</td>\n",
       "      <td>Married</td>\n",
       "      <td>House / apartment</td>\n",
       "      <td>0.003541</td>\n",
       "      <td>-16765</td>\n",
       "      <td>-1188</td>\n",
       "      <td>-1186.0</td>\n",
       "      <td>-291</td>\n",
       "      <td>1</td>\n",
       "      <td>1</td>\n",
       "      <td>0</td>\n",
       "      <td>1</td>\n",
       "      <td>1</td>\n",
       "      <td>0</td>\n",
       "      <td>Core staff</td>\n",
       "      <td>2.0</td>\n",
       "      <td>1</td>\n",
       "      <td>1</td>\n",
       "      <td>MONDAY</td>\n",
       "      <td>11</td>\n",
       "      <td>0</td>\n",
       "      <td>0</td>\n",
       "      <td>0</td>\n",
       "      <td>0</td>\n",
       "      <td>0</td>\n",
       "      <td>0</td>\n",
       "      <td>School</td>\n",
       "      <td>0.622246</td>\n",
       "      <td>NaN</td>\n",
       "      <td>0.0959</td>\n",
       "      <td>0.0529</td>\n",
       "      <td>0.9851</td>\n",
       "      <td>0.7960</td>\n",
       "      <td>0.0605</td>\n",
       "      <td>0.08</td>\n",
       "      <td>0.0345</td>\n",
       "      <td>0.2917</td>\n",
       "      <td>0.3333</td>\n",
       "      <td>0.0130</td>\n",
       "      <td>0.0773</td>\n",
       "      <td>0.0549</td>\n",
       "      <td>0.0039</td>\n",
       "      <td>0.0098</td>\n",
       "      <td>0.0924</td>\n",
       "      <td>0.0538</td>\n",
       "      <td>0.9851</td>\n",
       "      <td>0.8040</td>\n",
       "      <td>0.0497</td>\n",
       "      <td>0.0806</td>\n",
       "      <td>0.0345</td>\n",
       "      <td>0.0128</td>\n",
       "      <td>0.0790</td>\n",
       "      <td>0.0554</td>\n",
       "      <td>0.0</td>\n",
       "      <td>0.0</td>\n",
       "      <td>0.9851</td>\n",
       "      <td>reg oper account</td>\n",
       "      <td>block of flats</td>\n",
       "      <td>0.0714</td>\n",
       "      <td>Block</td>\n",
       "      <td>No</td>\n",
       "      <td>1.0</td>\n",
       "      <td>0.0</td>\n",
       "      <td>1.0</td>\n",
       "      <td>0.0</td>\n",
       "      <td>-828.0</td>\n",
       "      <td>0</td>\n",
       "      <td>1</td>\n",
       "      <td>0</td>\n",
       "      <td>0</td>\n",
       "      <td>0</td>\n",
       "      <td>0</td>\n",
       "      <td>0</td>\n",
       "      <td>0</td>\n",
       "      <td>0</td>\n",
       "      <td>0</td>\n",
       "      <td>0</td>\n",
       "      <td>0</td>\n",
       "      <td>0</td>\n",
       "      <td>0</td>\n",
       "      <td>0</td>\n",
       "      <td>0</td>\n",
       "      <td>0</td>\n",
       "      <td>0</td>\n",
       "      <td>0</td>\n",
       "      <td>0</td>\n",
       "      <td>0.0</td>\n",
       "      <td>0.0</td>\n",
       "      <td>0.0</td>\n",
       "      <td>0.0</td>\n",
       "      <td>0.0</td>\n",
       "      <td>0.0</td>\n",
       "      <td>2396755</td>\n",
       "      <td>Consumer loans</td>\n",
       "      <td>6737.310</td>\n",
       "      <td>68809.5</td>\n",
       "      <td>68053.5</td>\n",
       "      <td>6885.0</td>\n",
       "      <td>68809.5</td>\n",
       "      <td>SATURDAY</td>\n",
       "      <td>15</td>\n",
       "      <td>Y</td>\n",
       "      <td>1</td>\n",
       "      <td>0.100061</td>\n",
       "      <td>XAP</td>\n",
       "      <td>Approved</td>\n",
       "      <td>-2341</td>\n",
       "      <td>Cash through the bank</td>\n",
       "      <td>XAP</td>\n",
       "      <td>Family</td>\n",
       "      <td>Refreshed</td>\n",
       "      <td>Consumer Electronics</td>\n",
       "      <td>POS</td>\n",
       "      <td>XNA</td>\n",
       "      <td>Country-wide</td>\n",
       "      <td>200</td>\n",
       "      <td>Consumer electronics</td>\n",
       "      <td>12.0</td>\n",
       "      <td>middle</td>\n",
       "      <td>POS household with interest</td>\n",
       "      <td>365243.0</td>\n",
       "      <td>-2310.0</td>\n",
       "      <td>-1980.0</td>\n",
       "      <td>-1980.0</td>\n",
       "      <td>-1976.0</td>\n",
       "      <td>1.0</td>\n",
       "    </tr>\n",
       "    <tr>\n",
       "      <th>48</th>\n",
       "      <td>100017</td>\n",
       "      <td>0</td>\n",
       "      <td>Cash loans</td>\n",
       "      <td>M</td>\n",
       "      <td>Y</td>\n",
       "      <td>N</td>\n",
       "      <td>1</td>\n",
       "      <td>225000.0</td>\n",
       "      <td>918468.0</td>\n",
       "      <td>28966.5</td>\n",
       "      <td>697500.0</td>\n",
       "      <td>Unaccompanied</td>\n",
       "      <td>Working</td>\n",
       "      <td>Secondary / secondary special</td>\n",
       "      <td>Married</td>\n",
       "      <td>House / apartment</td>\n",
       "      <td>0.016612</td>\n",
       "      <td>-14086</td>\n",
       "      <td>-3028</td>\n",
       "      <td>-643.0</td>\n",
       "      <td>-4911</td>\n",
       "      <td>1</td>\n",
       "      <td>1</td>\n",
       "      <td>0</td>\n",
       "      <td>1</td>\n",
       "      <td>0</td>\n",
       "      <td>0</td>\n",
       "      <td>Drivers</td>\n",
       "      <td>3.0</td>\n",
       "      <td>2</td>\n",
       "      <td>2</td>\n",
       "      <td>THURSDAY</td>\n",
       "      <td>13</td>\n",
       "      <td>0</td>\n",
       "      <td>0</td>\n",
       "      <td>0</td>\n",
       "      <td>0</td>\n",
       "      <td>0</td>\n",
       "      <td>0</td>\n",
       "      <td>Self-employed</td>\n",
       "      <td>0.566907</td>\n",
       "      <td>0.770087</td>\n",
       "      <td>0.1474</td>\n",
       "      <td>0.0973</td>\n",
       "      <td>0.9806</td>\n",
       "      <td>0.7348</td>\n",
       "      <td>0.0582</td>\n",
       "      <td>0.16</td>\n",
       "      <td>0.1379</td>\n",
       "      <td>0.3333</td>\n",
       "      <td>0.3750</td>\n",
       "      <td>0.0931</td>\n",
       "      <td>0.1202</td>\n",
       "      <td>0.1397</td>\n",
       "      <td>0.0000</td>\n",
       "      <td>0.0000</td>\n",
       "      <td>0.1502</td>\n",
       "      <td>0.1010</td>\n",
       "      <td>0.9806</td>\n",
       "      <td>0.7452</td>\n",
       "      <td>0.0587</td>\n",
       "      <td>0.1611</td>\n",
       "      <td>0.1379</td>\n",
       "      <td>0.0952</td>\n",
       "      <td>0.1313</td>\n",
       "      <td>0.1456</td>\n",
       "      <td>0.0</td>\n",
       "      <td>0.0</td>\n",
       "      <td>0.9806</td>\n",
       "      <td>reg oper account</td>\n",
       "      <td>block of flats</td>\n",
       "      <td>0.1417</td>\n",
       "      <td>Panel</td>\n",
       "      <td>No</td>\n",
       "      <td>0.0</td>\n",
       "      <td>0.0</td>\n",
       "      <td>0.0</td>\n",
       "      <td>0.0</td>\n",
       "      <td>-4.0</td>\n",
       "      <td>0</td>\n",
       "      <td>1</td>\n",
       "      <td>0</td>\n",
       "      <td>0</td>\n",
       "      <td>0</td>\n",
       "      <td>0</td>\n",
       "      <td>0</td>\n",
       "      <td>0</td>\n",
       "      <td>0</td>\n",
       "      <td>0</td>\n",
       "      <td>0</td>\n",
       "      <td>0</td>\n",
       "      <td>0</td>\n",
       "      <td>0</td>\n",
       "      <td>0</td>\n",
       "      <td>0</td>\n",
       "      <td>0</td>\n",
       "      <td>0</td>\n",
       "      <td>0</td>\n",
       "      <td>0</td>\n",
       "      <td>0.0</td>\n",
       "      <td>0.0</td>\n",
       "      <td>0.0</td>\n",
       "      <td>0.0</td>\n",
       "      <td>0.0</td>\n",
       "      <td>1.0</td>\n",
       "      <td>2769249</td>\n",
       "      <td>Consumer loans</td>\n",
       "      <td>16967.295</td>\n",
       "      <td>158040.0</td>\n",
       "      <td>152721.0</td>\n",
       "      <td>15804.0</td>\n",
       "      <td>158040.0</td>\n",
       "      <td>WEDNESDAY</td>\n",
       "      <td>15</td>\n",
       "      <td>Y</td>\n",
       "      <td>1</td>\n",
       "      <td>0.102133</td>\n",
       "      <td>XAP</td>\n",
       "      <td>Approved</td>\n",
       "      <td>-2441</td>\n",
       "      <td>Cash through the bank</td>\n",
       "      <td>XAP</td>\n",
       "      <td>NaN</td>\n",
       "      <td>New</td>\n",
       "      <td>Furniture</td>\n",
       "      <td>POS</td>\n",
       "      <td>XNA</td>\n",
       "      <td>Stone</td>\n",
       "      <td>408</td>\n",
       "      <td>Furniture</td>\n",
       "      <td>10.0</td>\n",
       "      <td>low_normal</td>\n",
       "      <td>POS industry without interest</td>\n",
       "      <td>365243.0</td>\n",
       "      <td>-2398.0</td>\n",
       "      <td>-2128.0</td>\n",
       "      <td>-2128.0</td>\n",
       "      <td>-2122.0</td>\n",
       "      <td>1.0</td>\n",
       "    </tr>\n",
       "  </tbody>\n",
       "</table>\n",
       "</div>"
      ],
      "text/plain": [
       "    SK_ID_CURR  TARGET NAME_CONTRACT_TYPE_x CODE_GENDER FLAG_OWN_CAR FLAG_OWN_REALTY  CNT_CHILDREN  AMT_INCOME_TOTAL  AMT_CREDIT_x  AMT_ANNUITY_x  AMT_GOODS_PRICE_x NAME_TYPE_SUITE_x NAME_INCOME_TYPE            NAME_EDUCATION_TYPE    NAME_FAMILY_STATUS  NAME_HOUSING_TYPE  REGION_POPULATION_RELATIVE  DAYS_BIRTH  DAYS_EMPLOYED  DAYS_REGISTRATION  DAYS_ID_PUBLISH  FLAG_MOBIL  FLAG_EMP_PHONE  FLAG_WORK_PHONE  FLAG_CONT_MOBILE  FLAG_PHONE  FLAG_EMAIL OCCUPATION_TYPE  CNT_FAM_MEMBERS  REGION_RATING_CLIENT  REGION_RATING_CLIENT_W_CITY WEEKDAY_APPR_PROCESS_START_x  HOUR_APPR_PROCESS_START_x  REG_REGION_NOT_LIVE_REGION  REG_REGION_NOT_WORK_REGION  LIVE_REGION_NOT_WORK_REGION  REG_CITY_NOT_LIVE_CITY  REG_CITY_NOT_WORK_CITY  LIVE_CITY_NOT_WORK_CITY       ORGANIZATION_TYPE  EXT_SOURCE_2  EXT_SOURCE_3  APARTMENTS_AVG  BASEMENTAREA_AVG  YEARS_BEGINEXPLUATATION_AVG  YEARS_BUILD_AVG  COMMONAREA_AVG  ELEVATORS_AVG  ENTRANCES_AVG  FLOORSMAX_AVG  FLOORSMIN_AVG  LANDAREA_AVG  LIVINGAPARTMENTS_AVG  \\\n",
       "0       100002       1           Cash loans           M            N               Y             0          202500.0      406597.5        24700.5           351000.0     Unaccompanied          Working  Secondary / secondary special  Single / not married  House / apartment                    0.018801       -9461           -637            -3648.0            -2120           1               1                0                 1           1           0        Laborers              1.0                     2                            2                    WEDNESDAY                         10                           0                           0                            0                       0                       0                        0  Business Entity Type 3      0.262949      0.139376          0.0247            0.0369                       0.9722           0.6192          0.0143           0.00         0.0690         0.0833         0.1250        0.0369                0.0202   \n",
       "1       100003       0           Cash loans           F            N               N             0          270000.0     1293502.5        35698.5          1129500.0            Family    State servant               Higher education               Married  House / apartment                    0.003541      -16765          -1188            -1186.0             -291           1               1                0                 1           1           0      Core staff              2.0                     1                            1                       MONDAY                         11                           0                           0                            0                       0                       0                        0                  School      0.622246           NaN          0.0959            0.0529                       0.9851           0.7960          0.0605           0.08         0.0345         0.2917         0.3333        0.0130                0.0773   \n",
       "2       100003       0           Cash loans           F            N               N             0          270000.0     1293502.5        35698.5          1129500.0            Family    State servant               Higher education               Married  House / apartment                    0.003541      -16765          -1188            -1186.0             -291           1               1                0                 1           1           0      Core staff              2.0                     1                            1                       MONDAY                         11                           0                           0                            0                       0                       0                        0                  School      0.622246           NaN          0.0959            0.0529                       0.9851           0.7960          0.0605           0.08         0.0345         0.2917         0.3333        0.0130                0.0773   \n",
       "3       100003       0           Cash loans           F            N               N             0          270000.0     1293502.5        35698.5          1129500.0            Family    State servant               Higher education               Married  House / apartment                    0.003541      -16765          -1188            -1186.0             -291           1               1                0                 1           1           0      Core staff              2.0                     1                            1                       MONDAY                         11                           0                           0                            0                       0                       0                        0                  School      0.622246           NaN          0.0959            0.0529                       0.9851           0.7960          0.0605           0.08         0.0345         0.2917         0.3333        0.0130                0.0773   \n",
       "48      100017       0           Cash loans           M            Y               N             1          225000.0      918468.0        28966.5           697500.0     Unaccompanied          Working  Secondary / secondary special               Married  House / apartment                    0.016612      -14086          -3028             -643.0            -4911           1               1                0                 1           0           0         Drivers              3.0                     2                            2                     THURSDAY                         13                           0                           0                            0                       0                       0                        0           Self-employed      0.566907      0.770087          0.1474            0.0973                       0.9806           0.7348          0.0582           0.16         0.1379         0.3333         0.3750        0.0931                0.1202   \n",
       "\n",
       "    LIVINGAREA_AVG  NONLIVINGAPARTMENTS_AVG  NONLIVINGAREA_AVG  APARTMENTS_MODE  BASEMENTAREA_MODE  YEARS_BEGINEXPLUATATION_MODE  YEARS_BUILD_MODE  COMMONAREA_MODE  ELEVATORS_MODE  ENTRANCES_MODE  LANDAREA_MODE  LIVINGAPARTMENTS_MODE  LIVINGAREA_MODE  NONLIVINGAPARTMENTS_MODE  NONLIVINGAREA_MODE  YEARS_BEGINEXPLUATATION_MEDI FONDKAPREMONT_MODE  HOUSETYPE_MODE  TOTALAREA_MODE WALLSMATERIAL_MODE EMERGENCYSTATE_MODE  OBS_30_CNT_SOCIAL_CIRCLE  DEF_30_CNT_SOCIAL_CIRCLE  OBS_60_CNT_SOCIAL_CIRCLE  DEF_60_CNT_SOCIAL_CIRCLE  DAYS_LAST_PHONE_CHANGE  FLAG_DOCUMENT_2  FLAG_DOCUMENT_3  FLAG_DOCUMENT_4  FLAG_DOCUMENT_5  FLAG_DOCUMENT_6  FLAG_DOCUMENT_7  FLAG_DOCUMENT_8  FLAG_DOCUMENT_9  FLAG_DOCUMENT_10  FLAG_DOCUMENT_11  FLAG_DOCUMENT_12  FLAG_DOCUMENT_13  FLAG_DOCUMENT_14  FLAG_DOCUMENT_15  FLAG_DOCUMENT_16  FLAG_DOCUMENT_17  FLAG_DOCUMENT_18  FLAG_DOCUMENT_19  FLAG_DOCUMENT_20  FLAG_DOCUMENT_21  AMT_REQ_CREDIT_BUREAU_HOUR  AMT_REQ_CREDIT_BUREAU_DAY  AMT_REQ_CREDIT_BUREAU_WEEK  \\\n",
       "0           0.0190                   0.0000             0.0000           0.0252             0.0383                        0.9722            0.6341           0.0144          0.0000          0.0690         0.0377                 0.0220           0.0198                       0.0                 0.0                        0.9722   reg oper account  block of flats          0.0149       Stone, brick                  No                       2.0                       2.0                       2.0                       2.0                 -1134.0                0                1                0                0                0                0                0                0                 0                 0                 0                 0                 0                 0                 0                 0                 0                 0                 0                 0                         0.0                        0.0                         0.0   \n",
       "1           0.0549                   0.0039             0.0098           0.0924             0.0538                        0.9851            0.8040           0.0497          0.0806          0.0345         0.0128                 0.0790           0.0554                       0.0                 0.0                        0.9851   reg oper account  block of flats          0.0714              Block                  No                       1.0                       0.0                       1.0                       0.0                  -828.0                0                1                0                0                0                0                0                0                 0                 0                 0                 0                 0                 0                 0                 0                 0                 0                 0                 0                         0.0                        0.0                         0.0   \n",
       "2           0.0549                   0.0039             0.0098           0.0924             0.0538                        0.9851            0.8040           0.0497          0.0806          0.0345         0.0128                 0.0790           0.0554                       0.0                 0.0                        0.9851   reg oper account  block of flats          0.0714              Block                  No                       1.0                       0.0                       1.0                       0.0                  -828.0                0                1                0                0                0                0                0                0                 0                 0                 0                 0                 0                 0                 0                 0                 0                 0                 0                 0                         0.0                        0.0                         0.0   \n",
       "3           0.0549                   0.0039             0.0098           0.0924             0.0538                        0.9851            0.8040           0.0497          0.0806          0.0345         0.0128                 0.0790           0.0554                       0.0                 0.0                        0.9851   reg oper account  block of flats          0.0714              Block                  No                       1.0                       0.0                       1.0                       0.0                  -828.0                0                1                0                0                0                0                0                0                 0                 0                 0                 0                 0                 0                 0                 0                 0                 0                 0                 0                         0.0                        0.0                         0.0   \n",
       "48          0.1397                   0.0000             0.0000           0.1502             0.1010                        0.9806            0.7452           0.0587          0.1611          0.1379         0.0952                 0.1313           0.1456                       0.0                 0.0                        0.9806   reg oper account  block of flats          0.1417              Panel                  No                       0.0                       0.0                       0.0                       0.0                    -4.0                0                1                0                0                0                0                0                0                 0                 0                 0                 0                 0                 0                 0                 0                 0                 0                 0                 0                         0.0                        0.0                         0.0   \n",
       "\n",
       "    AMT_REQ_CREDIT_BUREAU_MON  AMT_REQ_CREDIT_BUREAU_QRT  AMT_REQ_CREDIT_BUREAU_YEAR  SK_ID_PREV NAME_CONTRACT_TYPE_y  AMT_ANNUITY_y  AMT_APPLICATION  AMT_CREDIT_y  AMT_DOWN_PAYMENT  AMT_GOODS_PRICE_y WEEKDAY_APPR_PROCESS_START_y  HOUR_APPR_PROCESS_START_y FLAG_LAST_APPL_PER_CONTRACT  NFLAG_LAST_APPL_IN_DAY  RATE_DOWN_PAYMENT NAME_CASH_LOAN_PURPOSE NAME_CONTRACT_STATUS  DAYS_DECISION      NAME_PAYMENT_TYPE CODE_REJECT_REASON NAME_TYPE_SUITE_y NAME_CLIENT_TYPE   NAME_GOODS_CATEGORY NAME_PORTFOLIO NAME_PRODUCT_TYPE             CHANNEL_TYPE  SELLERPLACE_AREA  NAME_SELLER_INDUSTRY  CNT_PAYMENT NAME_YIELD_GROUP            PRODUCT_COMBINATION  DAYS_FIRST_DRAWING  DAYS_FIRST_DUE  DAYS_LAST_DUE_1ST_VERSION  DAYS_LAST_DUE  DAYS_TERMINATION  NFLAG_INSURED_ON_APPROVAL  \n",
       "0                         0.0                        0.0                         1.0     1038818       Consumer loans       9251.775         179055.0      179055.0               0.0           179055.0                     SATURDAY                          9                           Y                       1           0.000000                    XAP             Approved           -606                    XNA                XAP               NaN              New              Vehicles            POS               XNA                    Stone               500       Auto technology         24.0       low_normal        POS other with interest            365243.0          -565.0                      125.0          -25.0             -17.0                        0.0  \n",
       "1                         0.0                        0.0                         0.0     1810518           Cash loans      98356.995         900000.0     1035882.0               NaN           900000.0                       FRIDAY                         12                           Y                       1                NaN                    XNA             Approved           -746                    XNA                XAP     Unaccompanied         Repeater                   XNA           Cash            x-sell  Credit and cash offices                -1                   XNA         12.0       low_normal               Cash X-Sell: low            365243.0          -716.0                     -386.0         -536.0            -527.0                        1.0  \n",
       "2                         0.0                        0.0                         0.0     2636178       Consumer loans      64567.665         337500.0      348637.5               0.0           337500.0                       SUNDAY                         17                           Y                       1           0.000000                    XAP             Approved           -828  Cash through the bank                XAP            Family        Refreshed             Furniture            POS               XNA                    Stone              1400             Furniture          6.0           middle     POS industry with interest            365243.0          -797.0                     -647.0         -647.0            -639.0                        0.0  \n",
       "3                         0.0                        0.0                         0.0     2396755       Consumer loans       6737.310          68809.5       68053.5            6885.0            68809.5                     SATURDAY                         15                           Y                       1           0.100061                    XAP             Approved          -2341  Cash through the bank                XAP            Family        Refreshed  Consumer Electronics            POS               XNA             Country-wide               200  Consumer electronics         12.0           middle    POS household with interest            365243.0         -2310.0                    -1980.0        -1980.0           -1976.0                        1.0  \n",
       "48                        0.0                        0.0                         1.0     2769249       Consumer loans      16967.295         158040.0      152721.0           15804.0           158040.0                    WEDNESDAY                         15                           Y                       1           0.102133                    XAP             Approved          -2441  Cash through the bank                XAP               NaN              New             Furniture            POS               XNA                    Stone               408             Furniture         10.0       low_normal  POS industry without interest            365243.0         -2398.0                    -2128.0        -2128.0           -2122.0                        1.0  "
      ]
     },
     "execution_count": 22,
     "metadata": {},
     "output_type": "execute_result"
    }
   ],
   "source": [
    "df_3.head()"
   ]
  },
  {
   "cell_type": "code",
   "execution_count": 23,
   "id": "a1b63497",
   "metadata": {},
   "outputs": [
    {
     "data": {
      "text/plain": [
       "['SK_ID_CURR',\n",
       " 'TARGET',\n",
       " 'NAME_CONTRACT_TYPE_x',\n",
       " 'CODE_GENDER',\n",
       " 'FLAG_OWN_CAR',\n",
       " 'FLAG_OWN_REALTY',\n",
       " 'CNT_CHILDREN',\n",
       " 'AMT_INCOME_TOTAL',\n",
       " 'AMT_CREDIT_x',\n",
       " 'AMT_ANNUITY_x',\n",
       " 'AMT_GOODS_PRICE_x',\n",
       " 'NAME_TYPE_SUITE_x',\n",
       " 'NAME_INCOME_TYPE',\n",
       " 'NAME_EDUCATION_TYPE',\n",
       " 'NAME_FAMILY_STATUS',\n",
       " 'NAME_HOUSING_TYPE',\n",
       " 'REGION_POPULATION_RELATIVE',\n",
       " 'DAYS_BIRTH',\n",
       " 'DAYS_EMPLOYED',\n",
       " 'DAYS_REGISTRATION',\n",
       " 'DAYS_ID_PUBLISH',\n",
       " 'FLAG_MOBIL',\n",
       " 'FLAG_EMP_PHONE',\n",
       " 'FLAG_WORK_PHONE',\n",
       " 'FLAG_CONT_MOBILE',\n",
       " 'FLAG_PHONE',\n",
       " 'FLAG_EMAIL',\n",
       " 'OCCUPATION_TYPE',\n",
       " 'CNT_FAM_MEMBERS',\n",
       " 'REGION_RATING_CLIENT',\n",
       " 'REGION_RATING_CLIENT_W_CITY',\n",
       " 'WEEKDAY_APPR_PROCESS_START_x',\n",
       " 'HOUR_APPR_PROCESS_START_x',\n",
       " 'REG_REGION_NOT_LIVE_REGION',\n",
       " 'REG_REGION_NOT_WORK_REGION',\n",
       " 'LIVE_REGION_NOT_WORK_REGION',\n",
       " 'REG_CITY_NOT_LIVE_CITY',\n",
       " 'REG_CITY_NOT_WORK_CITY',\n",
       " 'LIVE_CITY_NOT_WORK_CITY',\n",
       " 'ORGANIZATION_TYPE',\n",
       " 'EXT_SOURCE_2',\n",
       " 'EXT_SOURCE_3',\n",
       " 'APARTMENTS_AVG',\n",
       " 'BASEMENTAREA_AVG',\n",
       " 'YEARS_BEGINEXPLUATATION_AVG',\n",
       " 'YEARS_BUILD_AVG',\n",
       " 'COMMONAREA_AVG',\n",
       " 'ELEVATORS_AVG',\n",
       " 'ENTRANCES_AVG',\n",
       " 'FLOORSMAX_AVG',\n",
       " 'FLOORSMIN_AVG',\n",
       " 'LANDAREA_AVG',\n",
       " 'LIVINGAPARTMENTS_AVG',\n",
       " 'LIVINGAREA_AVG',\n",
       " 'NONLIVINGAPARTMENTS_AVG',\n",
       " 'NONLIVINGAREA_AVG',\n",
       " 'APARTMENTS_MODE',\n",
       " 'BASEMENTAREA_MODE',\n",
       " 'YEARS_BEGINEXPLUATATION_MODE',\n",
       " 'YEARS_BUILD_MODE',\n",
       " 'COMMONAREA_MODE',\n",
       " 'ELEVATORS_MODE',\n",
       " 'ENTRANCES_MODE',\n",
       " 'LANDAREA_MODE',\n",
       " 'LIVINGAPARTMENTS_MODE',\n",
       " 'LIVINGAREA_MODE',\n",
       " 'NONLIVINGAPARTMENTS_MODE',\n",
       " 'NONLIVINGAREA_MODE',\n",
       " 'YEARS_BEGINEXPLUATATION_MEDI',\n",
       " 'FONDKAPREMONT_MODE',\n",
       " 'HOUSETYPE_MODE',\n",
       " 'TOTALAREA_MODE',\n",
       " 'WALLSMATERIAL_MODE',\n",
       " 'EMERGENCYSTATE_MODE',\n",
       " 'OBS_30_CNT_SOCIAL_CIRCLE',\n",
       " 'DEF_30_CNT_SOCIAL_CIRCLE',\n",
       " 'OBS_60_CNT_SOCIAL_CIRCLE',\n",
       " 'DEF_60_CNT_SOCIAL_CIRCLE',\n",
       " 'DAYS_LAST_PHONE_CHANGE',\n",
       " 'FLAG_DOCUMENT_2',\n",
       " 'FLAG_DOCUMENT_3',\n",
       " 'FLAG_DOCUMENT_4',\n",
       " 'FLAG_DOCUMENT_5',\n",
       " 'FLAG_DOCUMENT_6',\n",
       " 'FLAG_DOCUMENT_7',\n",
       " 'FLAG_DOCUMENT_8',\n",
       " 'FLAG_DOCUMENT_9',\n",
       " 'FLAG_DOCUMENT_10',\n",
       " 'FLAG_DOCUMENT_11',\n",
       " 'FLAG_DOCUMENT_12',\n",
       " 'FLAG_DOCUMENT_13',\n",
       " 'FLAG_DOCUMENT_14',\n",
       " 'FLAG_DOCUMENT_15',\n",
       " 'FLAG_DOCUMENT_16',\n",
       " 'FLAG_DOCUMENT_17',\n",
       " 'FLAG_DOCUMENT_18',\n",
       " 'FLAG_DOCUMENT_19',\n",
       " 'FLAG_DOCUMENT_20',\n",
       " 'FLAG_DOCUMENT_21',\n",
       " 'AMT_REQ_CREDIT_BUREAU_HOUR',\n",
       " 'AMT_REQ_CREDIT_BUREAU_DAY',\n",
       " 'AMT_REQ_CREDIT_BUREAU_WEEK',\n",
       " 'AMT_REQ_CREDIT_BUREAU_MON',\n",
       " 'AMT_REQ_CREDIT_BUREAU_QRT',\n",
       " 'AMT_REQ_CREDIT_BUREAU_YEAR',\n",
       " 'SK_ID_PREV',\n",
       " 'NAME_CONTRACT_TYPE_y',\n",
       " 'AMT_ANNUITY_y',\n",
       " 'AMT_APPLICATION',\n",
       " 'AMT_CREDIT_y',\n",
       " 'AMT_DOWN_PAYMENT',\n",
       " 'AMT_GOODS_PRICE_y',\n",
       " 'WEEKDAY_APPR_PROCESS_START_y',\n",
       " 'HOUR_APPR_PROCESS_START_y',\n",
       " 'FLAG_LAST_APPL_PER_CONTRACT',\n",
       " 'NFLAG_LAST_APPL_IN_DAY',\n",
       " 'RATE_DOWN_PAYMENT',\n",
       " 'NAME_CASH_LOAN_PURPOSE',\n",
       " 'NAME_CONTRACT_STATUS',\n",
       " 'DAYS_DECISION',\n",
       " 'NAME_PAYMENT_TYPE',\n",
       " 'CODE_REJECT_REASON',\n",
       " 'NAME_TYPE_SUITE_y',\n",
       " 'NAME_CLIENT_TYPE',\n",
       " 'NAME_GOODS_CATEGORY',\n",
       " 'NAME_PORTFOLIO',\n",
       " 'NAME_PRODUCT_TYPE',\n",
       " 'CHANNEL_TYPE',\n",
       " 'SELLERPLACE_AREA',\n",
       " 'NAME_SELLER_INDUSTRY',\n",
       " 'CNT_PAYMENT',\n",
       " 'NAME_YIELD_GROUP',\n",
       " 'PRODUCT_COMBINATION',\n",
       " 'DAYS_FIRST_DRAWING',\n",
       " 'DAYS_FIRST_DUE',\n",
       " 'DAYS_LAST_DUE_1ST_VERSION',\n",
       " 'DAYS_LAST_DUE',\n",
       " 'DAYS_TERMINATION',\n",
       " 'NFLAG_INSURED_ON_APPROVAL']"
      ]
     },
     "execution_count": 23,
     "metadata": {},
     "output_type": "execute_result"
    }
   ],
   "source": [
    "list(df_3.columns)"
   ]
  },
  {
   "cell_type": "markdown",
   "id": "b6538046",
   "metadata": {},
   "source": [
    "**Categortical and Numerical Data**"
   ]
  },
  {
   "cell_type": "code",
   "execution_count": 24,
   "id": "396398d7",
   "metadata": {},
   "outputs": [],
   "source": [
    "cat_dat = df_3.select_dtypes(include=['object']).columns\n",
    "num_dat = df_3.select_dtypes(include=['int64','float64']).columns"
   ]
  },
  {
   "cell_type": "markdown",
   "id": "e17879e4",
   "metadata": {},
   "source": [
    "**Replacing null values using Simple Imputer**"
   ]
  },
  {
   "cell_type": "code",
   "execution_count": 25,
   "id": "afd33ed9",
   "metadata": {},
   "outputs": [],
   "source": [
    "from sklearn.impute import SimpleImputer\n",
    "import numpy as np\n",
    "from numpy import isnan"
   ]
  },
  {
   "cell_type": "code",
   "execution_count": 26,
   "id": "3402bacb",
   "metadata": {},
   "outputs": [],
   "source": [
    "imp = SimpleImputer(missing_values=np.nan, strategy='mean')\n",
    "op=df_3[num_dat].values\n",
    "val=imp.fit_transform(op)"
   ]
  },
  {
   "cell_type": "code",
   "execution_count": 27,
   "id": "59ef89d9",
   "metadata": {},
   "outputs": [],
   "source": [
    "imp = SimpleImputer(missing_values=np.nan, strategy='most_frequent')\n",
    "op=df_3[cat_dat].values\n",
    "val2=imp.fit_transform(op)"
   ]
  },
  {
   "cell_type": "code",
   "execution_count": 28,
   "id": "c68fdf42",
   "metadata": {},
   "outputs": [],
   "source": [
    "df_3[num_dat]=val\n",
    "df_3[cat_dat]=val2"
   ]
  },
  {
   "cell_type": "code",
   "execution_count": 29,
   "id": "8b68dc11",
   "metadata": {},
   "outputs": [
    {
     "data": {
      "text/plain": [
       "(373125, 139)"
      ]
     },
     "execution_count": 29,
     "metadata": {},
     "output_type": "execute_result"
    }
   ],
   "source": [
    "df_3.shape"
   ]
  },
  {
   "cell_type": "code",
   "execution_count": 30,
   "id": "9fe50526",
   "metadata": {},
   "outputs": [],
   "source": [
    "y = df_3['TARGET']\n",
    "df_3 = df_3.drop(['TARGET'],axis=1)"
   ]
  },
  {
   "cell_type": "markdown",
   "id": "005ebc34",
   "metadata": {},
   "source": [
    "**Label Encoding for Categorical Data**"
   ]
  },
  {
   "cell_type": "code",
   "execution_count": 31,
   "id": "99be7781",
   "metadata": {},
   "outputs": [
    {
     "data": {
      "text/plain": [
       "Index(['NAME_CONTRACT_TYPE_x', 'CODE_GENDER', 'FLAG_OWN_CAR', 'FLAG_OWN_REALTY', 'NAME_TYPE_SUITE_x', 'NAME_INCOME_TYPE', 'NAME_EDUCATION_TYPE', 'NAME_FAMILY_STATUS', 'NAME_HOUSING_TYPE', 'OCCUPATION_TYPE', 'WEEKDAY_APPR_PROCESS_START_x', 'ORGANIZATION_TYPE', 'FONDKAPREMONT_MODE', 'HOUSETYPE_MODE', 'WALLSMATERIAL_MODE', 'EMERGENCYSTATE_MODE', 'NAME_CONTRACT_TYPE_y', 'WEEKDAY_APPR_PROCESS_START_y', 'FLAG_LAST_APPL_PER_CONTRACT', 'NAME_CASH_LOAN_PURPOSE', 'NAME_CONTRACT_STATUS', 'NAME_PAYMENT_TYPE', 'CODE_REJECT_REASON', 'NAME_TYPE_SUITE_y', 'NAME_CLIENT_TYPE', 'NAME_GOODS_CATEGORY', 'NAME_PORTFOLIO', 'NAME_PRODUCT_TYPE', 'CHANNEL_TYPE', 'NAME_SELLER_INDUSTRY', 'NAME_YIELD_GROUP', 'PRODUCT_COMBINATION'], dtype='object')"
      ]
     },
     "execution_count": 31,
     "metadata": {},
     "output_type": "execute_result"
    }
   ],
   "source": [
    "cat_dat"
   ]
  },
  {
   "cell_type": "code",
   "execution_count": 32,
   "id": "90e5d074",
   "metadata": {},
   "outputs": [],
   "source": [
    "cat_col = ['NAME_CONTRACT_TYPE_x', 'CODE_GENDER', 'FLAG_OWN_CAR',\n",
    "       'FLAG_OWN_REALTY', 'NAME_TYPE_SUITE_x', 'NAME_INCOME_TYPE',\n",
    "       'NAME_EDUCATION_TYPE', 'NAME_FAMILY_STATUS', 'NAME_HOUSING_TYPE',\n",
    "       'OCCUPATION_TYPE', 'WEEKDAY_APPR_PROCESS_START_x', 'ORGANIZATION_TYPE',\n",
    "       'FONDKAPREMONT_MODE', 'HOUSETYPE_MODE', 'WALLSMATERIAL_MODE',\n",
    "       'EMERGENCYSTATE_MODE', 'NAME_CONTRACT_TYPE_y',\n",
    "       'WEEKDAY_APPR_PROCESS_START_y', 'FLAG_LAST_APPL_PER_CONTRACT',\n",
    "       'NAME_CASH_LOAN_PURPOSE', 'NAME_CONTRACT_STATUS', 'NAME_PAYMENT_TYPE',\n",
    "       'CODE_REJECT_REASON','NAME_TYPE_SUITE_y', 'NAME_CLIENT_TYPE', 'NAME_GOODS_CATEGORY',\n",
    "       'NAME_PORTFOLIO', 'NAME_PRODUCT_TYPE', 'CHANNEL_TYPE',\n",
    "       'NAME_SELLER_INDUSTRY', 'NAME_YIELD_GROUP', 'PRODUCT_COMBINATION']"
   ]
  },
  {
   "cell_type": "code",
   "execution_count": 33,
   "id": "5392293d",
   "metadata": {},
   "outputs": [],
   "source": [
    "from sklearn.preprocessing import LabelEncoder\n",
    "for each_col in cat_col:\n",
    "  le = LabelEncoder()\n",
    "  df_3[each_col] = le.fit_transform(df_3[each_col])"
   ]
  },
  {
   "cell_type": "code",
   "execution_count": 34,
   "id": "93331523",
   "metadata": {},
   "outputs": [],
   "source": [
    "df_new = df_3.copy()"
   ]
  },
  {
   "cell_type": "code",
   "execution_count": 35,
   "id": "1f46b85e",
   "metadata": {
    "scrolled": true
   },
   "outputs": [
    {
     "data": {
      "text/html": [
       "<div>\n",
       "<style scoped>\n",
       "    .dataframe tbody tr th:only-of-type {\n",
       "        vertical-align: middle;\n",
       "    }\n",
       "\n",
       "    .dataframe tbody tr th {\n",
       "        vertical-align: top;\n",
       "    }\n",
       "\n",
       "    .dataframe thead th {\n",
       "        text-align: right;\n",
       "    }\n",
       "</style>\n",
       "<table border=\"1\" class=\"dataframe\">\n",
       "  <thead>\n",
       "    <tr style=\"text-align: right;\">\n",
       "      <th></th>\n",
       "      <th>SK_ID_CURR</th>\n",
       "      <th>NAME_CONTRACT_TYPE_x</th>\n",
       "      <th>CODE_GENDER</th>\n",
       "      <th>FLAG_OWN_CAR</th>\n",
       "      <th>FLAG_OWN_REALTY</th>\n",
       "      <th>CNT_CHILDREN</th>\n",
       "      <th>AMT_INCOME_TOTAL</th>\n",
       "      <th>AMT_CREDIT_x</th>\n",
       "      <th>AMT_ANNUITY_x</th>\n",
       "      <th>AMT_GOODS_PRICE_x</th>\n",
       "      <th>NAME_TYPE_SUITE_x</th>\n",
       "      <th>NAME_INCOME_TYPE</th>\n",
       "      <th>NAME_EDUCATION_TYPE</th>\n",
       "      <th>NAME_FAMILY_STATUS</th>\n",
       "      <th>NAME_HOUSING_TYPE</th>\n",
       "      <th>REGION_POPULATION_RELATIVE</th>\n",
       "      <th>DAYS_BIRTH</th>\n",
       "      <th>DAYS_EMPLOYED</th>\n",
       "      <th>DAYS_REGISTRATION</th>\n",
       "      <th>DAYS_ID_PUBLISH</th>\n",
       "      <th>FLAG_MOBIL</th>\n",
       "      <th>FLAG_EMP_PHONE</th>\n",
       "      <th>FLAG_WORK_PHONE</th>\n",
       "      <th>FLAG_CONT_MOBILE</th>\n",
       "      <th>FLAG_PHONE</th>\n",
       "      <th>FLAG_EMAIL</th>\n",
       "      <th>OCCUPATION_TYPE</th>\n",
       "      <th>CNT_FAM_MEMBERS</th>\n",
       "      <th>REGION_RATING_CLIENT</th>\n",
       "      <th>REGION_RATING_CLIENT_W_CITY</th>\n",
       "      <th>WEEKDAY_APPR_PROCESS_START_x</th>\n",
       "      <th>HOUR_APPR_PROCESS_START_x</th>\n",
       "      <th>REG_REGION_NOT_LIVE_REGION</th>\n",
       "      <th>REG_REGION_NOT_WORK_REGION</th>\n",
       "      <th>LIVE_REGION_NOT_WORK_REGION</th>\n",
       "      <th>REG_CITY_NOT_LIVE_CITY</th>\n",
       "      <th>REG_CITY_NOT_WORK_CITY</th>\n",
       "      <th>LIVE_CITY_NOT_WORK_CITY</th>\n",
       "      <th>ORGANIZATION_TYPE</th>\n",
       "      <th>EXT_SOURCE_2</th>\n",
       "      <th>EXT_SOURCE_3</th>\n",
       "      <th>APARTMENTS_AVG</th>\n",
       "      <th>BASEMENTAREA_AVG</th>\n",
       "      <th>YEARS_BEGINEXPLUATATION_AVG</th>\n",
       "      <th>YEARS_BUILD_AVG</th>\n",
       "      <th>COMMONAREA_AVG</th>\n",
       "      <th>ELEVATORS_AVG</th>\n",
       "      <th>ENTRANCES_AVG</th>\n",
       "      <th>FLOORSMAX_AVG</th>\n",
       "      <th>FLOORSMIN_AVG</th>\n",
       "      <th>LANDAREA_AVG</th>\n",
       "      <th>LIVINGAPARTMENTS_AVG</th>\n",
       "      <th>LIVINGAREA_AVG</th>\n",
       "      <th>NONLIVINGAPARTMENTS_AVG</th>\n",
       "      <th>NONLIVINGAREA_AVG</th>\n",
       "      <th>APARTMENTS_MODE</th>\n",
       "      <th>BASEMENTAREA_MODE</th>\n",
       "      <th>YEARS_BEGINEXPLUATATION_MODE</th>\n",
       "      <th>YEARS_BUILD_MODE</th>\n",
       "      <th>COMMONAREA_MODE</th>\n",
       "      <th>ELEVATORS_MODE</th>\n",
       "      <th>ENTRANCES_MODE</th>\n",
       "      <th>LANDAREA_MODE</th>\n",
       "      <th>LIVINGAPARTMENTS_MODE</th>\n",
       "      <th>LIVINGAREA_MODE</th>\n",
       "      <th>NONLIVINGAPARTMENTS_MODE</th>\n",
       "      <th>NONLIVINGAREA_MODE</th>\n",
       "      <th>YEARS_BEGINEXPLUATATION_MEDI</th>\n",
       "      <th>FONDKAPREMONT_MODE</th>\n",
       "      <th>HOUSETYPE_MODE</th>\n",
       "      <th>TOTALAREA_MODE</th>\n",
       "      <th>WALLSMATERIAL_MODE</th>\n",
       "      <th>EMERGENCYSTATE_MODE</th>\n",
       "      <th>OBS_30_CNT_SOCIAL_CIRCLE</th>\n",
       "      <th>DEF_30_CNT_SOCIAL_CIRCLE</th>\n",
       "      <th>OBS_60_CNT_SOCIAL_CIRCLE</th>\n",
       "      <th>DEF_60_CNT_SOCIAL_CIRCLE</th>\n",
       "      <th>DAYS_LAST_PHONE_CHANGE</th>\n",
       "      <th>FLAG_DOCUMENT_2</th>\n",
       "      <th>FLAG_DOCUMENT_3</th>\n",
       "      <th>FLAG_DOCUMENT_4</th>\n",
       "      <th>FLAG_DOCUMENT_5</th>\n",
       "      <th>FLAG_DOCUMENT_6</th>\n",
       "      <th>FLAG_DOCUMENT_7</th>\n",
       "      <th>FLAG_DOCUMENT_8</th>\n",
       "      <th>FLAG_DOCUMENT_9</th>\n",
       "      <th>FLAG_DOCUMENT_10</th>\n",
       "      <th>FLAG_DOCUMENT_11</th>\n",
       "      <th>FLAG_DOCUMENT_12</th>\n",
       "      <th>FLAG_DOCUMENT_13</th>\n",
       "      <th>FLAG_DOCUMENT_14</th>\n",
       "      <th>FLAG_DOCUMENT_15</th>\n",
       "      <th>FLAG_DOCUMENT_16</th>\n",
       "      <th>FLAG_DOCUMENT_17</th>\n",
       "      <th>FLAG_DOCUMENT_18</th>\n",
       "      <th>FLAG_DOCUMENT_19</th>\n",
       "      <th>FLAG_DOCUMENT_20</th>\n",
       "      <th>FLAG_DOCUMENT_21</th>\n",
       "      <th>AMT_REQ_CREDIT_BUREAU_HOUR</th>\n",
       "      <th>AMT_REQ_CREDIT_BUREAU_DAY</th>\n",
       "      <th>AMT_REQ_CREDIT_BUREAU_WEEK</th>\n",
       "      <th>AMT_REQ_CREDIT_BUREAU_MON</th>\n",
       "      <th>AMT_REQ_CREDIT_BUREAU_QRT</th>\n",
       "      <th>AMT_REQ_CREDIT_BUREAU_YEAR</th>\n",
       "      <th>SK_ID_PREV</th>\n",
       "      <th>NAME_CONTRACT_TYPE_y</th>\n",
       "      <th>AMT_ANNUITY_y</th>\n",
       "      <th>AMT_APPLICATION</th>\n",
       "      <th>AMT_CREDIT_y</th>\n",
       "      <th>AMT_DOWN_PAYMENT</th>\n",
       "      <th>AMT_GOODS_PRICE_y</th>\n",
       "      <th>WEEKDAY_APPR_PROCESS_START_y</th>\n",
       "      <th>HOUR_APPR_PROCESS_START_y</th>\n",
       "      <th>FLAG_LAST_APPL_PER_CONTRACT</th>\n",
       "      <th>NFLAG_LAST_APPL_IN_DAY</th>\n",
       "      <th>RATE_DOWN_PAYMENT</th>\n",
       "      <th>NAME_CASH_LOAN_PURPOSE</th>\n",
       "      <th>NAME_CONTRACT_STATUS</th>\n",
       "      <th>DAYS_DECISION</th>\n",
       "      <th>NAME_PAYMENT_TYPE</th>\n",
       "      <th>CODE_REJECT_REASON</th>\n",
       "      <th>NAME_TYPE_SUITE_y</th>\n",
       "      <th>NAME_CLIENT_TYPE</th>\n",
       "      <th>NAME_GOODS_CATEGORY</th>\n",
       "      <th>NAME_PORTFOLIO</th>\n",
       "      <th>NAME_PRODUCT_TYPE</th>\n",
       "      <th>CHANNEL_TYPE</th>\n",
       "      <th>SELLERPLACE_AREA</th>\n",
       "      <th>NAME_SELLER_INDUSTRY</th>\n",
       "      <th>CNT_PAYMENT</th>\n",
       "      <th>NAME_YIELD_GROUP</th>\n",
       "      <th>PRODUCT_COMBINATION</th>\n",
       "      <th>DAYS_FIRST_DRAWING</th>\n",
       "      <th>DAYS_FIRST_DUE</th>\n",
       "      <th>DAYS_LAST_DUE_1ST_VERSION</th>\n",
       "      <th>DAYS_LAST_DUE</th>\n",
       "      <th>DAYS_TERMINATION</th>\n",
       "      <th>NFLAG_INSURED_ON_APPROVAL</th>\n",
       "    </tr>\n",
       "  </thead>\n",
       "  <tbody>\n",
       "    <tr>\n",
       "      <th>0</th>\n",
       "      <td>100002.0</td>\n",
       "      <td>0</td>\n",
       "      <td>1</td>\n",
       "      <td>0</td>\n",
       "      <td>1</td>\n",
       "      <td>0.0</td>\n",
       "      <td>202500.0</td>\n",
       "      <td>406597.5</td>\n",
       "      <td>24700.5</td>\n",
       "      <td>351000.0</td>\n",
       "      <td>6</td>\n",
       "      <td>5</td>\n",
       "      <td>4</td>\n",
       "      <td>3</td>\n",
       "      <td>1</td>\n",
       "      <td>0.018801</td>\n",
       "      <td>-9461.0</td>\n",
       "      <td>-637.0</td>\n",
       "      <td>-3648.0</td>\n",
       "      <td>-2120.0</td>\n",
       "      <td>1.0</td>\n",
       "      <td>1.0</td>\n",
       "      <td>0.0</td>\n",
       "      <td>1.0</td>\n",
       "      <td>1.0</td>\n",
       "      <td>0.0</td>\n",
       "      <td>8</td>\n",
       "      <td>1.0</td>\n",
       "      <td>2.0</td>\n",
       "      <td>2.0</td>\n",
       "      <td>6</td>\n",
       "      <td>10.0</td>\n",
       "      <td>0.0</td>\n",
       "      <td>0.0</td>\n",
       "      <td>0.0</td>\n",
       "      <td>0.0</td>\n",
       "      <td>0.0</td>\n",
       "      <td>0.0</td>\n",
       "      <td>5</td>\n",
       "      <td>0.262949</td>\n",
       "      <td>0.139376</td>\n",
       "      <td>0.0247</td>\n",
       "      <td>0.0369</td>\n",
       "      <td>0.9722</td>\n",
       "      <td>0.6192</td>\n",
       "      <td>0.0143</td>\n",
       "      <td>0.00</td>\n",
       "      <td>0.0690</td>\n",
       "      <td>0.0833</td>\n",
       "      <td>0.1250</td>\n",
       "      <td>0.0369</td>\n",
       "      <td>0.0202</td>\n",
       "      <td>0.0190</td>\n",
       "      <td>0.0000</td>\n",
       "      <td>0.0000</td>\n",
       "      <td>0.0252</td>\n",
       "      <td>0.0383</td>\n",
       "      <td>0.9722</td>\n",
       "      <td>0.6341</td>\n",
       "      <td>0.0144</td>\n",
       "      <td>0.0000</td>\n",
       "      <td>0.0690</td>\n",
       "      <td>0.0377</td>\n",
       "      <td>0.0220</td>\n",
       "      <td>0.0198</td>\n",
       "      <td>0.0</td>\n",
       "      <td>0.0</td>\n",
       "      <td>0.9722</td>\n",
       "      <td>2</td>\n",
       "      <td>0</td>\n",
       "      <td>0.0149</td>\n",
       "      <td>5</td>\n",
       "      <td>0</td>\n",
       "      <td>2.0</td>\n",
       "      <td>2.0</td>\n",
       "      <td>2.0</td>\n",
       "      <td>2.0</td>\n",
       "      <td>-1134.0</td>\n",
       "      <td>0.0</td>\n",
       "      <td>1.0</td>\n",
       "      <td>0.0</td>\n",
       "      <td>0.0</td>\n",
       "      <td>0.0</td>\n",
       "      <td>0.0</td>\n",
       "      <td>0.0</td>\n",
       "      <td>0.0</td>\n",
       "      <td>0.0</td>\n",
       "      <td>0.0</td>\n",
       "      <td>0.0</td>\n",
       "      <td>0.0</td>\n",
       "      <td>0.0</td>\n",
       "      <td>0.0</td>\n",
       "      <td>0.0</td>\n",
       "      <td>0.0</td>\n",
       "      <td>0.0</td>\n",
       "      <td>0.0</td>\n",
       "      <td>0.0</td>\n",
       "      <td>0.0</td>\n",
       "      <td>0.0</td>\n",
       "      <td>0.0</td>\n",
       "      <td>0.0</td>\n",
       "      <td>0.0</td>\n",
       "      <td>0.0</td>\n",
       "      <td>1.0</td>\n",
       "      <td>1038818.0</td>\n",
       "      <td>1</td>\n",
       "      <td>9251.775</td>\n",
       "      <td>179055.0</td>\n",
       "      <td>179055.0</td>\n",
       "      <td>0.000000</td>\n",
       "      <td>179055.0</td>\n",
       "      <td>2</td>\n",
       "      <td>9.0</td>\n",
       "      <td>1</td>\n",
       "      <td>1.0</td>\n",
       "      <td>0.000000</td>\n",
       "      <td>23</td>\n",
       "      <td>0</td>\n",
       "      <td>-606.0</td>\n",
       "      <td>3</td>\n",
       "      <td>7</td>\n",
       "      <td>6</td>\n",
       "      <td>0</td>\n",
       "      <td>24</td>\n",
       "      <td>3</td>\n",
       "      <td>0</td>\n",
       "      <td>7</td>\n",
       "      <td>500.0</td>\n",
       "      <td>0</td>\n",
       "      <td>24.0</td>\n",
       "      <td>3</td>\n",
       "      <td>15</td>\n",
       "      <td>365243.0</td>\n",
       "      <td>-565.0</td>\n",
       "      <td>125.0</td>\n",
       "      <td>-25.0</td>\n",
       "      <td>-17.0</td>\n",
       "      <td>0.0</td>\n",
       "    </tr>\n",
       "    <tr>\n",
       "      <th>1</th>\n",
       "      <td>100003.0</td>\n",
       "      <td>0</td>\n",
       "      <td>0</td>\n",
       "      <td>0</td>\n",
       "      <td>0</td>\n",
       "      <td>0.0</td>\n",
       "      <td>270000.0</td>\n",
       "      <td>1293502.5</td>\n",
       "      <td>35698.5</td>\n",
       "      <td>1129500.0</td>\n",
       "      <td>1</td>\n",
       "      <td>2</td>\n",
       "      <td>1</td>\n",
       "      <td>1</td>\n",
       "      <td>1</td>\n",
       "      <td>0.003541</td>\n",
       "      <td>-16765.0</td>\n",
       "      <td>-1188.0</td>\n",
       "      <td>-1186.0</td>\n",
       "      <td>-291.0</td>\n",
       "      <td>1.0</td>\n",
       "      <td>1.0</td>\n",
       "      <td>0.0</td>\n",
       "      <td>1.0</td>\n",
       "      <td>1.0</td>\n",
       "      <td>0.0</td>\n",
       "      <td>3</td>\n",
       "      <td>2.0</td>\n",
       "      <td>1.0</td>\n",
       "      <td>1.0</td>\n",
       "      <td>1</td>\n",
       "      <td>11.0</td>\n",
       "      <td>0.0</td>\n",
       "      <td>0.0</td>\n",
       "      <td>0.0</td>\n",
       "      <td>0.0</td>\n",
       "      <td>0.0</td>\n",
       "      <td>0.0</td>\n",
       "      <td>39</td>\n",
       "      <td>0.622246</td>\n",
       "      <td>0.493176</td>\n",
       "      <td>0.0959</td>\n",
       "      <td>0.0529</td>\n",
       "      <td>0.9851</td>\n",
       "      <td>0.7960</td>\n",
       "      <td>0.0605</td>\n",
       "      <td>0.08</td>\n",
       "      <td>0.0345</td>\n",
       "      <td>0.2917</td>\n",
       "      <td>0.3333</td>\n",
       "      <td>0.0130</td>\n",
       "      <td>0.0773</td>\n",
       "      <td>0.0549</td>\n",
       "      <td>0.0039</td>\n",
       "      <td>0.0098</td>\n",
       "      <td>0.0924</td>\n",
       "      <td>0.0538</td>\n",
       "      <td>0.9851</td>\n",
       "      <td>0.8040</td>\n",
       "      <td>0.0497</td>\n",
       "      <td>0.0806</td>\n",
       "      <td>0.0345</td>\n",
       "      <td>0.0128</td>\n",
       "      <td>0.0790</td>\n",
       "      <td>0.0554</td>\n",
       "      <td>0.0</td>\n",
       "      <td>0.0</td>\n",
       "      <td>0.9851</td>\n",
       "      <td>2</td>\n",
       "      <td>0</td>\n",
       "      <td>0.0714</td>\n",
       "      <td>0</td>\n",
       "      <td>0</td>\n",
       "      <td>1.0</td>\n",
       "      <td>0.0</td>\n",
       "      <td>1.0</td>\n",
       "      <td>0.0</td>\n",
       "      <td>-828.0</td>\n",
       "      <td>0.0</td>\n",
       "      <td>1.0</td>\n",
       "      <td>0.0</td>\n",
       "      <td>0.0</td>\n",
       "      <td>0.0</td>\n",
       "      <td>0.0</td>\n",
       "      <td>0.0</td>\n",
       "      <td>0.0</td>\n",
       "      <td>0.0</td>\n",
       "      <td>0.0</td>\n",
       "      <td>0.0</td>\n",
       "      <td>0.0</td>\n",
       "      <td>0.0</td>\n",
       "      <td>0.0</td>\n",
       "      <td>0.0</td>\n",
       "      <td>0.0</td>\n",
       "      <td>0.0</td>\n",
       "      <td>0.0</td>\n",
       "      <td>0.0</td>\n",
       "      <td>0.0</td>\n",
       "      <td>0.0</td>\n",
       "      <td>0.0</td>\n",
       "      <td>0.0</td>\n",
       "      <td>0.0</td>\n",
       "      <td>0.0</td>\n",
       "      <td>0.0</td>\n",
       "      <td>1810518.0</td>\n",
       "      <td>0</td>\n",
       "      <td>98356.995</td>\n",
       "      <td>900000.0</td>\n",
       "      <td>1035882.0</td>\n",
       "      <td>7099.094943</td>\n",
       "      <td>900000.0</td>\n",
       "      <td>0</td>\n",
       "      <td>12.0</td>\n",
       "      <td>1</td>\n",
       "      <td>1.0</td>\n",
       "      <td>0.082142</td>\n",
       "      <td>24</td>\n",
       "      <td>0</td>\n",
       "      <td>-746.0</td>\n",
       "      <td>3</td>\n",
       "      <td>7</td>\n",
       "      <td>6</td>\n",
       "      <td>2</td>\n",
       "      <td>26</td>\n",
       "      <td>2</td>\n",
       "      <td>2</td>\n",
       "      <td>5</td>\n",
       "      <td>-1.0</td>\n",
       "      <td>10</td>\n",
       "      <td>12.0</td>\n",
       "      <td>3</td>\n",
       "      <td>7</td>\n",
       "      <td>365243.0</td>\n",
       "      <td>-716.0</td>\n",
       "      <td>-386.0</td>\n",
       "      <td>-536.0</td>\n",
       "      <td>-527.0</td>\n",
       "      <td>1.0</td>\n",
       "    </tr>\n",
       "    <tr>\n",
       "      <th>2</th>\n",
       "      <td>100003.0</td>\n",
       "      <td>0</td>\n",
       "      <td>0</td>\n",
       "      <td>0</td>\n",
       "      <td>0</td>\n",
       "      <td>0.0</td>\n",
       "      <td>270000.0</td>\n",
       "      <td>1293502.5</td>\n",
       "      <td>35698.5</td>\n",
       "      <td>1129500.0</td>\n",
       "      <td>1</td>\n",
       "      <td>2</td>\n",
       "      <td>1</td>\n",
       "      <td>1</td>\n",
       "      <td>1</td>\n",
       "      <td>0.003541</td>\n",
       "      <td>-16765.0</td>\n",
       "      <td>-1188.0</td>\n",
       "      <td>-1186.0</td>\n",
       "      <td>-291.0</td>\n",
       "      <td>1.0</td>\n",
       "      <td>1.0</td>\n",
       "      <td>0.0</td>\n",
       "      <td>1.0</td>\n",
       "      <td>1.0</td>\n",
       "      <td>0.0</td>\n",
       "      <td>3</td>\n",
       "      <td>2.0</td>\n",
       "      <td>1.0</td>\n",
       "      <td>1.0</td>\n",
       "      <td>1</td>\n",
       "      <td>11.0</td>\n",
       "      <td>0.0</td>\n",
       "      <td>0.0</td>\n",
       "      <td>0.0</td>\n",
       "      <td>0.0</td>\n",
       "      <td>0.0</td>\n",
       "      <td>0.0</td>\n",
       "      <td>39</td>\n",
       "      <td>0.622246</td>\n",
       "      <td>0.493176</td>\n",
       "      <td>0.0959</td>\n",
       "      <td>0.0529</td>\n",
       "      <td>0.9851</td>\n",
       "      <td>0.7960</td>\n",
       "      <td>0.0605</td>\n",
       "      <td>0.08</td>\n",
       "      <td>0.0345</td>\n",
       "      <td>0.2917</td>\n",
       "      <td>0.3333</td>\n",
       "      <td>0.0130</td>\n",
       "      <td>0.0773</td>\n",
       "      <td>0.0549</td>\n",
       "      <td>0.0039</td>\n",
       "      <td>0.0098</td>\n",
       "      <td>0.0924</td>\n",
       "      <td>0.0538</td>\n",
       "      <td>0.9851</td>\n",
       "      <td>0.8040</td>\n",
       "      <td>0.0497</td>\n",
       "      <td>0.0806</td>\n",
       "      <td>0.0345</td>\n",
       "      <td>0.0128</td>\n",
       "      <td>0.0790</td>\n",
       "      <td>0.0554</td>\n",
       "      <td>0.0</td>\n",
       "      <td>0.0</td>\n",
       "      <td>0.9851</td>\n",
       "      <td>2</td>\n",
       "      <td>0</td>\n",
       "      <td>0.0714</td>\n",
       "      <td>0</td>\n",
       "      <td>0</td>\n",
       "      <td>1.0</td>\n",
       "      <td>0.0</td>\n",
       "      <td>1.0</td>\n",
       "      <td>0.0</td>\n",
       "      <td>-828.0</td>\n",
       "      <td>0.0</td>\n",
       "      <td>1.0</td>\n",
       "      <td>0.0</td>\n",
       "      <td>0.0</td>\n",
       "      <td>0.0</td>\n",
       "      <td>0.0</td>\n",
       "      <td>0.0</td>\n",
       "      <td>0.0</td>\n",
       "      <td>0.0</td>\n",
       "      <td>0.0</td>\n",
       "      <td>0.0</td>\n",
       "      <td>0.0</td>\n",
       "      <td>0.0</td>\n",
       "      <td>0.0</td>\n",
       "      <td>0.0</td>\n",
       "      <td>0.0</td>\n",
       "      <td>0.0</td>\n",
       "      <td>0.0</td>\n",
       "      <td>0.0</td>\n",
       "      <td>0.0</td>\n",
       "      <td>0.0</td>\n",
       "      <td>0.0</td>\n",
       "      <td>0.0</td>\n",
       "      <td>0.0</td>\n",
       "      <td>0.0</td>\n",
       "      <td>0.0</td>\n",
       "      <td>2636178.0</td>\n",
       "      <td>1</td>\n",
       "      <td>64567.665</td>\n",
       "      <td>337500.0</td>\n",
       "      <td>348637.5</td>\n",
       "      <td>0.000000</td>\n",
       "      <td>337500.0</td>\n",
       "      <td>3</td>\n",
       "      <td>17.0</td>\n",
       "      <td>1</td>\n",
       "      <td>1.0</td>\n",
       "      <td>0.000000</td>\n",
       "      <td>23</td>\n",
       "      <td>0</td>\n",
       "      <td>-828.0</td>\n",
       "      <td>0</td>\n",
       "      <td>7</td>\n",
       "      <td>1</td>\n",
       "      <td>1</td>\n",
       "      <td>11</td>\n",
       "      <td>3</td>\n",
       "      <td>0</td>\n",
       "      <td>7</td>\n",
       "      <td>1400.0</td>\n",
       "      <td>5</td>\n",
       "      <td>6.0</td>\n",
       "      <td>4</td>\n",
       "      <td>11</td>\n",
       "      <td>365243.0</td>\n",
       "      <td>-797.0</td>\n",
       "      <td>-647.0</td>\n",
       "      <td>-647.0</td>\n",
       "      <td>-639.0</td>\n",
       "      <td>0.0</td>\n",
       "    </tr>\n",
       "    <tr>\n",
       "      <th>3</th>\n",
       "      <td>100003.0</td>\n",
       "      <td>0</td>\n",
       "      <td>0</td>\n",
       "      <td>0</td>\n",
       "      <td>0</td>\n",
       "      <td>0.0</td>\n",
       "      <td>270000.0</td>\n",
       "      <td>1293502.5</td>\n",
       "      <td>35698.5</td>\n",
       "      <td>1129500.0</td>\n",
       "      <td>1</td>\n",
       "      <td>2</td>\n",
       "      <td>1</td>\n",
       "      <td>1</td>\n",
       "      <td>1</td>\n",
       "      <td>0.003541</td>\n",
       "      <td>-16765.0</td>\n",
       "      <td>-1188.0</td>\n",
       "      <td>-1186.0</td>\n",
       "      <td>-291.0</td>\n",
       "      <td>1.0</td>\n",
       "      <td>1.0</td>\n",
       "      <td>0.0</td>\n",
       "      <td>1.0</td>\n",
       "      <td>1.0</td>\n",
       "      <td>0.0</td>\n",
       "      <td>3</td>\n",
       "      <td>2.0</td>\n",
       "      <td>1.0</td>\n",
       "      <td>1.0</td>\n",
       "      <td>1</td>\n",
       "      <td>11.0</td>\n",
       "      <td>0.0</td>\n",
       "      <td>0.0</td>\n",
       "      <td>0.0</td>\n",
       "      <td>0.0</td>\n",
       "      <td>0.0</td>\n",
       "      <td>0.0</td>\n",
       "      <td>39</td>\n",
       "      <td>0.622246</td>\n",
       "      <td>0.493176</td>\n",
       "      <td>0.0959</td>\n",
       "      <td>0.0529</td>\n",
       "      <td>0.9851</td>\n",
       "      <td>0.7960</td>\n",
       "      <td>0.0605</td>\n",
       "      <td>0.08</td>\n",
       "      <td>0.0345</td>\n",
       "      <td>0.2917</td>\n",
       "      <td>0.3333</td>\n",
       "      <td>0.0130</td>\n",
       "      <td>0.0773</td>\n",
       "      <td>0.0549</td>\n",
       "      <td>0.0039</td>\n",
       "      <td>0.0098</td>\n",
       "      <td>0.0924</td>\n",
       "      <td>0.0538</td>\n",
       "      <td>0.9851</td>\n",
       "      <td>0.8040</td>\n",
       "      <td>0.0497</td>\n",
       "      <td>0.0806</td>\n",
       "      <td>0.0345</td>\n",
       "      <td>0.0128</td>\n",
       "      <td>0.0790</td>\n",
       "      <td>0.0554</td>\n",
       "      <td>0.0</td>\n",
       "      <td>0.0</td>\n",
       "      <td>0.9851</td>\n",
       "      <td>2</td>\n",
       "      <td>0</td>\n",
       "      <td>0.0714</td>\n",
       "      <td>0</td>\n",
       "      <td>0</td>\n",
       "      <td>1.0</td>\n",
       "      <td>0.0</td>\n",
       "      <td>1.0</td>\n",
       "      <td>0.0</td>\n",
       "      <td>-828.0</td>\n",
       "      <td>0.0</td>\n",
       "      <td>1.0</td>\n",
       "      <td>0.0</td>\n",
       "      <td>0.0</td>\n",
       "      <td>0.0</td>\n",
       "      <td>0.0</td>\n",
       "      <td>0.0</td>\n",
       "      <td>0.0</td>\n",
       "      <td>0.0</td>\n",
       "      <td>0.0</td>\n",
       "      <td>0.0</td>\n",
       "      <td>0.0</td>\n",
       "      <td>0.0</td>\n",
       "      <td>0.0</td>\n",
       "      <td>0.0</td>\n",
       "      <td>0.0</td>\n",
       "      <td>0.0</td>\n",
       "      <td>0.0</td>\n",
       "      <td>0.0</td>\n",
       "      <td>0.0</td>\n",
       "      <td>0.0</td>\n",
       "      <td>0.0</td>\n",
       "      <td>0.0</td>\n",
       "      <td>0.0</td>\n",
       "      <td>0.0</td>\n",
       "      <td>0.0</td>\n",
       "      <td>2396755.0</td>\n",
       "      <td>1</td>\n",
       "      <td>6737.310</td>\n",
       "      <td>68809.5</td>\n",
       "      <td>68053.5</td>\n",
       "      <td>6885.000000</td>\n",
       "      <td>68809.5</td>\n",
       "      <td>2</td>\n",
       "      <td>15.0</td>\n",
       "      <td>1</td>\n",
       "      <td>1.0</td>\n",
       "      <td>0.100061</td>\n",
       "      <td>23</td>\n",
       "      <td>0</td>\n",
       "      <td>-2341.0</td>\n",
       "      <td>0</td>\n",
       "      <td>7</td>\n",
       "      <td>1</td>\n",
       "      <td>1</td>\n",
       "      <td>7</td>\n",
       "      <td>3</td>\n",
       "      <td>0</td>\n",
       "      <td>4</td>\n",
       "      <td>200.0</td>\n",
       "      <td>4</td>\n",
       "      <td>12.0</td>\n",
       "      <td>4</td>\n",
       "      <td>9</td>\n",
       "      <td>365243.0</td>\n",
       "      <td>-2310.0</td>\n",
       "      <td>-1980.0</td>\n",
       "      <td>-1980.0</td>\n",
       "      <td>-1976.0</td>\n",
       "      <td>1.0</td>\n",
       "    </tr>\n",
       "    <tr>\n",
       "      <th>48</th>\n",
       "      <td>100017.0</td>\n",
       "      <td>0</td>\n",
       "      <td>1</td>\n",
       "      <td>1</td>\n",
       "      <td>0</td>\n",
       "      <td>1.0</td>\n",
       "      <td>225000.0</td>\n",
       "      <td>918468.0</td>\n",
       "      <td>28966.5</td>\n",
       "      <td>697500.0</td>\n",
       "      <td>6</td>\n",
       "      <td>5</td>\n",
       "      <td>4</td>\n",
       "      <td>1</td>\n",
       "      <td>1</td>\n",
       "      <td>0.016612</td>\n",
       "      <td>-14086.0</td>\n",
       "      <td>-3028.0</td>\n",
       "      <td>-643.0</td>\n",
       "      <td>-4911.0</td>\n",
       "      <td>1.0</td>\n",
       "      <td>1.0</td>\n",
       "      <td>0.0</td>\n",
       "      <td>1.0</td>\n",
       "      <td>0.0</td>\n",
       "      <td>0.0</td>\n",
       "      <td>4</td>\n",
       "      <td>3.0</td>\n",
       "      <td>2.0</td>\n",
       "      <td>2.0</td>\n",
       "      <td>4</td>\n",
       "      <td>13.0</td>\n",
       "      <td>0.0</td>\n",
       "      <td>0.0</td>\n",
       "      <td>0.0</td>\n",
       "      <td>0.0</td>\n",
       "      <td>0.0</td>\n",
       "      <td>0.0</td>\n",
       "      <td>42</td>\n",
       "      <td>0.566907</td>\n",
       "      <td>0.770087</td>\n",
       "      <td>0.1474</td>\n",
       "      <td>0.0973</td>\n",
       "      <td>0.9806</td>\n",
       "      <td>0.7348</td>\n",
       "      <td>0.0582</td>\n",
       "      <td>0.16</td>\n",
       "      <td>0.1379</td>\n",
       "      <td>0.3333</td>\n",
       "      <td>0.3750</td>\n",
       "      <td>0.0931</td>\n",
       "      <td>0.1202</td>\n",
       "      <td>0.1397</td>\n",
       "      <td>0.0000</td>\n",
       "      <td>0.0000</td>\n",
       "      <td>0.1502</td>\n",
       "      <td>0.1010</td>\n",
       "      <td>0.9806</td>\n",
       "      <td>0.7452</td>\n",
       "      <td>0.0587</td>\n",
       "      <td>0.1611</td>\n",
       "      <td>0.1379</td>\n",
       "      <td>0.0952</td>\n",
       "      <td>0.1313</td>\n",
       "      <td>0.1456</td>\n",
       "      <td>0.0</td>\n",
       "      <td>0.0</td>\n",
       "      <td>0.9806</td>\n",
       "      <td>2</td>\n",
       "      <td>0</td>\n",
       "      <td>0.1417</td>\n",
       "      <td>4</td>\n",
       "      <td>0</td>\n",
       "      <td>0.0</td>\n",
       "      <td>0.0</td>\n",
       "      <td>0.0</td>\n",
       "      <td>0.0</td>\n",
       "      <td>-4.0</td>\n",
       "      <td>0.0</td>\n",
       "      <td>1.0</td>\n",
       "      <td>0.0</td>\n",
       "      <td>0.0</td>\n",
       "      <td>0.0</td>\n",
       "      <td>0.0</td>\n",
       "      <td>0.0</td>\n",
       "      <td>0.0</td>\n",
       "      <td>0.0</td>\n",
       "      <td>0.0</td>\n",
       "      <td>0.0</td>\n",
       "      <td>0.0</td>\n",
       "      <td>0.0</td>\n",
       "      <td>0.0</td>\n",
       "      <td>0.0</td>\n",
       "      <td>0.0</td>\n",
       "      <td>0.0</td>\n",
       "      <td>0.0</td>\n",
       "      <td>0.0</td>\n",
       "      <td>0.0</td>\n",
       "      <td>0.0</td>\n",
       "      <td>0.0</td>\n",
       "      <td>0.0</td>\n",
       "      <td>0.0</td>\n",
       "      <td>0.0</td>\n",
       "      <td>1.0</td>\n",
       "      <td>2769249.0</td>\n",
       "      <td>1</td>\n",
       "      <td>16967.295</td>\n",
       "      <td>158040.0</td>\n",
       "      <td>152721.0</td>\n",
       "      <td>15804.000000</td>\n",
       "      <td>158040.0</td>\n",
       "      <td>6</td>\n",
       "      <td>15.0</td>\n",
       "      <td>1</td>\n",
       "      <td>1.0</td>\n",
       "      <td>0.102133</td>\n",
       "      <td>23</td>\n",
       "      <td>0</td>\n",
       "      <td>-2441.0</td>\n",
       "      <td>0</td>\n",
       "      <td>7</td>\n",
       "      <td>6</td>\n",
       "      <td>0</td>\n",
       "      <td>11</td>\n",
       "      <td>3</td>\n",
       "      <td>0</td>\n",
       "      <td>7</td>\n",
       "      <td>408.0</td>\n",
       "      <td>5</td>\n",
       "      <td>10.0</td>\n",
       "      <td>3</td>\n",
       "      <td>12</td>\n",
       "      <td>365243.0</td>\n",
       "      <td>-2398.0</td>\n",
       "      <td>-2128.0</td>\n",
       "      <td>-2128.0</td>\n",
       "      <td>-2122.0</td>\n",
       "      <td>1.0</td>\n",
       "    </tr>\n",
       "  </tbody>\n",
       "</table>\n",
       "</div>"
      ],
      "text/plain": [
       "    SK_ID_CURR  NAME_CONTRACT_TYPE_x  CODE_GENDER  FLAG_OWN_CAR  FLAG_OWN_REALTY  CNT_CHILDREN  AMT_INCOME_TOTAL  AMT_CREDIT_x  AMT_ANNUITY_x  AMT_GOODS_PRICE_x  NAME_TYPE_SUITE_x  NAME_INCOME_TYPE  NAME_EDUCATION_TYPE  NAME_FAMILY_STATUS  NAME_HOUSING_TYPE  REGION_POPULATION_RELATIVE  DAYS_BIRTH  DAYS_EMPLOYED  DAYS_REGISTRATION  DAYS_ID_PUBLISH  FLAG_MOBIL  FLAG_EMP_PHONE  FLAG_WORK_PHONE  FLAG_CONT_MOBILE  FLAG_PHONE  FLAG_EMAIL  OCCUPATION_TYPE  CNT_FAM_MEMBERS  REGION_RATING_CLIENT  REGION_RATING_CLIENT_W_CITY  WEEKDAY_APPR_PROCESS_START_x  HOUR_APPR_PROCESS_START_x  REG_REGION_NOT_LIVE_REGION  REG_REGION_NOT_WORK_REGION  LIVE_REGION_NOT_WORK_REGION  REG_CITY_NOT_LIVE_CITY  REG_CITY_NOT_WORK_CITY  LIVE_CITY_NOT_WORK_CITY  ORGANIZATION_TYPE  EXT_SOURCE_2  EXT_SOURCE_3  APARTMENTS_AVG  BASEMENTAREA_AVG  YEARS_BEGINEXPLUATATION_AVG  YEARS_BUILD_AVG  COMMONAREA_AVG  ELEVATORS_AVG  ENTRANCES_AVG  FLOORSMAX_AVG  FLOORSMIN_AVG  LANDAREA_AVG  LIVINGAPARTMENTS_AVG  LIVINGAREA_AVG  \\\n",
       "0     100002.0                     0            1             0                1           0.0          202500.0      406597.5        24700.5           351000.0                  6                 5                    4                   3                  1                    0.018801     -9461.0         -637.0            -3648.0          -2120.0         1.0             1.0              0.0               1.0         1.0         0.0                8              1.0                   2.0                          2.0                             6                       10.0                         0.0                         0.0                          0.0                     0.0                     0.0                      0.0                  5      0.262949      0.139376          0.0247            0.0369                       0.9722           0.6192          0.0143           0.00         0.0690         0.0833         0.1250        0.0369                0.0202          0.0190   \n",
       "1     100003.0                     0            0             0                0           0.0          270000.0     1293502.5        35698.5          1129500.0                  1                 2                    1                   1                  1                    0.003541    -16765.0        -1188.0            -1186.0           -291.0         1.0             1.0              0.0               1.0         1.0         0.0                3              2.0                   1.0                          1.0                             1                       11.0                         0.0                         0.0                          0.0                     0.0                     0.0                      0.0                 39      0.622246      0.493176          0.0959            0.0529                       0.9851           0.7960          0.0605           0.08         0.0345         0.2917         0.3333        0.0130                0.0773          0.0549   \n",
       "2     100003.0                     0            0             0                0           0.0          270000.0     1293502.5        35698.5          1129500.0                  1                 2                    1                   1                  1                    0.003541    -16765.0        -1188.0            -1186.0           -291.0         1.0             1.0              0.0               1.0         1.0         0.0                3              2.0                   1.0                          1.0                             1                       11.0                         0.0                         0.0                          0.0                     0.0                     0.0                      0.0                 39      0.622246      0.493176          0.0959            0.0529                       0.9851           0.7960          0.0605           0.08         0.0345         0.2917         0.3333        0.0130                0.0773          0.0549   \n",
       "3     100003.0                     0            0             0                0           0.0          270000.0     1293502.5        35698.5          1129500.0                  1                 2                    1                   1                  1                    0.003541    -16765.0        -1188.0            -1186.0           -291.0         1.0             1.0              0.0               1.0         1.0         0.0                3              2.0                   1.0                          1.0                             1                       11.0                         0.0                         0.0                          0.0                     0.0                     0.0                      0.0                 39      0.622246      0.493176          0.0959            0.0529                       0.9851           0.7960          0.0605           0.08         0.0345         0.2917         0.3333        0.0130                0.0773          0.0549   \n",
       "48    100017.0                     0            1             1                0           1.0          225000.0      918468.0        28966.5           697500.0                  6                 5                    4                   1                  1                    0.016612    -14086.0        -3028.0             -643.0          -4911.0         1.0             1.0              0.0               1.0         0.0         0.0                4              3.0                   2.0                          2.0                             4                       13.0                         0.0                         0.0                          0.0                     0.0                     0.0                      0.0                 42      0.566907      0.770087          0.1474            0.0973                       0.9806           0.7348          0.0582           0.16         0.1379         0.3333         0.3750        0.0931                0.1202          0.1397   \n",
       "\n",
       "    NONLIVINGAPARTMENTS_AVG  NONLIVINGAREA_AVG  APARTMENTS_MODE  BASEMENTAREA_MODE  YEARS_BEGINEXPLUATATION_MODE  YEARS_BUILD_MODE  COMMONAREA_MODE  ELEVATORS_MODE  ENTRANCES_MODE  LANDAREA_MODE  LIVINGAPARTMENTS_MODE  LIVINGAREA_MODE  NONLIVINGAPARTMENTS_MODE  NONLIVINGAREA_MODE  YEARS_BEGINEXPLUATATION_MEDI  FONDKAPREMONT_MODE  HOUSETYPE_MODE  TOTALAREA_MODE  WALLSMATERIAL_MODE  EMERGENCYSTATE_MODE  OBS_30_CNT_SOCIAL_CIRCLE  DEF_30_CNT_SOCIAL_CIRCLE  OBS_60_CNT_SOCIAL_CIRCLE  DEF_60_CNT_SOCIAL_CIRCLE  DAYS_LAST_PHONE_CHANGE  FLAG_DOCUMENT_2  FLAG_DOCUMENT_3  FLAG_DOCUMENT_4  FLAG_DOCUMENT_5  FLAG_DOCUMENT_6  FLAG_DOCUMENT_7  FLAG_DOCUMENT_8  FLAG_DOCUMENT_9  FLAG_DOCUMENT_10  FLAG_DOCUMENT_11  FLAG_DOCUMENT_12  FLAG_DOCUMENT_13  FLAG_DOCUMENT_14  FLAG_DOCUMENT_15  FLAG_DOCUMENT_16  FLAG_DOCUMENT_17  FLAG_DOCUMENT_18  FLAG_DOCUMENT_19  FLAG_DOCUMENT_20  FLAG_DOCUMENT_21  AMT_REQ_CREDIT_BUREAU_HOUR  AMT_REQ_CREDIT_BUREAU_DAY  AMT_REQ_CREDIT_BUREAU_WEEK  AMT_REQ_CREDIT_BUREAU_MON  \\\n",
       "0                    0.0000             0.0000           0.0252             0.0383                        0.9722            0.6341           0.0144          0.0000          0.0690         0.0377                 0.0220           0.0198                       0.0                 0.0                        0.9722                   2               0          0.0149                   5                    0                       2.0                       2.0                       2.0                       2.0                 -1134.0              0.0              1.0              0.0              0.0              0.0              0.0              0.0              0.0               0.0               0.0               0.0               0.0               0.0               0.0               0.0               0.0               0.0               0.0               0.0               0.0                         0.0                        0.0                         0.0                        0.0   \n",
       "1                    0.0039             0.0098           0.0924             0.0538                        0.9851            0.8040           0.0497          0.0806          0.0345         0.0128                 0.0790           0.0554                       0.0                 0.0                        0.9851                   2               0          0.0714                   0                    0                       1.0                       0.0                       1.0                       0.0                  -828.0              0.0              1.0              0.0              0.0              0.0              0.0              0.0              0.0               0.0               0.0               0.0               0.0               0.0               0.0               0.0               0.0               0.0               0.0               0.0               0.0                         0.0                        0.0                         0.0                        0.0   \n",
       "2                    0.0039             0.0098           0.0924             0.0538                        0.9851            0.8040           0.0497          0.0806          0.0345         0.0128                 0.0790           0.0554                       0.0                 0.0                        0.9851                   2               0          0.0714                   0                    0                       1.0                       0.0                       1.0                       0.0                  -828.0              0.0              1.0              0.0              0.0              0.0              0.0              0.0              0.0               0.0               0.0               0.0               0.0               0.0               0.0               0.0               0.0               0.0               0.0               0.0               0.0                         0.0                        0.0                         0.0                        0.0   \n",
       "3                    0.0039             0.0098           0.0924             0.0538                        0.9851            0.8040           0.0497          0.0806          0.0345         0.0128                 0.0790           0.0554                       0.0                 0.0                        0.9851                   2               0          0.0714                   0                    0                       1.0                       0.0                       1.0                       0.0                  -828.0              0.0              1.0              0.0              0.0              0.0              0.0              0.0              0.0               0.0               0.0               0.0               0.0               0.0               0.0               0.0               0.0               0.0               0.0               0.0               0.0                         0.0                        0.0                         0.0                        0.0   \n",
       "48                   0.0000             0.0000           0.1502             0.1010                        0.9806            0.7452           0.0587          0.1611          0.1379         0.0952                 0.1313           0.1456                       0.0                 0.0                        0.9806                   2               0          0.1417                   4                    0                       0.0                       0.0                       0.0                       0.0                    -4.0              0.0              1.0              0.0              0.0              0.0              0.0              0.0              0.0               0.0               0.0               0.0               0.0               0.0               0.0               0.0               0.0               0.0               0.0               0.0               0.0                         0.0                        0.0                         0.0                        0.0   \n",
       "\n",
       "    AMT_REQ_CREDIT_BUREAU_QRT  AMT_REQ_CREDIT_BUREAU_YEAR  SK_ID_PREV  NAME_CONTRACT_TYPE_y  AMT_ANNUITY_y  AMT_APPLICATION  AMT_CREDIT_y  AMT_DOWN_PAYMENT  AMT_GOODS_PRICE_y  WEEKDAY_APPR_PROCESS_START_y  HOUR_APPR_PROCESS_START_y  FLAG_LAST_APPL_PER_CONTRACT  NFLAG_LAST_APPL_IN_DAY  RATE_DOWN_PAYMENT  NAME_CASH_LOAN_PURPOSE  NAME_CONTRACT_STATUS  DAYS_DECISION  NAME_PAYMENT_TYPE  CODE_REJECT_REASON  NAME_TYPE_SUITE_y  NAME_CLIENT_TYPE  NAME_GOODS_CATEGORY  NAME_PORTFOLIO  NAME_PRODUCT_TYPE  CHANNEL_TYPE  SELLERPLACE_AREA  NAME_SELLER_INDUSTRY  CNT_PAYMENT  NAME_YIELD_GROUP  PRODUCT_COMBINATION  DAYS_FIRST_DRAWING  DAYS_FIRST_DUE  DAYS_LAST_DUE_1ST_VERSION  DAYS_LAST_DUE  DAYS_TERMINATION  NFLAG_INSURED_ON_APPROVAL  \n",
       "0                         0.0                         1.0   1038818.0                     1       9251.775         179055.0      179055.0          0.000000           179055.0                             2                        9.0                            1                     1.0           0.000000                      23                     0         -606.0                  3                   7                  6                 0                   24               3                  0             7             500.0                     0         24.0                 3                   15            365243.0          -565.0                      125.0          -25.0             -17.0                        0.0  \n",
       "1                         0.0                         0.0   1810518.0                     0      98356.995         900000.0     1035882.0       7099.094943           900000.0                             0                       12.0                            1                     1.0           0.082142                      24                     0         -746.0                  3                   7                  6                 2                   26               2                  2             5              -1.0                    10         12.0                 3                    7            365243.0          -716.0                     -386.0         -536.0            -527.0                        1.0  \n",
       "2                         0.0                         0.0   2636178.0                     1      64567.665         337500.0      348637.5          0.000000           337500.0                             3                       17.0                            1                     1.0           0.000000                      23                     0         -828.0                  0                   7                  1                 1                   11               3                  0             7            1400.0                     5          6.0                 4                   11            365243.0          -797.0                     -647.0         -647.0            -639.0                        0.0  \n",
       "3                         0.0                         0.0   2396755.0                     1       6737.310          68809.5       68053.5       6885.000000            68809.5                             2                       15.0                            1                     1.0           0.100061                      23                     0        -2341.0                  0                   7                  1                 1                    7               3                  0             4             200.0                     4         12.0                 4                    9            365243.0         -2310.0                    -1980.0        -1980.0           -1976.0                        1.0  \n",
       "48                        0.0                         1.0   2769249.0                     1      16967.295         158040.0      152721.0      15804.000000           158040.0                             6                       15.0                            1                     1.0           0.102133                      23                     0        -2441.0                  0                   7                  6                 0                   11               3                  0             7             408.0                     5         10.0                 3                   12            365243.0         -2398.0                    -2128.0        -2128.0           -2122.0                        1.0  "
      ]
     },
     "execution_count": 35,
     "metadata": {},
     "output_type": "execute_result"
    }
   ],
   "source": [
    "df_new.head()"
   ]
  },
  {
   "cell_type": "code",
   "execution_count": 36,
   "id": "95166028",
   "metadata": {},
   "outputs": [
    {
     "data": {
      "text/plain": [
       "['SK_ID_CURR',\n",
       " 'TARGET',\n",
       " 'CNT_CHILDREN',\n",
       " 'AMT_INCOME_TOTAL',\n",
       " 'AMT_CREDIT_x',\n",
       " 'AMT_ANNUITY_x',\n",
       " 'AMT_GOODS_PRICE_x',\n",
       " 'REGION_POPULATION_RELATIVE',\n",
       " 'DAYS_BIRTH',\n",
       " 'DAYS_EMPLOYED',\n",
       " 'DAYS_REGISTRATION',\n",
       " 'DAYS_ID_PUBLISH',\n",
       " 'FLAG_MOBIL',\n",
       " 'FLAG_EMP_PHONE',\n",
       " 'FLAG_WORK_PHONE',\n",
       " 'FLAG_CONT_MOBILE',\n",
       " 'FLAG_PHONE',\n",
       " 'FLAG_EMAIL',\n",
       " 'CNT_FAM_MEMBERS',\n",
       " 'REGION_RATING_CLIENT',\n",
       " 'REGION_RATING_CLIENT_W_CITY',\n",
       " 'HOUR_APPR_PROCESS_START_x',\n",
       " 'REG_REGION_NOT_LIVE_REGION',\n",
       " 'REG_REGION_NOT_WORK_REGION',\n",
       " 'LIVE_REGION_NOT_WORK_REGION',\n",
       " 'REG_CITY_NOT_LIVE_CITY',\n",
       " 'REG_CITY_NOT_WORK_CITY',\n",
       " 'LIVE_CITY_NOT_WORK_CITY',\n",
       " 'EXT_SOURCE_2',\n",
       " 'EXT_SOURCE_3',\n",
       " 'APARTMENTS_AVG',\n",
       " 'BASEMENTAREA_AVG',\n",
       " 'YEARS_BEGINEXPLUATATION_AVG',\n",
       " 'YEARS_BUILD_AVG',\n",
       " 'COMMONAREA_AVG',\n",
       " 'ELEVATORS_AVG',\n",
       " 'ENTRANCES_AVG',\n",
       " 'FLOORSMAX_AVG',\n",
       " 'FLOORSMIN_AVG',\n",
       " 'LANDAREA_AVG',\n",
       " 'LIVINGAPARTMENTS_AVG',\n",
       " 'LIVINGAREA_AVG',\n",
       " 'NONLIVINGAPARTMENTS_AVG',\n",
       " 'NONLIVINGAREA_AVG',\n",
       " 'APARTMENTS_MODE',\n",
       " 'BASEMENTAREA_MODE',\n",
       " 'YEARS_BEGINEXPLUATATION_MODE',\n",
       " 'YEARS_BUILD_MODE',\n",
       " 'COMMONAREA_MODE',\n",
       " 'ELEVATORS_MODE',\n",
       " 'ENTRANCES_MODE',\n",
       " 'LANDAREA_MODE',\n",
       " 'LIVINGAPARTMENTS_MODE',\n",
       " 'LIVINGAREA_MODE',\n",
       " 'NONLIVINGAPARTMENTS_MODE',\n",
       " 'NONLIVINGAREA_MODE',\n",
       " 'YEARS_BEGINEXPLUATATION_MEDI',\n",
       " 'TOTALAREA_MODE',\n",
       " 'OBS_30_CNT_SOCIAL_CIRCLE',\n",
       " 'DEF_30_CNT_SOCIAL_CIRCLE',\n",
       " 'OBS_60_CNT_SOCIAL_CIRCLE',\n",
       " 'DEF_60_CNT_SOCIAL_CIRCLE',\n",
       " 'DAYS_LAST_PHONE_CHANGE',\n",
       " 'FLAG_DOCUMENT_2',\n",
       " 'FLAG_DOCUMENT_3',\n",
       " 'FLAG_DOCUMENT_4',\n",
       " 'FLAG_DOCUMENT_5',\n",
       " 'FLAG_DOCUMENT_6',\n",
       " 'FLAG_DOCUMENT_7',\n",
       " 'FLAG_DOCUMENT_8',\n",
       " 'FLAG_DOCUMENT_9',\n",
       " 'FLAG_DOCUMENT_10',\n",
       " 'FLAG_DOCUMENT_11',\n",
       " 'FLAG_DOCUMENT_12',\n",
       " 'FLAG_DOCUMENT_13',\n",
       " 'FLAG_DOCUMENT_14',\n",
       " 'FLAG_DOCUMENT_15',\n",
       " 'FLAG_DOCUMENT_16',\n",
       " 'FLAG_DOCUMENT_17',\n",
       " 'FLAG_DOCUMENT_18',\n",
       " 'FLAG_DOCUMENT_19',\n",
       " 'FLAG_DOCUMENT_20',\n",
       " 'FLAG_DOCUMENT_21',\n",
       " 'AMT_REQ_CREDIT_BUREAU_HOUR',\n",
       " 'AMT_REQ_CREDIT_BUREAU_DAY',\n",
       " 'AMT_REQ_CREDIT_BUREAU_WEEK',\n",
       " 'AMT_REQ_CREDIT_BUREAU_MON',\n",
       " 'AMT_REQ_CREDIT_BUREAU_QRT',\n",
       " 'AMT_REQ_CREDIT_BUREAU_YEAR',\n",
       " 'SK_ID_PREV',\n",
       " 'AMT_ANNUITY_y',\n",
       " 'AMT_APPLICATION',\n",
       " 'AMT_CREDIT_y',\n",
       " 'AMT_DOWN_PAYMENT',\n",
       " 'AMT_GOODS_PRICE_y',\n",
       " 'HOUR_APPR_PROCESS_START_y',\n",
       " 'NFLAG_LAST_APPL_IN_DAY',\n",
       " 'RATE_DOWN_PAYMENT',\n",
       " 'DAYS_DECISION',\n",
       " 'SELLERPLACE_AREA',\n",
       " 'CNT_PAYMENT',\n",
       " 'DAYS_FIRST_DRAWING',\n",
       " 'DAYS_FIRST_DUE',\n",
       " 'DAYS_LAST_DUE_1ST_VERSION',\n",
       " 'DAYS_LAST_DUE',\n",
       " 'DAYS_TERMINATION',\n",
       " 'NFLAG_INSURED_ON_APPROVAL']"
      ]
     },
     "execution_count": 36,
     "metadata": {},
     "output_type": "execute_result"
    }
   ],
   "source": [
    "list(num_dat)"
   ]
  },
  {
   "cell_type": "code",
   "execution_count": 37,
   "id": "8c2eed7d",
   "metadata": {},
   "outputs": [],
   "source": [
    "num_col = ['SK_ID_CURR','TARGET','CNT_CHILDREN','AMT_INCOME_TOTAL','AMT_CREDIT_x','AMT_ANNUITY_x','AMT_GOODS_PRICE_x',\n",
    "        'REGION_POPULATION_RELATIVE','DAYS_BIRTH','DAYS_EMPLOYED','DAYS_REGISTRATION','DAYS_ID_PUBLISH','FLAG_MOBIL',\n",
    "        'FLAG_EMP_PHONE','FLAG_WORK_PHONE','FLAG_CONT_MOBILE','FLAG_PHONE','FLAG_EMAIL','CNT_FAM_MEMBERS',\n",
    "        'REGION_RATING_CLIENT','REGION_RATING_CLIENT_W_CITY','HOUR_APPR_PROCESS_START_x','REG_REGION_NOT_LIVE_REGION',\n",
    "        'REG_REGION_NOT_WORK_REGION','LIVE_REGION_NOT_WORK_REGION','REG_CITY_NOT_LIVE_CITY','REG_CITY_NOT_WORK_CITY',\n",
    "        'LIVE_CITY_NOT_WORK_CITY','EXT_SOURCE_2','EXT_SOURCE_3','APARTMENTS_AVG','BASEMENTAREA_AVG',\n",
    "        'YEARS_BEGINEXPLUATATION_AVG','YEARS_BUILD_AVG','COMMONAREA_AVG','ELEVATORS_AVG','ENTRANCES_AVG','FLOORSMAX_AVG',\n",
    "        'FLOORSMIN_AVG','LANDAREA_AVG','LIVINGAPARTMENTS_AVG','LIVINGAREA_AVG','NONLIVINGAPARTMENTS_AVG','NONLIVINGAREA_AVG',\n",
    "        'APARTMENTS_MODE','BASEMENTAREA_MODE','YEARS_BEGINEXPLUATATION_MODE','YEARS_BUILD_MODE','COMMONAREA_MODE',\n",
    "        'ELEVATORS_MODE','ENTRANCES_MODE','LANDAREA_MODE','LIVINGAPARTMENTS_MODE','LIVINGAREA_MODE',\n",
    "        'NONLIVINGAPARTMENTS_MODE','NONLIVINGAREA_MODE','YEARS_BEGINEXPLUATATION_MEDI','TOTALAREA_MODE',\n",
    "        'OBS_30_CNT_SOCIAL_CIRCLE','DEF_30_CNT_SOCIAL_CIRCLE','OBS_60_CNT_SOCIAL_CIRCLE','DEF_60_CNT_SOCIAL_CIRCLE',\n",
    "        'DAYS_LAST_PHONE_CHANGE','FLAG_DOCUMENT_2','FLAG_DOCUMENT_3','FLAG_DOCUMENT_4','FLAG_DOCUMENT_5','FLAG_DOCUMENT_6',\n",
    "        'FLAG_DOCUMENT_7','FLAG_DOCUMENT_8','FLAG_DOCUMENT_9','FLAG_DOCUMENT_10','FLAG_DOCUMENT_11','FLAG_DOCUMENT_12',\n",
    "        'FLAG_DOCUMENT_13','FLAG_DOCUMENT_14','FLAG_DOCUMENT_15','FLAG_DOCUMENT_16','FLAG_DOCUMENT_17','FLAG_DOCUMENT_18',\n",
    "        'FLAG_DOCUMENT_19','FLAG_DOCUMENT_20','FLAG_DOCUMENT_21','AMT_REQ_CREDIT_BUREAU_HOUR','AMT_REQ_CREDIT_BUREAU_DAY',\n",
    "        'AMT_REQ_CREDIT_BUREAU_WEEK','AMT_REQ_CREDIT_BUREAU_MON','AMT_REQ_CREDIT_BUREAU_QRT','AMT_REQ_CREDIT_BUREAU_YEAR',\n",
    "        'SK_ID_PREV','AMT_ANNUITY_y','AMT_APPLICATION','AMT_CREDIT_y','AMT_GOODS_PRICE_y','HOUR_APPR_PROCESS_START_y',\n",
    "        'NFLAG_LAST_APPL_IN_DAY','DAYS_DECISION','SELLERPLACE_AREA','CNT_PAYMENT','DAYS_FIRST_DRAWING','DAYS_FIRST_DUE',\n",
    "        'DAYS_LAST_DUE_1ST_VERSION','DAYS_LAST_DUE','DAYS_TERMINATION','NFLAG_INSURED_ON_APPROVAL']"
   ]
  },
  {
   "cell_type": "markdown",
   "id": "b00441c5",
   "metadata": {},
   "source": [
    "**Scaling for numerical values using Min Max Scaler**"
   ]
  },
  {
   "cell_type": "code",
   "execution_count": 38,
   "id": "f3ad2189",
   "metadata": {},
   "outputs": [],
   "source": [
    "from sklearn.preprocessing import MinMaxScaler\n",
    "scaler = MinMaxScaler()"
   ]
  },
  {
   "cell_type": "code",
   "execution_count": 39,
   "id": "0726ed1f",
   "metadata": {},
   "outputs": [],
   "source": [
    "df_new = df_new.drop(['SK_ID_CURR'],axis=1)"
   ]
  },
  {
   "cell_type": "code",
   "execution_count": 40,
   "id": "f38db740",
   "metadata": {},
   "outputs": [],
   "source": [
    "for col in df_new.columns:\n",
    "    df_new[[col]] = scaler.fit_transform(df_new[[col]])"
   ]
  },
  {
   "cell_type": "code",
   "execution_count": 41,
   "id": "f7e4cfb6",
   "metadata": {},
   "outputs": [],
   "source": [
    "df_new['SK_ID_CURR'] = df_3['SK_ID_CURR']"
   ]
  },
  {
   "cell_type": "code",
   "execution_count": 42,
   "id": "512e54b4",
   "metadata": {},
   "outputs": [],
   "source": [
    "x = df_new.copy()"
   ]
  },
  {
   "cell_type": "code",
   "execution_count": 43,
   "id": "ae107d2a",
   "metadata": {},
   "outputs": [],
   "source": [
    "colms = x.columns.tolist()\n",
    "colms = colms[-1:] + colms[:-1]\n",
    "x = x[colms]"
   ]
  },
  {
   "cell_type": "code",
   "execution_count": 44,
   "id": "3bdf1bba",
   "metadata": {},
   "outputs": [
    {
     "data": {
      "text/html": [
       "<div>\n",
       "<style scoped>\n",
       "    .dataframe tbody tr th:only-of-type {\n",
       "        vertical-align: middle;\n",
       "    }\n",
       "\n",
       "    .dataframe tbody tr th {\n",
       "        vertical-align: top;\n",
       "    }\n",
       "\n",
       "    .dataframe thead th {\n",
       "        text-align: right;\n",
       "    }\n",
       "</style>\n",
       "<table border=\"1\" class=\"dataframe\">\n",
       "  <thead>\n",
       "    <tr style=\"text-align: right;\">\n",
       "      <th></th>\n",
       "      <th>SK_ID_CURR</th>\n",
       "      <th>NAME_CONTRACT_TYPE_x</th>\n",
       "      <th>CODE_GENDER</th>\n",
       "      <th>FLAG_OWN_CAR</th>\n",
       "      <th>FLAG_OWN_REALTY</th>\n",
       "      <th>CNT_CHILDREN</th>\n",
       "      <th>AMT_INCOME_TOTAL</th>\n",
       "      <th>AMT_CREDIT_x</th>\n",
       "      <th>AMT_ANNUITY_x</th>\n",
       "      <th>AMT_GOODS_PRICE_x</th>\n",
       "      <th>NAME_TYPE_SUITE_x</th>\n",
       "      <th>NAME_INCOME_TYPE</th>\n",
       "      <th>NAME_EDUCATION_TYPE</th>\n",
       "      <th>NAME_FAMILY_STATUS</th>\n",
       "      <th>NAME_HOUSING_TYPE</th>\n",
       "      <th>REGION_POPULATION_RELATIVE</th>\n",
       "      <th>DAYS_BIRTH</th>\n",
       "      <th>DAYS_EMPLOYED</th>\n",
       "      <th>DAYS_REGISTRATION</th>\n",
       "      <th>DAYS_ID_PUBLISH</th>\n",
       "      <th>FLAG_MOBIL</th>\n",
       "      <th>FLAG_EMP_PHONE</th>\n",
       "      <th>FLAG_WORK_PHONE</th>\n",
       "      <th>FLAG_CONT_MOBILE</th>\n",
       "      <th>FLAG_PHONE</th>\n",
       "      <th>FLAG_EMAIL</th>\n",
       "      <th>OCCUPATION_TYPE</th>\n",
       "      <th>CNT_FAM_MEMBERS</th>\n",
       "      <th>REGION_RATING_CLIENT</th>\n",
       "      <th>REGION_RATING_CLIENT_W_CITY</th>\n",
       "      <th>WEEKDAY_APPR_PROCESS_START_x</th>\n",
       "      <th>HOUR_APPR_PROCESS_START_x</th>\n",
       "      <th>REG_REGION_NOT_LIVE_REGION</th>\n",
       "      <th>REG_REGION_NOT_WORK_REGION</th>\n",
       "      <th>LIVE_REGION_NOT_WORK_REGION</th>\n",
       "      <th>REG_CITY_NOT_LIVE_CITY</th>\n",
       "      <th>REG_CITY_NOT_WORK_CITY</th>\n",
       "      <th>LIVE_CITY_NOT_WORK_CITY</th>\n",
       "      <th>ORGANIZATION_TYPE</th>\n",
       "      <th>EXT_SOURCE_2</th>\n",
       "      <th>EXT_SOURCE_3</th>\n",
       "      <th>APARTMENTS_AVG</th>\n",
       "      <th>BASEMENTAREA_AVG</th>\n",
       "      <th>YEARS_BEGINEXPLUATATION_AVG</th>\n",
       "      <th>YEARS_BUILD_AVG</th>\n",
       "      <th>COMMONAREA_AVG</th>\n",
       "      <th>ELEVATORS_AVG</th>\n",
       "      <th>ENTRANCES_AVG</th>\n",
       "      <th>FLOORSMAX_AVG</th>\n",
       "      <th>FLOORSMIN_AVG</th>\n",
       "      <th>LANDAREA_AVG</th>\n",
       "      <th>LIVINGAPARTMENTS_AVG</th>\n",
       "      <th>LIVINGAREA_AVG</th>\n",
       "      <th>NONLIVINGAPARTMENTS_AVG</th>\n",
       "      <th>NONLIVINGAREA_AVG</th>\n",
       "      <th>APARTMENTS_MODE</th>\n",
       "      <th>BASEMENTAREA_MODE</th>\n",
       "      <th>YEARS_BEGINEXPLUATATION_MODE</th>\n",
       "      <th>YEARS_BUILD_MODE</th>\n",
       "      <th>COMMONAREA_MODE</th>\n",
       "      <th>ELEVATORS_MODE</th>\n",
       "      <th>ENTRANCES_MODE</th>\n",
       "      <th>LANDAREA_MODE</th>\n",
       "      <th>LIVINGAPARTMENTS_MODE</th>\n",
       "      <th>LIVINGAREA_MODE</th>\n",
       "      <th>NONLIVINGAPARTMENTS_MODE</th>\n",
       "      <th>NONLIVINGAREA_MODE</th>\n",
       "      <th>YEARS_BEGINEXPLUATATION_MEDI</th>\n",
       "      <th>FONDKAPREMONT_MODE</th>\n",
       "      <th>HOUSETYPE_MODE</th>\n",
       "      <th>TOTALAREA_MODE</th>\n",
       "      <th>WALLSMATERIAL_MODE</th>\n",
       "      <th>EMERGENCYSTATE_MODE</th>\n",
       "      <th>OBS_30_CNT_SOCIAL_CIRCLE</th>\n",
       "      <th>DEF_30_CNT_SOCIAL_CIRCLE</th>\n",
       "      <th>OBS_60_CNT_SOCIAL_CIRCLE</th>\n",
       "      <th>DEF_60_CNT_SOCIAL_CIRCLE</th>\n",
       "      <th>DAYS_LAST_PHONE_CHANGE</th>\n",
       "      <th>FLAG_DOCUMENT_2</th>\n",
       "      <th>FLAG_DOCUMENT_3</th>\n",
       "      <th>FLAG_DOCUMENT_4</th>\n",
       "      <th>FLAG_DOCUMENT_5</th>\n",
       "      <th>FLAG_DOCUMENT_6</th>\n",
       "      <th>FLAG_DOCUMENT_7</th>\n",
       "      <th>FLAG_DOCUMENT_8</th>\n",
       "      <th>FLAG_DOCUMENT_9</th>\n",
       "      <th>FLAG_DOCUMENT_10</th>\n",
       "      <th>FLAG_DOCUMENT_11</th>\n",
       "      <th>FLAG_DOCUMENT_12</th>\n",
       "      <th>FLAG_DOCUMENT_13</th>\n",
       "      <th>FLAG_DOCUMENT_14</th>\n",
       "      <th>FLAG_DOCUMENT_15</th>\n",
       "      <th>FLAG_DOCUMENT_16</th>\n",
       "      <th>FLAG_DOCUMENT_17</th>\n",
       "      <th>FLAG_DOCUMENT_18</th>\n",
       "      <th>FLAG_DOCUMENT_19</th>\n",
       "      <th>FLAG_DOCUMENT_20</th>\n",
       "      <th>FLAG_DOCUMENT_21</th>\n",
       "      <th>AMT_REQ_CREDIT_BUREAU_HOUR</th>\n",
       "      <th>AMT_REQ_CREDIT_BUREAU_DAY</th>\n",
       "      <th>AMT_REQ_CREDIT_BUREAU_WEEK</th>\n",
       "      <th>AMT_REQ_CREDIT_BUREAU_MON</th>\n",
       "      <th>AMT_REQ_CREDIT_BUREAU_QRT</th>\n",
       "      <th>AMT_REQ_CREDIT_BUREAU_YEAR</th>\n",
       "      <th>SK_ID_PREV</th>\n",
       "      <th>NAME_CONTRACT_TYPE_y</th>\n",
       "      <th>AMT_ANNUITY_y</th>\n",
       "      <th>AMT_APPLICATION</th>\n",
       "      <th>AMT_CREDIT_y</th>\n",
       "      <th>AMT_DOWN_PAYMENT</th>\n",
       "      <th>AMT_GOODS_PRICE_y</th>\n",
       "      <th>WEEKDAY_APPR_PROCESS_START_y</th>\n",
       "      <th>HOUR_APPR_PROCESS_START_y</th>\n",
       "      <th>FLAG_LAST_APPL_PER_CONTRACT</th>\n",
       "      <th>NFLAG_LAST_APPL_IN_DAY</th>\n",
       "      <th>RATE_DOWN_PAYMENT</th>\n",
       "      <th>NAME_CASH_LOAN_PURPOSE</th>\n",
       "      <th>NAME_CONTRACT_STATUS</th>\n",
       "      <th>DAYS_DECISION</th>\n",
       "      <th>NAME_PAYMENT_TYPE</th>\n",
       "      <th>CODE_REJECT_REASON</th>\n",
       "      <th>NAME_TYPE_SUITE_y</th>\n",
       "      <th>NAME_CLIENT_TYPE</th>\n",
       "      <th>NAME_GOODS_CATEGORY</th>\n",
       "      <th>NAME_PORTFOLIO</th>\n",
       "      <th>NAME_PRODUCT_TYPE</th>\n",
       "      <th>CHANNEL_TYPE</th>\n",
       "      <th>SELLERPLACE_AREA</th>\n",
       "      <th>NAME_SELLER_INDUSTRY</th>\n",
       "      <th>CNT_PAYMENT</th>\n",
       "      <th>NAME_YIELD_GROUP</th>\n",
       "      <th>PRODUCT_COMBINATION</th>\n",
       "      <th>DAYS_FIRST_DRAWING</th>\n",
       "      <th>DAYS_FIRST_DUE</th>\n",
       "      <th>DAYS_LAST_DUE_1ST_VERSION</th>\n",
       "      <th>DAYS_LAST_DUE</th>\n",
       "      <th>DAYS_TERMINATION</th>\n",
       "      <th>NFLAG_INSURED_ON_APPROVAL</th>\n",
       "    </tr>\n",
       "  </thead>\n",
       "  <tbody>\n",
       "    <tr>\n",
       "      <th>0</th>\n",
       "      <td>100002.0</td>\n",
       "      <td>0.0</td>\n",
       "      <td>0.5</td>\n",
       "      <td>0.0</td>\n",
       "      <td>1.0</td>\n",
       "      <td>0.000000</td>\n",
       "      <td>0.039235</td>\n",
       "      <td>0.090287</td>\n",
       "      <td>0.103313</td>\n",
       "      <td>0.076404</td>\n",
       "      <td>1.000000</td>\n",
       "      <td>1.0</td>\n",
       "      <td>1.00</td>\n",
       "      <td>0.75</td>\n",
       "      <td>0.2</td>\n",
       "      <td>0.256321</td>\n",
       "      <td>0.898225</td>\n",
       "      <td>0.045086</td>\n",
       "      <td>0.840893</td>\n",
       "      <td>0.676385</td>\n",
       "      <td>0.0</td>\n",
       "      <td>1.0</td>\n",
       "      <td>0.0</td>\n",
       "      <td>1.0</td>\n",
       "      <td>1.0</td>\n",
       "      <td>0.0</td>\n",
       "      <td>0.470588</td>\n",
       "      <td>0.000000</td>\n",
       "      <td>0.5</td>\n",
       "      <td>0.5</td>\n",
       "      <td>1.000000</td>\n",
       "      <td>0.434783</td>\n",
       "      <td>0.0</td>\n",
       "      <td>0.0</td>\n",
       "      <td>0.0</td>\n",
       "      <td>0.0</td>\n",
       "      <td>0.0</td>\n",
       "      <td>0.0</td>\n",
       "      <td>0.087719</td>\n",
       "      <td>0.307542</td>\n",
       "      <td>0.155407</td>\n",
       "      <td>0.0247</td>\n",
       "      <td>0.0369</td>\n",
       "      <td>0.965500</td>\n",
       "      <td>0.6192</td>\n",
       "      <td>0.0143</td>\n",
       "      <td>0.00</td>\n",
       "      <td>0.0690</td>\n",
       "      <td>0.0833</td>\n",
       "      <td>0.1250</td>\n",
       "      <td>0.0369</td>\n",
       "      <td>0.0202</td>\n",
       "      <td>0.0190</td>\n",
       "      <td>0.0000</td>\n",
       "      <td>0.0000</td>\n",
       "      <td>0.0252</td>\n",
       "      <td>0.0383</td>\n",
       "      <td>0.9722</td>\n",
       "      <td>0.6341</td>\n",
       "      <td>0.0144</td>\n",
       "      <td>0.0000</td>\n",
       "      <td>0.0690</td>\n",
       "      <td>0.0377</td>\n",
       "      <td>0.0220</td>\n",
       "      <td>0.0198</td>\n",
       "      <td>0.0</td>\n",
       "      <td>0.0</td>\n",
       "      <td>0.9722</td>\n",
       "      <td>0.666667</td>\n",
       "      <td>0.0</td>\n",
       "      <td>0.0149</td>\n",
       "      <td>0.833333</td>\n",
       "      <td>0.0</td>\n",
       "      <td>0.071429</td>\n",
       "      <td>0.333333</td>\n",
       "      <td>0.071429</td>\n",
       "      <td>0.333333</td>\n",
       "      <td>0.735788</td>\n",
       "      <td>0.0</td>\n",
       "      <td>1.0</td>\n",
       "      <td>0.0</td>\n",
       "      <td>0.0</td>\n",
       "      <td>0.0</td>\n",
       "      <td>0.0</td>\n",
       "      <td>0.0</td>\n",
       "      <td>0.0</td>\n",
       "      <td>0.0</td>\n",
       "      <td>0.0</td>\n",
       "      <td>0.0</td>\n",
       "      <td>0.0</td>\n",
       "      <td>0.0</td>\n",
       "      <td>0.0</td>\n",
       "      <td>0.0</td>\n",
       "      <td>0.0</td>\n",
       "      <td>0.0</td>\n",
       "      <td>0.0</td>\n",
       "      <td>0.0</td>\n",
       "      <td>0.0</td>\n",
       "      <td>0.0</td>\n",
       "      <td>0.0</td>\n",
       "      <td>0.0</td>\n",
       "      <td>0.0</td>\n",
       "      <td>0.0</td>\n",
       "      <td>0.052632</td>\n",
       "      <td>0.021035</td>\n",
       "      <td>0.333333</td>\n",
       "      <td>0.022137</td>\n",
       "      <td>0.030608</td>\n",
       "      <td>0.039705</td>\n",
       "      <td>0.000000</td>\n",
       "      <td>0.030608</td>\n",
       "      <td>0.333333</td>\n",
       "      <td>0.391304</td>\n",
       "      <td>1.0</td>\n",
       "      <td>1.0</td>\n",
       "      <td>0.000000</td>\n",
       "      <td>0.958333</td>\n",
       "      <td>0.0</td>\n",
       "      <td>0.793151</td>\n",
       "      <td>1.0</td>\n",
       "      <td>0.875</td>\n",
       "      <td>1.000000</td>\n",
       "      <td>0.000000</td>\n",
       "      <td>0.923077</td>\n",
       "      <td>0.75</td>\n",
       "      <td>0.0</td>\n",
       "      <td>1.000000</td>\n",
       "      <td>0.000125</td>\n",
       "      <td>0.0</td>\n",
       "      <td>0.333333</td>\n",
       "      <td>0.75</td>\n",
       "      <td>0.9375</td>\n",
       "      <td>1.0</td>\n",
       "      <td>0.006321</td>\n",
       "      <td>0.007950</td>\n",
       "      <td>0.007769</td>\n",
       "      <td>0.007750</td>\n",
       "      <td>0.0</td>\n",
       "    </tr>\n",
       "    <tr>\n",
       "      <th>1</th>\n",
       "      <td>100003.0</td>\n",
       "      <td>0.0</td>\n",
       "      <td>0.0</td>\n",
       "      <td>0.0</td>\n",
       "      <td>0.0</td>\n",
       "      <td>0.000000</td>\n",
       "      <td>0.054326</td>\n",
       "      <td>0.311736</td>\n",
       "      <td>0.153732</td>\n",
       "      <td>0.270787</td>\n",
       "      <td>0.166667</td>\n",
       "      <td>0.4</td>\n",
       "      <td>0.25</td>\n",
       "      <td>0.25</td>\n",
       "      <td>0.2</td>\n",
       "      <td>0.045016</td>\n",
       "      <td>0.481306</td>\n",
       "      <td>0.043648</td>\n",
       "      <td>0.948273</td>\n",
       "      <td>0.955579</td>\n",
       "      <td>0.0</td>\n",
       "      <td>1.0</td>\n",
       "      <td>0.0</td>\n",
       "      <td>1.0</td>\n",
       "      <td>1.0</td>\n",
       "      <td>0.0</td>\n",
       "      <td>0.176471</td>\n",
       "      <td>0.052632</td>\n",
       "      <td>0.0</td>\n",
       "      <td>0.0</td>\n",
       "      <td>0.166667</td>\n",
       "      <td>0.478261</td>\n",
       "      <td>0.0</td>\n",
       "      <td>0.0</td>\n",
       "      <td>0.0</td>\n",
       "      <td>0.0</td>\n",
       "      <td>0.0</td>\n",
       "      <td>0.0</td>\n",
       "      <td>0.684211</td>\n",
       "      <td>0.727773</td>\n",
       "      <td>0.551402</td>\n",
       "      <td>0.0959</td>\n",
       "      <td>0.0529</td>\n",
       "      <td>0.981509</td>\n",
       "      <td>0.7960</td>\n",
       "      <td>0.0605</td>\n",
       "      <td>0.08</td>\n",
       "      <td>0.0345</td>\n",
       "      <td>0.2917</td>\n",
       "      <td>0.3333</td>\n",
       "      <td>0.0130</td>\n",
       "      <td>0.0773</td>\n",
       "      <td>0.0549</td>\n",
       "      <td>0.0039</td>\n",
       "      <td>0.0098</td>\n",
       "      <td>0.0924</td>\n",
       "      <td>0.0538</td>\n",
       "      <td>0.9851</td>\n",
       "      <td>0.8040</td>\n",
       "      <td>0.0497</td>\n",
       "      <td>0.0806</td>\n",
       "      <td>0.0345</td>\n",
       "      <td>0.0128</td>\n",
       "      <td>0.0790</td>\n",
       "      <td>0.0554</td>\n",
       "      <td>0.0</td>\n",
       "      <td>0.0</td>\n",
       "      <td>0.9851</td>\n",
       "      <td>0.666667</td>\n",
       "      <td>0.0</td>\n",
       "      <td>0.0714</td>\n",
       "      <td>0.000000</td>\n",
       "      <td>0.0</td>\n",
       "      <td>0.035714</td>\n",
       "      <td>0.000000</td>\n",
       "      <td>0.035714</td>\n",
       "      <td>0.000000</td>\n",
       "      <td>0.807083</td>\n",
       "      <td>0.0</td>\n",
       "      <td>1.0</td>\n",
       "      <td>0.0</td>\n",
       "      <td>0.0</td>\n",
       "      <td>0.0</td>\n",
       "      <td>0.0</td>\n",
       "      <td>0.0</td>\n",
       "      <td>0.0</td>\n",
       "      <td>0.0</td>\n",
       "      <td>0.0</td>\n",
       "      <td>0.0</td>\n",
       "      <td>0.0</td>\n",
       "      <td>0.0</td>\n",
       "      <td>0.0</td>\n",
       "      <td>0.0</td>\n",
       "      <td>0.0</td>\n",
       "      <td>0.0</td>\n",
       "      <td>0.0</td>\n",
       "      <td>0.0</td>\n",
       "      <td>0.0</td>\n",
       "      <td>0.0</td>\n",
       "      <td>0.0</td>\n",
       "      <td>0.0</td>\n",
       "      <td>0.0</td>\n",
       "      <td>0.0</td>\n",
       "      <td>0.000000</td>\n",
       "      <td>0.439214</td>\n",
       "      <td>0.000000</td>\n",
       "      <td>0.235345</td>\n",
       "      <td>0.153846</td>\n",
       "      <td>0.229701</td>\n",
       "      <td>0.002868</td>\n",
       "      <td>0.153846</td>\n",
       "      <td>0.000000</td>\n",
       "      <td>0.521739</td>\n",
       "      <td>1.0</td>\n",
       "      <td>1.0</td>\n",
       "      <td>0.082142</td>\n",
       "      <td>1.000000</td>\n",
       "      <td>0.0</td>\n",
       "      <td>0.745205</td>\n",
       "      <td>1.0</td>\n",
       "      <td>0.875</td>\n",
       "      <td>1.000000</td>\n",
       "      <td>0.666667</td>\n",
       "      <td>1.000000</td>\n",
       "      <td>0.50</td>\n",
       "      <td>1.0</td>\n",
       "      <td>0.714286</td>\n",
       "      <td>0.000000</td>\n",
       "      <td>1.0</td>\n",
       "      <td>0.166667</td>\n",
       "      <td>0.75</td>\n",
       "      <td>0.4375</td>\n",
       "      <td>1.0</td>\n",
       "      <td>0.005911</td>\n",
       "      <td>0.006562</td>\n",
       "      <td>0.006381</td>\n",
       "      <td>0.006365</td>\n",
       "      <td>1.0</td>\n",
       "    </tr>\n",
       "    <tr>\n",
       "      <th>2</th>\n",
       "      <td>100003.0</td>\n",
       "      <td>0.0</td>\n",
       "      <td>0.0</td>\n",
       "      <td>0.0</td>\n",
       "      <td>0.0</td>\n",
       "      <td>0.000000</td>\n",
       "      <td>0.054326</td>\n",
       "      <td>0.311736</td>\n",
       "      <td>0.153732</td>\n",
       "      <td>0.270787</td>\n",
       "      <td>0.166667</td>\n",
       "      <td>0.4</td>\n",
       "      <td>0.25</td>\n",
       "      <td>0.25</td>\n",
       "      <td>0.2</td>\n",
       "      <td>0.045016</td>\n",
       "      <td>0.481306</td>\n",
       "      <td>0.043648</td>\n",
       "      <td>0.948273</td>\n",
       "      <td>0.955579</td>\n",
       "      <td>0.0</td>\n",
       "      <td>1.0</td>\n",
       "      <td>0.0</td>\n",
       "      <td>1.0</td>\n",
       "      <td>1.0</td>\n",
       "      <td>0.0</td>\n",
       "      <td>0.176471</td>\n",
       "      <td>0.052632</td>\n",
       "      <td>0.0</td>\n",
       "      <td>0.0</td>\n",
       "      <td>0.166667</td>\n",
       "      <td>0.478261</td>\n",
       "      <td>0.0</td>\n",
       "      <td>0.0</td>\n",
       "      <td>0.0</td>\n",
       "      <td>0.0</td>\n",
       "      <td>0.0</td>\n",
       "      <td>0.0</td>\n",
       "      <td>0.684211</td>\n",
       "      <td>0.727773</td>\n",
       "      <td>0.551402</td>\n",
       "      <td>0.0959</td>\n",
       "      <td>0.0529</td>\n",
       "      <td>0.981509</td>\n",
       "      <td>0.7960</td>\n",
       "      <td>0.0605</td>\n",
       "      <td>0.08</td>\n",
       "      <td>0.0345</td>\n",
       "      <td>0.2917</td>\n",
       "      <td>0.3333</td>\n",
       "      <td>0.0130</td>\n",
       "      <td>0.0773</td>\n",
       "      <td>0.0549</td>\n",
       "      <td>0.0039</td>\n",
       "      <td>0.0098</td>\n",
       "      <td>0.0924</td>\n",
       "      <td>0.0538</td>\n",
       "      <td>0.9851</td>\n",
       "      <td>0.8040</td>\n",
       "      <td>0.0497</td>\n",
       "      <td>0.0806</td>\n",
       "      <td>0.0345</td>\n",
       "      <td>0.0128</td>\n",
       "      <td>0.0790</td>\n",
       "      <td>0.0554</td>\n",
       "      <td>0.0</td>\n",
       "      <td>0.0</td>\n",
       "      <td>0.9851</td>\n",
       "      <td>0.666667</td>\n",
       "      <td>0.0</td>\n",
       "      <td>0.0714</td>\n",
       "      <td>0.000000</td>\n",
       "      <td>0.0</td>\n",
       "      <td>0.035714</td>\n",
       "      <td>0.000000</td>\n",
       "      <td>0.035714</td>\n",
       "      <td>0.000000</td>\n",
       "      <td>0.807083</td>\n",
       "      <td>0.0</td>\n",
       "      <td>1.0</td>\n",
       "      <td>0.0</td>\n",
       "      <td>0.0</td>\n",
       "      <td>0.0</td>\n",
       "      <td>0.0</td>\n",
       "      <td>0.0</td>\n",
       "      <td>0.0</td>\n",
       "      <td>0.0</td>\n",
       "      <td>0.0</td>\n",
       "      <td>0.0</td>\n",
       "      <td>0.0</td>\n",
       "      <td>0.0</td>\n",
       "      <td>0.0</td>\n",
       "      <td>0.0</td>\n",
       "      <td>0.0</td>\n",
       "      <td>0.0</td>\n",
       "      <td>0.0</td>\n",
       "      <td>0.0</td>\n",
       "      <td>0.0</td>\n",
       "      <td>0.0</td>\n",
       "      <td>0.0</td>\n",
       "      <td>0.0</td>\n",
       "      <td>0.0</td>\n",
       "      <td>0.0</td>\n",
       "      <td>0.000000</td>\n",
       "      <td>0.886634</td>\n",
       "      <td>0.333333</td>\n",
       "      <td>0.154495</td>\n",
       "      <td>0.057692</td>\n",
       "      <td>0.077309</td>\n",
       "      <td>0.000000</td>\n",
       "      <td>0.057692</td>\n",
       "      <td>0.500000</td>\n",
       "      <td>0.739130</td>\n",
       "      <td>1.0</td>\n",
       "      <td>1.0</td>\n",
       "      <td>0.000000</td>\n",
       "      <td>0.958333</td>\n",
       "      <td>0.0</td>\n",
       "      <td>0.717123</td>\n",
       "      <td>0.0</td>\n",
       "      <td>0.875</td>\n",
       "      <td>0.166667</td>\n",
       "      <td>0.333333</td>\n",
       "      <td>0.423077</td>\n",
       "      <td>0.75</td>\n",
       "      <td>0.0</td>\n",
       "      <td>1.000000</td>\n",
       "      <td>0.000350</td>\n",
       "      <td>0.5</td>\n",
       "      <td>0.083333</td>\n",
       "      <td>1.00</td>\n",
       "      <td>0.6875</td>\n",
       "      <td>1.0</td>\n",
       "      <td>0.005691</td>\n",
       "      <td>0.005853</td>\n",
       "      <td>0.006079</td>\n",
       "      <td>0.006061</td>\n",
       "      <td>0.0</td>\n",
       "    </tr>\n",
       "    <tr>\n",
       "      <th>3</th>\n",
       "      <td>100003.0</td>\n",
       "      <td>0.0</td>\n",
       "      <td>0.0</td>\n",
       "      <td>0.0</td>\n",
       "      <td>0.0</td>\n",
       "      <td>0.000000</td>\n",
       "      <td>0.054326</td>\n",
       "      <td>0.311736</td>\n",
       "      <td>0.153732</td>\n",
       "      <td>0.270787</td>\n",
       "      <td>0.166667</td>\n",
       "      <td>0.4</td>\n",
       "      <td>0.25</td>\n",
       "      <td>0.25</td>\n",
       "      <td>0.2</td>\n",
       "      <td>0.045016</td>\n",
       "      <td>0.481306</td>\n",
       "      <td>0.043648</td>\n",
       "      <td>0.948273</td>\n",
       "      <td>0.955579</td>\n",
       "      <td>0.0</td>\n",
       "      <td>1.0</td>\n",
       "      <td>0.0</td>\n",
       "      <td>1.0</td>\n",
       "      <td>1.0</td>\n",
       "      <td>0.0</td>\n",
       "      <td>0.176471</td>\n",
       "      <td>0.052632</td>\n",
       "      <td>0.0</td>\n",
       "      <td>0.0</td>\n",
       "      <td>0.166667</td>\n",
       "      <td>0.478261</td>\n",
       "      <td>0.0</td>\n",
       "      <td>0.0</td>\n",
       "      <td>0.0</td>\n",
       "      <td>0.0</td>\n",
       "      <td>0.0</td>\n",
       "      <td>0.0</td>\n",
       "      <td>0.684211</td>\n",
       "      <td>0.727773</td>\n",
       "      <td>0.551402</td>\n",
       "      <td>0.0959</td>\n",
       "      <td>0.0529</td>\n",
       "      <td>0.981509</td>\n",
       "      <td>0.7960</td>\n",
       "      <td>0.0605</td>\n",
       "      <td>0.08</td>\n",
       "      <td>0.0345</td>\n",
       "      <td>0.2917</td>\n",
       "      <td>0.3333</td>\n",
       "      <td>0.0130</td>\n",
       "      <td>0.0773</td>\n",
       "      <td>0.0549</td>\n",
       "      <td>0.0039</td>\n",
       "      <td>0.0098</td>\n",
       "      <td>0.0924</td>\n",
       "      <td>0.0538</td>\n",
       "      <td>0.9851</td>\n",
       "      <td>0.8040</td>\n",
       "      <td>0.0497</td>\n",
       "      <td>0.0806</td>\n",
       "      <td>0.0345</td>\n",
       "      <td>0.0128</td>\n",
       "      <td>0.0790</td>\n",
       "      <td>0.0554</td>\n",
       "      <td>0.0</td>\n",
       "      <td>0.0</td>\n",
       "      <td>0.9851</td>\n",
       "      <td>0.666667</td>\n",
       "      <td>0.0</td>\n",
       "      <td>0.0714</td>\n",
       "      <td>0.000000</td>\n",
       "      <td>0.0</td>\n",
       "      <td>0.035714</td>\n",
       "      <td>0.000000</td>\n",
       "      <td>0.035714</td>\n",
       "      <td>0.000000</td>\n",
       "      <td>0.807083</td>\n",
       "      <td>0.0</td>\n",
       "      <td>1.0</td>\n",
       "      <td>0.0</td>\n",
       "      <td>0.0</td>\n",
       "      <td>0.0</td>\n",
       "      <td>0.0</td>\n",
       "      <td>0.0</td>\n",
       "      <td>0.0</td>\n",
       "      <td>0.0</td>\n",
       "      <td>0.0</td>\n",
       "      <td>0.0</td>\n",
       "      <td>0.0</td>\n",
       "      <td>0.0</td>\n",
       "      <td>0.0</td>\n",
       "      <td>0.0</td>\n",
       "      <td>0.0</td>\n",
       "      <td>0.0</td>\n",
       "      <td>0.0</td>\n",
       "      <td>0.0</td>\n",
       "      <td>0.0</td>\n",
       "      <td>0.0</td>\n",
       "      <td>0.0</td>\n",
       "      <td>0.0</td>\n",
       "      <td>0.0</td>\n",
       "      <td>0.0</td>\n",
       "      <td>0.000000</td>\n",
       "      <td>0.756892</td>\n",
       "      <td>0.333333</td>\n",
       "      <td>0.016121</td>\n",
       "      <td>0.011762</td>\n",
       "      <td>0.015091</td>\n",
       "      <td>0.002782</td>\n",
       "      <td>0.011762</td>\n",
       "      <td>0.333333</td>\n",
       "      <td>0.652174</td>\n",
       "      <td>1.0</td>\n",
       "      <td>1.0</td>\n",
       "      <td>0.100061</td>\n",
       "      <td>0.958333</td>\n",
       "      <td>0.0</td>\n",
       "      <td>0.198973</td>\n",
       "      <td>0.0</td>\n",
       "      <td>0.875</td>\n",
       "      <td>0.166667</td>\n",
       "      <td>0.333333</td>\n",
       "      <td>0.269231</td>\n",
       "      <td>0.75</td>\n",
       "      <td>0.0</td>\n",
       "      <td>0.571429</td>\n",
       "      <td>0.000050</td>\n",
       "      <td>0.4</td>\n",
       "      <td>0.166667</td>\n",
       "      <td>1.00</td>\n",
       "      <td>0.5625</td>\n",
       "      <td>1.0</td>\n",
       "      <td>0.001581</td>\n",
       "      <td>0.002231</td>\n",
       "      <td>0.002458</td>\n",
       "      <td>0.002429</td>\n",
       "      <td>1.0</td>\n",
       "    </tr>\n",
       "    <tr>\n",
       "      <th>48</th>\n",
       "      <td>100017.0</td>\n",
       "      <td>0.0</td>\n",
       "      <td>0.5</td>\n",
       "      <td>1.0</td>\n",
       "      <td>0.0</td>\n",
       "      <td>0.052632</td>\n",
       "      <td>0.044266</td>\n",
       "      <td>0.218094</td>\n",
       "      <td>0.122870</td>\n",
       "      <td>0.162921</td>\n",
       "      <td>1.000000</td>\n",
       "      <td>1.0</td>\n",
       "      <td>1.00</td>\n",
       "      <td>0.25</td>\n",
       "      <td>0.2</td>\n",
       "      <td>0.226010</td>\n",
       "      <td>0.634226</td>\n",
       "      <td>0.038846</td>\n",
       "      <td>0.971956</td>\n",
       "      <td>0.250343</td>\n",
       "      <td>0.0</td>\n",
       "      <td>1.0</td>\n",
       "      <td>0.0</td>\n",
       "      <td>1.0</td>\n",
       "      <td>0.0</td>\n",
       "      <td>0.0</td>\n",
       "      <td>0.235294</td>\n",
       "      <td>0.105263</td>\n",
       "      <td>0.5</td>\n",
       "      <td>0.5</td>\n",
       "      <td>0.666667</td>\n",
       "      <td>0.565217</td>\n",
       "      <td>0.0</td>\n",
       "      <td>0.0</td>\n",
       "      <td>0.0</td>\n",
       "      <td>0.0</td>\n",
       "      <td>0.0</td>\n",
       "      <td>0.0</td>\n",
       "      <td>0.736842</td>\n",
       "      <td>0.663049</td>\n",
       "      <td>0.861336</td>\n",
       "      <td>0.1474</td>\n",
       "      <td>0.0973</td>\n",
       "      <td>0.975925</td>\n",
       "      <td>0.7348</td>\n",
       "      <td>0.0582</td>\n",
       "      <td>0.16</td>\n",
       "      <td>0.1379</td>\n",
       "      <td>0.3333</td>\n",
       "      <td>0.3750</td>\n",
       "      <td>0.0931</td>\n",
       "      <td>0.1202</td>\n",
       "      <td>0.1397</td>\n",
       "      <td>0.0000</td>\n",
       "      <td>0.0000</td>\n",
       "      <td>0.1502</td>\n",
       "      <td>0.1010</td>\n",
       "      <td>0.9806</td>\n",
       "      <td>0.7452</td>\n",
       "      <td>0.0587</td>\n",
       "      <td>0.1611</td>\n",
       "      <td>0.1379</td>\n",
       "      <td>0.0952</td>\n",
       "      <td>0.1313</td>\n",
       "      <td>0.1456</td>\n",
       "      <td>0.0</td>\n",
       "      <td>0.0</td>\n",
       "      <td>0.9806</td>\n",
       "      <td>0.666667</td>\n",
       "      <td>0.0</td>\n",
       "      <td>0.1417</td>\n",
       "      <td>0.666667</td>\n",
       "      <td>0.0</td>\n",
       "      <td>0.000000</td>\n",
       "      <td>0.000000</td>\n",
       "      <td>0.000000</td>\n",
       "      <td>0.000000</td>\n",
       "      <td>0.999068</td>\n",
       "      <td>0.0</td>\n",
       "      <td>1.0</td>\n",
       "      <td>0.0</td>\n",
       "      <td>0.0</td>\n",
       "      <td>0.0</td>\n",
       "      <td>0.0</td>\n",
       "      <td>0.0</td>\n",
       "      <td>0.0</td>\n",
       "      <td>0.0</td>\n",
       "      <td>0.0</td>\n",
       "      <td>0.0</td>\n",
       "      <td>0.0</td>\n",
       "      <td>0.0</td>\n",
       "      <td>0.0</td>\n",
       "      <td>0.0</td>\n",
       "      <td>0.0</td>\n",
       "      <td>0.0</td>\n",
       "      <td>0.0</td>\n",
       "      <td>0.0</td>\n",
       "      <td>0.0</td>\n",
       "      <td>0.0</td>\n",
       "      <td>0.0</td>\n",
       "      <td>0.0</td>\n",
       "      <td>0.0</td>\n",
       "      <td>0.0</td>\n",
       "      <td>0.052632</td>\n",
       "      <td>0.958745</td>\n",
       "      <td>0.333333</td>\n",
       "      <td>0.040599</td>\n",
       "      <td>0.027015</td>\n",
       "      <td>0.033865</td>\n",
       "      <td>0.006385</td>\n",
       "      <td>0.027015</td>\n",
       "      <td>1.000000</td>\n",
       "      <td>0.652174</td>\n",
       "      <td>1.0</td>\n",
       "      <td>1.0</td>\n",
       "      <td>0.102133</td>\n",
       "      <td>0.958333</td>\n",
       "      <td>0.0</td>\n",
       "      <td>0.164726</td>\n",
       "      <td>0.0</td>\n",
       "      <td>0.875</td>\n",
       "      <td>1.000000</td>\n",
       "      <td>0.000000</td>\n",
       "      <td>0.423077</td>\n",
       "      <td>0.75</td>\n",
       "      <td>0.0</td>\n",
       "      <td>1.000000</td>\n",
       "      <td>0.000102</td>\n",
       "      <td>0.5</td>\n",
       "      <td>0.138889</td>\n",
       "      <td>0.75</td>\n",
       "      <td>0.7500</td>\n",
       "      <td>1.0</td>\n",
       "      <td>0.001342</td>\n",
       "      <td>0.001829</td>\n",
       "      <td>0.002056</td>\n",
       "      <td>0.002032</td>\n",
       "      <td>1.0</td>\n",
       "    </tr>\n",
       "  </tbody>\n",
       "</table>\n",
       "</div>"
      ],
      "text/plain": [
       "    SK_ID_CURR  NAME_CONTRACT_TYPE_x  CODE_GENDER  FLAG_OWN_CAR  FLAG_OWN_REALTY  CNT_CHILDREN  AMT_INCOME_TOTAL  AMT_CREDIT_x  AMT_ANNUITY_x  AMT_GOODS_PRICE_x  NAME_TYPE_SUITE_x  NAME_INCOME_TYPE  NAME_EDUCATION_TYPE  NAME_FAMILY_STATUS  NAME_HOUSING_TYPE  REGION_POPULATION_RELATIVE  DAYS_BIRTH  DAYS_EMPLOYED  DAYS_REGISTRATION  DAYS_ID_PUBLISH  FLAG_MOBIL  FLAG_EMP_PHONE  FLAG_WORK_PHONE  FLAG_CONT_MOBILE  FLAG_PHONE  FLAG_EMAIL  OCCUPATION_TYPE  CNT_FAM_MEMBERS  REGION_RATING_CLIENT  REGION_RATING_CLIENT_W_CITY  WEEKDAY_APPR_PROCESS_START_x  HOUR_APPR_PROCESS_START_x  REG_REGION_NOT_LIVE_REGION  REG_REGION_NOT_WORK_REGION  LIVE_REGION_NOT_WORK_REGION  REG_CITY_NOT_LIVE_CITY  REG_CITY_NOT_WORK_CITY  LIVE_CITY_NOT_WORK_CITY  ORGANIZATION_TYPE  EXT_SOURCE_2  EXT_SOURCE_3  APARTMENTS_AVG  BASEMENTAREA_AVG  YEARS_BEGINEXPLUATATION_AVG  YEARS_BUILD_AVG  COMMONAREA_AVG  ELEVATORS_AVG  ENTRANCES_AVG  FLOORSMAX_AVG  FLOORSMIN_AVG  LANDAREA_AVG  LIVINGAPARTMENTS_AVG  LIVINGAREA_AVG  \\\n",
       "0     100002.0                   0.0          0.5           0.0              1.0      0.000000          0.039235      0.090287       0.103313           0.076404           1.000000               1.0                 1.00                0.75                0.2                    0.256321    0.898225       0.045086           0.840893         0.676385         0.0             1.0              0.0               1.0         1.0         0.0         0.470588         0.000000                   0.5                          0.5                      1.000000                   0.434783                         0.0                         0.0                          0.0                     0.0                     0.0                      0.0           0.087719      0.307542      0.155407          0.0247            0.0369                     0.965500           0.6192          0.0143           0.00         0.0690         0.0833         0.1250        0.0369                0.0202          0.0190   \n",
       "1     100003.0                   0.0          0.0           0.0              0.0      0.000000          0.054326      0.311736       0.153732           0.270787           0.166667               0.4                 0.25                0.25                0.2                    0.045016    0.481306       0.043648           0.948273         0.955579         0.0             1.0              0.0               1.0         1.0         0.0         0.176471         0.052632                   0.0                          0.0                      0.166667                   0.478261                         0.0                         0.0                          0.0                     0.0                     0.0                      0.0           0.684211      0.727773      0.551402          0.0959            0.0529                     0.981509           0.7960          0.0605           0.08         0.0345         0.2917         0.3333        0.0130                0.0773          0.0549   \n",
       "2     100003.0                   0.0          0.0           0.0              0.0      0.000000          0.054326      0.311736       0.153732           0.270787           0.166667               0.4                 0.25                0.25                0.2                    0.045016    0.481306       0.043648           0.948273         0.955579         0.0             1.0              0.0               1.0         1.0         0.0         0.176471         0.052632                   0.0                          0.0                      0.166667                   0.478261                         0.0                         0.0                          0.0                     0.0                     0.0                      0.0           0.684211      0.727773      0.551402          0.0959            0.0529                     0.981509           0.7960          0.0605           0.08         0.0345         0.2917         0.3333        0.0130                0.0773          0.0549   \n",
       "3     100003.0                   0.0          0.0           0.0              0.0      0.000000          0.054326      0.311736       0.153732           0.270787           0.166667               0.4                 0.25                0.25                0.2                    0.045016    0.481306       0.043648           0.948273         0.955579         0.0             1.0              0.0               1.0         1.0         0.0         0.176471         0.052632                   0.0                          0.0                      0.166667                   0.478261                         0.0                         0.0                          0.0                     0.0                     0.0                      0.0           0.684211      0.727773      0.551402          0.0959            0.0529                     0.981509           0.7960          0.0605           0.08         0.0345         0.2917         0.3333        0.0130                0.0773          0.0549   \n",
       "48    100017.0                   0.0          0.5           1.0              0.0      0.052632          0.044266      0.218094       0.122870           0.162921           1.000000               1.0                 1.00                0.25                0.2                    0.226010    0.634226       0.038846           0.971956         0.250343         0.0             1.0              0.0               1.0         0.0         0.0         0.235294         0.105263                   0.5                          0.5                      0.666667                   0.565217                         0.0                         0.0                          0.0                     0.0                     0.0                      0.0           0.736842      0.663049      0.861336          0.1474            0.0973                     0.975925           0.7348          0.0582           0.16         0.1379         0.3333         0.3750        0.0931                0.1202          0.1397   \n",
       "\n",
       "    NONLIVINGAPARTMENTS_AVG  NONLIVINGAREA_AVG  APARTMENTS_MODE  BASEMENTAREA_MODE  YEARS_BEGINEXPLUATATION_MODE  YEARS_BUILD_MODE  COMMONAREA_MODE  ELEVATORS_MODE  ENTRANCES_MODE  LANDAREA_MODE  LIVINGAPARTMENTS_MODE  LIVINGAREA_MODE  NONLIVINGAPARTMENTS_MODE  NONLIVINGAREA_MODE  YEARS_BEGINEXPLUATATION_MEDI  FONDKAPREMONT_MODE  HOUSETYPE_MODE  TOTALAREA_MODE  WALLSMATERIAL_MODE  EMERGENCYSTATE_MODE  OBS_30_CNT_SOCIAL_CIRCLE  DEF_30_CNT_SOCIAL_CIRCLE  OBS_60_CNT_SOCIAL_CIRCLE  DEF_60_CNT_SOCIAL_CIRCLE  DAYS_LAST_PHONE_CHANGE  FLAG_DOCUMENT_2  FLAG_DOCUMENT_3  FLAG_DOCUMENT_4  FLAG_DOCUMENT_5  FLAG_DOCUMENT_6  FLAG_DOCUMENT_7  FLAG_DOCUMENT_8  FLAG_DOCUMENT_9  FLAG_DOCUMENT_10  FLAG_DOCUMENT_11  FLAG_DOCUMENT_12  FLAG_DOCUMENT_13  FLAG_DOCUMENT_14  FLAG_DOCUMENT_15  FLAG_DOCUMENT_16  FLAG_DOCUMENT_17  FLAG_DOCUMENT_18  FLAG_DOCUMENT_19  FLAG_DOCUMENT_20  FLAG_DOCUMENT_21  AMT_REQ_CREDIT_BUREAU_HOUR  AMT_REQ_CREDIT_BUREAU_DAY  AMT_REQ_CREDIT_BUREAU_WEEK  AMT_REQ_CREDIT_BUREAU_MON  \\\n",
       "0                    0.0000             0.0000           0.0252             0.0383                        0.9722            0.6341           0.0144          0.0000          0.0690         0.0377                 0.0220           0.0198                       0.0                 0.0                        0.9722            0.666667             0.0          0.0149            0.833333                  0.0                  0.071429                  0.333333                  0.071429                  0.333333                0.735788              0.0              1.0              0.0              0.0              0.0              0.0              0.0              0.0               0.0               0.0               0.0               0.0               0.0               0.0               0.0               0.0               0.0               0.0               0.0               0.0                         0.0                        0.0                         0.0                        0.0   \n",
       "1                    0.0039             0.0098           0.0924             0.0538                        0.9851            0.8040           0.0497          0.0806          0.0345         0.0128                 0.0790           0.0554                       0.0                 0.0                        0.9851            0.666667             0.0          0.0714            0.000000                  0.0                  0.035714                  0.000000                  0.035714                  0.000000                0.807083              0.0              1.0              0.0              0.0              0.0              0.0              0.0              0.0               0.0               0.0               0.0               0.0               0.0               0.0               0.0               0.0               0.0               0.0               0.0               0.0                         0.0                        0.0                         0.0                        0.0   \n",
       "2                    0.0039             0.0098           0.0924             0.0538                        0.9851            0.8040           0.0497          0.0806          0.0345         0.0128                 0.0790           0.0554                       0.0                 0.0                        0.9851            0.666667             0.0          0.0714            0.000000                  0.0                  0.035714                  0.000000                  0.035714                  0.000000                0.807083              0.0              1.0              0.0              0.0              0.0              0.0              0.0              0.0               0.0               0.0               0.0               0.0               0.0               0.0               0.0               0.0               0.0               0.0               0.0               0.0                         0.0                        0.0                         0.0                        0.0   \n",
       "3                    0.0039             0.0098           0.0924             0.0538                        0.9851            0.8040           0.0497          0.0806          0.0345         0.0128                 0.0790           0.0554                       0.0                 0.0                        0.9851            0.666667             0.0          0.0714            0.000000                  0.0                  0.035714                  0.000000                  0.035714                  0.000000                0.807083              0.0              1.0              0.0              0.0              0.0              0.0              0.0              0.0               0.0               0.0               0.0               0.0               0.0               0.0               0.0               0.0               0.0               0.0               0.0               0.0                         0.0                        0.0                         0.0                        0.0   \n",
       "48                   0.0000             0.0000           0.1502             0.1010                        0.9806            0.7452           0.0587          0.1611          0.1379         0.0952                 0.1313           0.1456                       0.0                 0.0                        0.9806            0.666667             0.0          0.1417            0.666667                  0.0                  0.000000                  0.000000                  0.000000                  0.000000                0.999068              0.0              1.0              0.0              0.0              0.0              0.0              0.0              0.0               0.0               0.0               0.0               0.0               0.0               0.0               0.0               0.0               0.0               0.0               0.0               0.0                         0.0                        0.0                         0.0                        0.0   \n",
       "\n",
       "    AMT_REQ_CREDIT_BUREAU_QRT  AMT_REQ_CREDIT_BUREAU_YEAR  SK_ID_PREV  NAME_CONTRACT_TYPE_y  AMT_ANNUITY_y  AMT_APPLICATION  AMT_CREDIT_y  AMT_DOWN_PAYMENT  AMT_GOODS_PRICE_y  WEEKDAY_APPR_PROCESS_START_y  HOUR_APPR_PROCESS_START_y  FLAG_LAST_APPL_PER_CONTRACT  NFLAG_LAST_APPL_IN_DAY  RATE_DOWN_PAYMENT  NAME_CASH_LOAN_PURPOSE  NAME_CONTRACT_STATUS  DAYS_DECISION  NAME_PAYMENT_TYPE  CODE_REJECT_REASON  NAME_TYPE_SUITE_y  NAME_CLIENT_TYPE  NAME_GOODS_CATEGORY  NAME_PORTFOLIO  NAME_PRODUCT_TYPE  CHANNEL_TYPE  SELLERPLACE_AREA  NAME_SELLER_INDUSTRY  CNT_PAYMENT  NAME_YIELD_GROUP  PRODUCT_COMBINATION  DAYS_FIRST_DRAWING  DAYS_FIRST_DUE  DAYS_LAST_DUE_1ST_VERSION  DAYS_LAST_DUE  DAYS_TERMINATION  NFLAG_INSURED_ON_APPROVAL  \n",
       "0                         0.0                    0.052632    0.021035              0.333333       0.022137         0.030608      0.039705          0.000000           0.030608                      0.333333                   0.391304                          1.0                     1.0           0.000000                0.958333                   0.0       0.793151                1.0               0.875           1.000000          0.000000             0.923077            0.75                0.0      1.000000          0.000125                   0.0     0.333333              0.75               0.9375                 1.0        0.006321                   0.007950       0.007769          0.007750                        0.0  \n",
       "1                         0.0                    0.000000    0.439214              0.000000       0.235345         0.153846      0.229701          0.002868           0.153846                      0.000000                   0.521739                          1.0                     1.0           0.082142                1.000000                   0.0       0.745205                1.0               0.875           1.000000          0.666667             1.000000            0.50                1.0      0.714286          0.000000                   1.0     0.166667              0.75               0.4375                 1.0        0.005911                   0.006562       0.006381          0.006365                        1.0  \n",
       "2                         0.0                    0.000000    0.886634              0.333333       0.154495         0.057692      0.077309          0.000000           0.057692                      0.500000                   0.739130                          1.0                     1.0           0.000000                0.958333                   0.0       0.717123                0.0               0.875           0.166667          0.333333             0.423077            0.75                0.0      1.000000          0.000350                   0.5     0.083333              1.00               0.6875                 1.0        0.005691                   0.005853       0.006079          0.006061                        0.0  \n",
       "3                         0.0                    0.000000    0.756892              0.333333       0.016121         0.011762      0.015091          0.002782           0.011762                      0.333333                   0.652174                          1.0                     1.0           0.100061                0.958333                   0.0       0.198973                0.0               0.875           0.166667          0.333333             0.269231            0.75                0.0      0.571429          0.000050                   0.4     0.166667              1.00               0.5625                 1.0        0.001581                   0.002231       0.002458          0.002429                        1.0  \n",
       "48                        0.0                    0.052632    0.958745              0.333333       0.040599         0.027015      0.033865          0.006385           0.027015                      1.000000                   0.652174                          1.0                     1.0           0.102133                0.958333                   0.0       0.164726                0.0               0.875           1.000000          0.000000             0.423077            0.75                0.0      1.000000          0.000102                   0.5     0.138889              0.75               0.7500                 1.0        0.001342                   0.001829       0.002056          0.002032                        1.0  "
      ]
     },
     "execution_count": 44,
     "metadata": {},
     "output_type": "execute_result"
    }
   ],
   "source": [
    "x.head()"
   ]
  },
  {
   "cell_type": "code",
   "execution_count": 45,
   "id": "bcdff053",
   "metadata": {
    "scrolled": true
   },
   "outputs": [
    {
     "data": {
      "text/plain": [
       "0.0    345937\n",
       "1.0     27188\n",
       "Name: TARGET, dtype: int64"
      ]
     },
     "execution_count": 45,
     "metadata": {},
     "output_type": "execute_result"
    }
   ],
   "source": [
    "y.value_counts()"
   ]
  },
  {
   "cell_type": "markdown",
   "id": "f919d0bc",
   "metadata": {},
   "source": [
    "**Data Split**"
   ]
  },
  {
   "cell_type": "code",
   "execution_count": 46,
   "id": "075a7613",
   "metadata": {},
   "outputs": [
    {
     "data": {
      "text/plain": [
       "((261187, 138), (111938, 138), (261187,), (111938,))"
      ]
     },
     "execution_count": 46,
     "metadata": {},
     "output_type": "execute_result"
    }
   ],
   "source": [
    "from sklearn.model_selection import train_test_split\n",
    "X_train, X_test, y_train, y_test = train_test_split(x,y, test_size=0.3, random_state=42)\n",
    "X_train.shape, X_test.shape, y_train.shape, y_test.shape"
   ]
  },
  {
   "cell_type": "markdown",
   "id": "fec56c24",
   "metadata": {},
   "source": [
    "**Balancing dataset using Random UnderSampler**"
   ]
  },
  {
   "cell_type": "code",
   "execution_count": 47,
   "id": "703c8963",
   "metadata": {},
   "outputs": [],
   "source": [
    "from imblearn.under_sampling import RandomUnderSampler"
   ]
  },
  {
   "cell_type": "code",
   "execution_count": 48,
   "id": "f0f863fe",
   "metadata": {},
   "outputs": [],
   "source": [
    "rnus = RandomUnderSampler(sampling_strategy=1)\n",
    "X_train_rnus, y_train_rnus = rnus.fit_resample(X_train,y_train)"
   ]
  },
  {
   "cell_type": "code",
   "execution_count": 49,
   "id": "aed6ff8c",
   "metadata": {},
   "outputs": [],
   "source": [
    "X_test_rnus,y_test_rnus = rnus.fit_resample(X_test,y_test)"
   ]
  },
  {
   "cell_type": "code",
   "execution_count": 50,
   "id": "e15980be",
   "metadata": {
    "scrolled": true
   },
   "outputs": [
    {
     "data": {
      "text/plain": [
       "0.0    19040\n",
       "1.0    19040\n",
       "Name: TARGET, dtype: int64"
      ]
     },
     "execution_count": 50,
     "metadata": {},
     "output_type": "execute_result"
    }
   ],
   "source": [
    "y_train_rnus.value_counts()"
   ]
  },
  {
   "cell_type": "code",
   "execution_count": 51,
   "id": "e523467b",
   "metadata": {},
   "outputs": [
    {
     "data": {
      "image/png": "[encoded data removed]",
      "text/plain": [
       "<Figure size 432x288 with 1 Axes>"
      ]
     },
     "metadata": {},
     "output_type": "display_data"
    }
   ],
   "source": [
    "plt_rnus = y_train_rnus.value_counts().plot.pie(autopct='%.2f')"
   ]
  },
  {
   "cell_type": "markdown",
   "id": "87c51e1a",
   "metadata": {},
   "source": [
    "**Machine Learning Algorithms**"
   ]
  },
  {
   "cell_type": "code",
   "execution_count": 52,
   "id": "047f1ab8",
   "metadata": {},
   "outputs": [],
   "source": [
    "from sklearn.metrics import accuracy_score, precision_score,recall_score,confusion_matrix, plot_confusion_matrix, classification_report, roc_auc_score, roc_curve\n",
    "from sklearn.model_selection import GridSearchCV\n",
    "from sklearn.linear_model import LogisticRegression\n",
    "from sklearn.ensemble import RandomForestClassifier,GradientBoostingClassifier,AdaBoostClassifier\n",
    "from sklearn.tree import DecisionTreeClassifier\n",
    "from sklearn.neighbors import KNeighborsClassifier  \n",
    "from sklearn import metrics"
   ]
  },
  {
   "cell_type": "markdown",
   "id": "630d3e38",
   "metadata": {},
   "source": [
    "***Logistic Regression***"
   ]
  },
  {
   "cell_type": "code",
   "execution_count": 53,
   "id": "4cb6b180",
   "metadata": {},
   "outputs": [
    {
     "name": "stdout",
     "output_type": "stream",
     "text": [
      "Fitting 3 folds for each of 160 candidates, totalling 480 fits\n"
     ]
    },
    {
     "data": {
      "text/plain": [
       "{'C': 0.0,\n",
       " 'max_iter': 100,\n",
       " 'n_jobs': 10,\n",
       " 'penalty': 'none',\n",
       " 'solver': 'newton-cg'}"
      ]
     },
     "execution_count": 53,
     "metadata": {},
     "output_type": "execute_result"
    }
   ],
   "source": [
    "grid_params_lr = { 'solver' : ['newton-cg', 'lbfgs', 'liblinear', 'sag', 'saga'],'max_iter': [0,100], 'n_jobs' : [0,10],\n",
    "              'penalty' : ['l1', 'l2', 'elasticnet', 'none'], 'C':[0.0,1.0]}\n",
    "gs_lr = GridSearchCV( LogisticRegression(), grid_params_lr, verbose = 1, cv = 3, n_jobs = -1 )\n",
    "gs_lr_results = gs_lr.fit(X_train_rnus, y_train_rnus) \n",
    "gs_lr_results.best_params_"
   ]
  },
  {
   "cell_type": "code",
   "execution_count": 54,
   "id": "a354b956",
   "metadata": {},
   "outputs": [
    {
     "data": {
      "text/html": [
       "<style>#sk-container-id-1 {color: black;background-color: white;}#sk-container-id-1 pre{padding: 0;}#sk-container-id-1 div.sk-toggleable {background-color: white;}#sk-container-id-1 label.sk-toggleable__label {cursor: pointer;display: block;width: 100%;margin-bottom: 0;padding: 0.3em;box-sizing: border-box;text-align: center;}#sk-container-id-1 label.sk-toggleable__label-arrow:before {content: \"▸\";float: left;margin-right: 0.25em;color: #696969;}#sk-container-id-1 label.sk-toggleable__label-arrow:hover:before {color: black;}#sk-container-id-1 div.sk-estimator:hover label.sk-toggleable__label-arrow:before {color: black;}#sk-container-id-1 div.sk-toggleable__content {max-height: 0;max-width: 0;overflow: hidden;text-align: left;background-color: #f0f8ff;}#sk-container-id-1 div.sk-toggleable__content pre {margin: 0.2em;color: black;border-radius: 0.25em;background-color: #f0f8ff;}#sk-container-id-1 input.sk-toggleable__control:checked~div.sk-toggleable__content {max-height: 200px;max-width: 100%;overflow: auto;}#sk-container-id-1 input.sk-toggleable__control:checked~label.sk-toggleable__label-arrow:before {content: \"▾\";}#sk-container-id-1 div.sk-estimator input.sk-toggleable__control:checked~label.sk-toggleable__label {background-color: #d4ebff;}#sk-container-id-1 div.sk-label input.sk-toggleable__control:checked~label.sk-toggleable__label {background-color: #d4ebff;}#sk-container-id-1 input.sk-hidden--visually {border: 0;clip: rect(1px 1px 1px 1px);clip: rect(1px, 1px, 1px, 1px);height: 1px;margin: -1px;overflow: hidden;padding: 0;position: absolute;width: 1px;}#sk-container-id-1 div.sk-estimator {font-family: monospace;background-color: #f0f8ff;border: 1px dotted black;border-radius: 0.25em;box-sizing: border-box;margin-bottom: 0.5em;}#sk-container-id-1 div.sk-estimator:hover {background-color: #d4ebff;}#sk-container-id-1 div.sk-parallel-item::after {content: \"\";width: 100%;border-bottom: 1px solid gray;flex-grow: 1;}#sk-container-id-1 div.sk-label:hover label.sk-toggleable__label {background-color: #d4ebff;}#sk-container-id-1 div.sk-serial::before {content: \"\";position: absolute;border-left: 1px solid gray;box-sizing: border-box;top: 0;bottom: 0;left: 50%;z-index: 0;}#sk-container-id-1 div.sk-serial {display: flex;flex-direction: column;align-items: center;background-color: white;padding-right: 0.2em;padding-left: 0.2em;position: relative;}#sk-container-id-1 div.sk-item {position: relative;z-index: 1;}#sk-container-id-1 div.sk-parallel {display: flex;align-items: stretch;justify-content: center;background-color: white;position: relative;}#sk-container-id-1 div.sk-item::before, #sk-container-id-1 div.sk-parallel-item::before {content: \"\";position: absolute;border-left: 1px solid gray;box-sizing: border-box;top: 0;bottom: 0;left: 50%;z-index: -1;}#sk-container-id-1 div.sk-parallel-item {display: flex;flex-direction: column;z-index: 1;position: relative;background-color: white;}#sk-container-id-1 div.sk-parallel-item:first-child::after {align-self: flex-end;width: 50%;}#sk-container-id-1 div.sk-parallel-item:last-child::after {align-self: flex-start;width: 50%;}#sk-container-id-1 div.sk-parallel-item:only-child::after {width: 0;}#sk-container-id-1 div.sk-dashed-wrapped {border: 1px dashed gray;margin: 0 0.4em 0.5em 0.4em;box-sizing: border-box;padding-bottom: 0.4em;background-color: white;}#sk-container-id-1 div.sk-label label {font-family: monospace;font-weight: bold;display: inline-block;line-height: 1.2em;}#sk-container-id-1 div.sk-label-container {text-align: center;}#sk-container-id-1 div.sk-container {/* jupyter's `normalize.less` sets `[hidden] { display: none; }` but bootstrap.min.css set `[hidden] { display: none !important; }` so we also need the `!important` here to be able to override the default hidden behavior on the sphinx rendered scikit-learn.org. See: https://github.com/scikit-learn/scikit-learn/issues/21755 */display: inline-block !important;position: relative;}#sk-container-id-1 div.sk-text-repr-fallback {display: none;}</style><div id=\"sk-container-id-1\" class=\"sk-top-container\"><div class=\"sk-text-repr-fallback\"><pre>LogisticRegression(n_jobs=10, solver=&#x27;newton-cg&#x27;)</pre><b>In a Jupyter environment, please rerun this cell to show the HTML representation or trust the notebook. <br />On GitHub, the HTML representation is unable to render, please try loading this page with nbviewer.org.</b></div><div class=\"sk-container\" hidden><div class=\"sk-item\"><div class=\"sk-estimator sk-toggleable\"><input class=\"sk-toggleable__control sk-hidden--visually\" id=\"sk-estimator-id-1\" type=\"checkbox\" checked><label for=\"sk-estimator-id-1\" class=\"sk-toggleable__label sk-toggleable__label-arrow\">LogisticRegression</label><div class=\"sk-toggleable__content\"><pre>LogisticRegression(n_jobs=10, solver=&#x27;newton-cg&#x27;)</pre></div></div></div></div></div>"
      ],
      "text/plain": [
       "LogisticRegression(n_jobs=10, solver='newton-cg')"
      ]
     },
     "execution_count": 54,
     "metadata": {},
     "output_type": "execute_result"
    }
   ],
   "source": [
    "lr = LogisticRegression(solver='newton-cg', max_iter = 100, n_jobs = 10)\n",
    "lr.fit(X_train_rnus, y_train_rnus)"
   ]
  },
  {
   "cell_type": "code",
   "execution_count": 55,
   "id": "a759b676",
   "metadata": {},
   "outputs": [],
   "source": [
    "y_pred = lr.predict(X_test)"
   ]
  },
  {
   "cell_type": "code",
   "execution_count": 56,
   "id": "b752035a",
   "metadata": {},
   "outputs": [
    {
     "name": "stdout",
     "output_type": "stream",
     "text": [
      "Accuracy of the classifier is: 0.6863620933016491\n",
      "Precision of the classifier is: 0.14737888458721357\n",
      "Recall of the classifier is: 0.6914580265095729\n"
     ]
    }
   ],
   "source": [
    "acc_lr = accuracy_score(y_test, y_pred)\n",
    "pre_lr = precision_score(y_test, y_pred)\n",
    "re_lr = recall_score(y_test, y_pred)\n",
    "print(f\"Accuracy of the classifier is: {accuracy_score(y_test, y_pred)}\")\n",
    "print(f\"Precision of the classifier is: {precision_score(y_test, y_pred)}\")\n",
    "print(f\"Recall of the classifier is: {recall_score(y_test, y_pred)}\")"
   ]
  },
  {
   "cell_type": "code",
   "execution_count": 57,
   "id": "097667b5",
   "metadata": {},
   "outputs": [
    {
     "name": "stdout",
     "output_type": "stream",
     "text": [
      "              precision    recall  f1-score   support\n",
      "\n",
      "         0.0       0.97      0.69      0.80    103790\n",
      "         1.0       0.15      0.69      0.24      8148\n",
      "\n",
      "    accuracy                           0.69    111938\n",
      "   macro avg       0.56      0.69      0.52    111938\n",
      "weighted avg       0.91      0.69      0.76    111938\n",
      "\n"
     ]
    }
   ],
   "source": [
    "print(classification_report(y_test, y_pred))"
   ]
  },
  {
   "cell_type": "code",
   "execution_count": 58,
   "id": "470d176e",
   "metadata": {},
   "outputs": [
    {
     "data": {
      "text/plain": [
       "<sklearn.metrics._plot.confusion_matrix.ConfusionMatrixDisplay at 0x236501c8fd0>"
      ]
     },
     "execution_count": 58,
     "metadata": {},
     "output_type": "execute_result"
    },
    {
     "data": {
      "image/png": "[encoded data removed]",
      "text/plain": [
       "<Figure size 432x288 with 2 Axes>"
      ]
     },
     "metadata": {
      "needs_background": "light"
     },
     "output_type": "display_data"
    }
   ],
   "source": [
    "plot_confusion_matrix(lr,X_test, y_test)"
   ]
  },
  {
   "cell_type": "code",
   "execution_count": 59,
   "id": "19290f48",
   "metadata": {
    "scrolled": true
   },
   "outputs": [
    {
     "data": {
      "image/png": "[encoded data removed]",
      "text/plain": [
       "<Figure size 432x288 with 1 Axes>"
      ]
     },
     "metadata": {
      "needs_background": "light"
     },
     "output_type": "display_data"
    }
   ],
   "source": [
    "fpr_1, tpr_1, thresholds = roc_curve(y_test, y_pred)\n",
    "plt.title('Receiver Operating Characteristic')\n",
    "plt.plot(fpr_1, tpr_1)\n",
    "plt.plot([0,1],[0,1],'k--')\n",
    "plt.xlim([-0.1,1.1])\n",
    "plt.ylim([-0.1,1.1])\n",
    "plt.ylabel('True Positive Rate')\n",
    "plt.xlabel('False Positive Rate')\n",
    "plt.show()"
   ]
  },
  {
   "cell_type": "code",
   "execution_count": 60,
   "id": "10938385",
   "metadata": {},
   "outputs": [
    {
     "data": {
      "text/plain": [
       "0.688710032620814"
      ]
     },
     "execution_count": 60,
     "metadata": {},
     "output_type": "execute_result"
    }
   ],
   "source": [
    "auc_lr = metrics.auc(fpr_1, tpr_1)\n",
    "auc_lr"
   ]
  },
  {
   "cell_type": "markdown",
   "id": "ad41e8db",
   "metadata": {},
   "source": [
    "***K Nearest Neighbors***"
   ]
  },
  {
   "cell_type": "code",
   "execution_count": 61,
   "id": "fd946f25",
   "metadata": {},
   "outputs": [
    {
     "name": "stdout",
     "output_type": "stream",
     "text": [
      "Fitting 3 folds for each of 64 candidates, totalling 192 fits\n"
     ]
    },
    {
     "data": {
      "text/plain": [
       "{'algorithm': 'auto',\n",
       " 'leaf_size': 10,\n",
       " 'metric': 'euclidean',\n",
       " 'n_neighbors': 3,\n",
       " 'weights': 'distance'}"
      ]
     },
     "execution_count": 61,
     "metadata": {},
     "output_type": "execute_result"
    }
   ],
   "source": [
    "grid_params_knn = {'n_neighbors':[3,19], 'weights':['uniform', 'distance'],\n",
    "                   'algorithm' : ['auto', 'ball_tree', 'kd_tree', 'brute'],'leaf_size':[10,50],\n",
    "                   'metric':['euclidean','minkowski'] }\n",
    "gs_knn = GridSearchCV( KNeighborsClassifier(), grid_params_knn, verbose = 1, cv = 3, n_jobs = -1 )\n",
    "gs_knn_results = gs_knn.fit(X_train_rnus, y_train_rnus) \n",
    "gs_knn_results.best_params_"
   ]
  },
  {
   "cell_type": "code",
   "execution_count": 62,
   "id": "68209dab",
   "metadata": {},
   "outputs": [
    {
     "data": {
      "text/html": [
       "<style>#sk-container-id-2 {color: black;background-color: white;}#sk-container-id-2 pre{padding: 0;}#sk-container-id-2 div.sk-toggleable {background-color: white;}#sk-container-id-2 label.sk-toggleable__label {cursor: pointer;display: block;width: 100%;margin-bottom: 0;padding: 0.3em;box-sizing: border-box;text-align: center;}#sk-container-id-2 label.sk-toggleable__label-arrow:before {content: \"▸\";float: left;margin-right: 0.25em;color: #696969;}#sk-container-id-2 label.sk-toggleable__label-arrow:hover:before {color: black;}#sk-container-id-2 div.sk-estimator:hover label.sk-toggleable__label-arrow:before {color: black;}#sk-container-id-2 div.sk-toggleable__content {max-height: 0;max-width: 0;overflow: hidden;text-align: left;background-color: #f0f8ff;}#sk-container-id-2 div.sk-toggleable__content pre {margin: 0.2em;color: black;border-radius: 0.25em;background-color: #f0f8ff;}#sk-container-id-2 input.sk-toggleable__control:checked~div.sk-toggleable__content {max-height: 200px;max-width: 100%;overflow: auto;}#sk-container-id-2 input.sk-toggleable__control:checked~label.sk-toggleable__label-arrow:before {content: \"▾\";}#sk-container-id-2 div.sk-estimator input.sk-toggleable__control:checked~label.sk-toggleable__label {background-color: #d4ebff;}#sk-container-id-2 div.sk-label input.sk-toggleable__control:checked~label.sk-toggleable__label {background-color: #d4ebff;}#sk-container-id-2 input.sk-hidden--visually {border: 0;clip: rect(1px 1px 1px 1px);clip: rect(1px, 1px, 1px, 1px);height: 1px;margin: -1px;overflow: hidden;padding: 0;position: absolute;width: 1px;}#sk-container-id-2 div.sk-estimator {font-family: monospace;background-color: #f0f8ff;border: 1px dotted black;border-radius: 0.25em;box-sizing: border-box;margin-bottom: 0.5em;}#sk-container-id-2 div.sk-estimator:hover {background-color: #d4ebff;}#sk-container-id-2 div.sk-parallel-item::after {content: \"\";width: 100%;border-bottom: 1px solid gray;flex-grow: 1;}#sk-container-id-2 div.sk-label:hover label.sk-toggleable__label {background-color: #d4ebff;}#sk-container-id-2 div.sk-serial::before {content: \"\";position: absolute;border-left: 1px solid gray;box-sizing: border-box;top: 0;bottom: 0;left: 50%;z-index: 0;}#sk-container-id-2 div.sk-serial {display: flex;flex-direction: column;align-items: center;background-color: white;padding-right: 0.2em;padding-left: 0.2em;position: relative;}#sk-container-id-2 div.sk-item {position: relative;z-index: 1;}#sk-container-id-2 div.sk-parallel {display: flex;align-items: stretch;justify-content: center;background-color: white;position: relative;}#sk-container-id-2 div.sk-item::before, #sk-container-id-2 div.sk-parallel-item::before {content: \"\";position: absolute;border-left: 1px solid gray;box-sizing: border-box;top: 0;bottom: 0;left: 50%;z-index: -1;}#sk-container-id-2 div.sk-parallel-item {display: flex;flex-direction: column;z-index: 1;position: relative;background-color: white;}#sk-container-id-2 div.sk-parallel-item:first-child::after {align-self: flex-end;width: 50%;}#sk-container-id-2 div.sk-parallel-item:last-child::after {align-self: flex-start;width: 50%;}#sk-container-id-2 div.sk-parallel-item:only-child::after {width: 0;}#sk-container-id-2 div.sk-dashed-wrapped {border: 1px dashed gray;margin: 0 0.4em 0.5em 0.4em;box-sizing: border-box;padding-bottom: 0.4em;background-color: white;}#sk-container-id-2 div.sk-label label {font-family: monospace;font-weight: bold;display: inline-block;line-height: 1.2em;}#sk-container-id-2 div.sk-label-container {text-align: center;}#sk-container-id-2 div.sk-container {/* jupyter's `normalize.less` sets `[hidden] { display: none; }` but bootstrap.min.css set `[hidden] { display: none !important; }` so we also need the `!important` here to be able to override the default hidden behavior on the sphinx rendered scikit-learn.org. See: https://github.com/scikit-learn/scikit-learn/issues/21755 */display: inline-block !important;position: relative;}#sk-container-id-2 div.sk-text-repr-fallback {display: none;}</style><div id=\"sk-container-id-2\" class=\"sk-top-container\"><div class=\"sk-text-repr-fallback\"><pre>KNeighborsClassifier(leaf_size=10, metric=&#x27;euclidean&#x27;, n_neighbors=3,\n",
       "                     weights=&#x27;distance&#x27;)</pre><b>In a Jupyter environment, please rerun this cell to show the HTML representation or trust the notebook. <br />On GitHub, the HTML representation is unable to render, please try loading this page with nbviewer.org.</b></div><div class=\"sk-container\" hidden><div class=\"sk-item\"><div class=\"sk-estimator sk-toggleable\"><input class=\"sk-toggleable__control sk-hidden--visually\" id=\"sk-estimator-id-2\" type=\"checkbox\" checked><label for=\"sk-estimator-id-2\" class=\"sk-toggleable__label sk-toggleable__label-arrow\">KNeighborsClassifier</label><div class=\"sk-toggleable__content\"><pre>KNeighborsClassifier(leaf_size=10, metric=&#x27;euclidean&#x27;, n_neighbors=3,\n",
       "                     weights=&#x27;distance&#x27;)</pre></div></div></div></div></div>"
      ],
      "text/plain": [
       "KNeighborsClassifier(leaf_size=10, metric='euclidean', n_neighbors=3,\n",
       "                     weights='distance')"
      ]
     },
     "execution_count": 62,
     "metadata": {},
     "output_type": "execute_result"
    }
   ],
   "source": [
    "knn = KNeighborsClassifier(n_neighbors=3, metric='euclidean', weights='distance', algorithm='auto',leaf_size=10 )\n",
    "knn.fit(X_train_rnus, y_train_rnus)"
   ]
  },
  {
   "cell_type": "code",
   "execution_count": 63,
   "id": "b58523ba",
   "metadata": {},
   "outputs": [],
   "source": [
    "y_pred2 = knn.predict(X_test)"
   ]
  },
  {
   "cell_type": "code",
   "execution_count": 64,
   "id": "62fb817f",
   "metadata": {},
   "outputs": [
    {
     "name": "stdout",
     "output_type": "stream",
     "text": [
      "Accuracy of the classifier is: 0.7699172756347263\n",
      "Precision of the classifier is: 0.2314122707996461\n",
      "Recall of the classifier is: 0.9309032891507119\n"
     ]
    }
   ],
   "source": [
    "acc_knn = accuracy_score(y_test, y_pred2)\n",
    "pre_knn = precision_score(y_test, y_pred2)\n",
    "re_knn = recall_score(y_test, y_pred2)\n",
    "print(f\"Accuracy of the classifier is: {accuracy_score(y_test, y_pred2)}\")\n",
    "print(f\"Precision of the classifier is: {precision_score(y_test, y_pred2)}\")\n",
    "print(f\"Recall of the classifier is: {recall_score(y_test, y_pred2)}\")"
   ]
  },
  {
   "cell_type": "code",
   "execution_count": 65,
   "id": "686b2c3d",
   "metadata": {},
   "outputs": [
    {
     "name": "stdout",
     "output_type": "stream",
     "text": [
      "              precision    recall  f1-score   support\n",
      "\n",
      "         0.0       0.99      0.76      0.86    103790\n",
      "         1.0       0.23      0.93      0.37      8148\n",
      "\n",
      "    accuracy                           0.77    111938\n",
      "   macro avg       0.61      0.84      0.61    111938\n",
      "weighted avg       0.94      0.77      0.82    111938\n",
      "\n"
     ]
    }
   ],
   "source": [
    "print(classification_report(y_test, y_pred2))"
   ]
  },
  {
   "cell_type": "code",
   "execution_count": 66,
   "id": "d39325c2",
   "metadata": {},
   "outputs": [
    {
     "data": {
      "text/plain": [
       "<sklearn.metrics._plot.confusion_matrix.ConfusionMatrixDisplay at 0x23657db0700>"
      ]
     },
     "execution_count": 66,
     "metadata": {},
     "output_type": "execute_result"
    },
    {
     "data": {
      "image/png": "[encoded data removed]",
      "text/plain": [
       "<Figure size 432x288 with 2 Axes>"
      ]
     },
     "metadata": {
      "needs_background": "light"
     },
     "output_type": "display_data"
    }
   ],
   "source": [
    "plot_confusion_matrix(knn,X_test, y_test)"
   ]
  },
  {
   "cell_type": "code",
   "execution_count": 67,
   "id": "d48e93d9",
   "metadata": {
    "scrolled": true
   },
   "outputs": [
    {
     "data": {
      "image/png": "[encoded data removed]",
      "text/plain": [
       "<Figure size 432x288 with 1 Axes>"
      ]
     },
     "metadata": {
      "needs_background": "light"
     },
     "output_type": "display_data"
    }
   ],
   "source": [
    "fpr_2, tpr_2, thresholds = roc_curve(y_test, y_pred2)\n",
    "plt.title('Receiver Operating Characteristic')\n",
    "plt.plot(fpr_2, tpr_2)\n",
    "plt.plot([0,1],[0,1],'k--')\n",
    "plt.xlim([-0.1,1.1])\n",
    "plt.ylim([-0.1,1.1])\n",
    "plt.ylabel('True Positive Rate')\n",
    "plt.xlabel('False Positive Rate')\n",
    "plt.show()"
   ]
  },
  {
   "cell_type": "code",
   "execution_count": 68,
   "id": "3c1e116c",
   "metadata": {},
   "outputs": [
    {
     "data": {
      "text/plain": [
       "0.844091205226671"
      ]
     },
     "execution_count": 68,
     "metadata": {},
     "output_type": "execute_result"
    }
   ],
   "source": [
    "auc_knn = metrics.auc(fpr_2, tpr_2)\n",
    "auc_knn"
   ]
  },
  {
   "cell_type": "markdown",
   "id": "904fadf1",
   "metadata": {},
   "source": [
    "***Decision Tree Classifier***"
   ]
  },
  {
   "cell_type": "code",
   "execution_count": 69,
   "id": "f0e5f672",
   "metadata": {},
   "outputs": [
    {
     "name": "stdout",
     "output_type": "stream",
     "text": [
      "Fitting 3 folds for each of 12 candidates, totalling 36 fits\n"
     ]
    },
    {
     "data": {
      "text/plain": [
       "{'criterion': 'gini', 'max_depth': 10, 'splitter': 'best'}"
      ]
     },
     "execution_count": 69,
     "metadata": {},
     "output_type": "execute_result"
    }
   ],
   "source": [
    "grid_params_dt = {'criterion':['gini', 'entropy', 'log_loss'],'max_depth':[1,10],'splitter':['best', 'random']}\n",
    "gs_dt = GridSearchCV( DecisionTreeClassifier(), grid_params_dt, verbose = 1, cv = 3, n_jobs = -1 )\n",
    "gs_dt_results = gs_dt.fit(X_train_rnus, y_train_rnus) \n",
    "gs_dt_results.best_params_"
   ]
  },
  {
   "cell_type": "code",
   "execution_count": 70,
   "id": "37e4e29d",
   "metadata": {},
   "outputs": [
    {
     "data": {
      "text/html": [
       "<style>#sk-container-id-3 {color: black;background-color: white;}#sk-container-id-3 pre{padding: 0;}#sk-container-id-3 div.sk-toggleable {background-color: white;}#sk-container-id-3 label.sk-toggleable__label {cursor: pointer;display: block;width: 100%;margin-bottom: 0;padding: 0.3em;box-sizing: border-box;text-align: center;}#sk-container-id-3 label.sk-toggleable__label-arrow:before {content: \"▸\";float: left;margin-right: 0.25em;color: #696969;}#sk-container-id-3 label.sk-toggleable__label-arrow:hover:before {color: black;}#sk-container-id-3 div.sk-estimator:hover label.sk-toggleable__label-arrow:before {color: black;}#sk-container-id-3 div.sk-toggleable__content {max-height: 0;max-width: 0;overflow: hidden;text-align: left;background-color: #f0f8ff;}#sk-container-id-3 div.sk-toggleable__content pre {margin: 0.2em;color: black;border-radius: 0.25em;background-color: #f0f8ff;}#sk-container-id-3 input.sk-toggleable__control:checked~div.sk-toggleable__content {max-height: 200px;max-width: 100%;overflow: auto;}#sk-container-id-3 input.sk-toggleable__control:checked~label.sk-toggleable__label-arrow:before {content: \"▾\";}#sk-container-id-3 div.sk-estimator input.sk-toggleable__control:checked~label.sk-toggleable__label {background-color: #d4ebff;}#sk-container-id-3 div.sk-label input.sk-toggleable__control:checked~label.sk-toggleable__label {background-color: #d4ebff;}#sk-container-id-3 input.sk-hidden--visually {border: 0;clip: rect(1px 1px 1px 1px);clip: rect(1px, 1px, 1px, 1px);height: 1px;margin: -1px;overflow: hidden;padding: 0;position: absolute;width: 1px;}#sk-container-id-3 div.sk-estimator {font-family: monospace;background-color: #f0f8ff;border: 1px dotted black;border-radius: 0.25em;box-sizing: border-box;margin-bottom: 0.5em;}#sk-container-id-3 div.sk-estimator:hover {background-color: #d4ebff;}#sk-container-id-3 div.sk-parallel-item::after {content: \"\";width: 100%;border-bottom: 1px solid gray;flex-grow: 1;}#sk-container-id-3 div.sk-label:hover label.sk-toggleable__label {background-color: #d4ebff;}#sk-container-id-3 div.sk-serial::before {content: \"\";position: absolute;border-left: 1px solid gray;box-sizing: border-box;top: 0;bottom: 0;left: 50%;z-index: 0;}#sk-container-id-3 div.sk-serial {display: flex;flex-direction: column;align-items: center;background-color: white;padding-right: 0.2em;padding-left: 0.2em;position: relative;}#sk-container-id-3 div.sk-item {position: relative;z-index: 1;}#sk-container-id-3 div.sk-parallel {display: flex;align-items: stretch;justify-content: center;background-color: white;position: relative;}#sk-container-id-3 div.sk-item::before, #sk-container-id-3 div.sk-parallel-item::before {content: \"\";position: absolute;border-left: 1px solid gray;box-sizing: border-box;top: 0;bottom: 0;left: 50%;z-index: -1;}#sk-container-id-3 div.sk-parallel-item {display: flex;flex-direction: column;z-index: 1;position: relative;background-color: white;}#sk-container-id-3 div.sk-parallel-item:first-child::after {align-self: flex-end;width: 50%;}#sk-container-id-3 div.sk-parallel-item:last-child::after {align-self: flex-start;width: 50%;}#sk-container-id-3 div.sk-parallel-item:only-child::after {width: 0;}#sk-container-id-3 div.sk-dashed-wrapped {border: 1px dashed gray;margin: 0 0.4em 0.5em 0.4em;box-sizing: border-box;padding-bottom: 0.4em;background-color: white;}#sk-container-id-3 div.sk-label label {font-family: monospace;font-weight: bold;display: inline-block;line-height: 1.2em;}#sk-container-id-3 div.sk-label-container {text-align: center;}#sk-container-id-3 div.sk-container {/* jupyter's `normalize.less` sets `[hidden] { display: none; }` but bootstrap.min.css set `[hidden] { display: none !important; }` so we also need the `!important` here to be able to override the default hidden behavior on the sphinx rendered scikit-learn.org. See: https://github.com/scikit-learn/scikit-learn/issues/21755 */display: inline-block !important;position: relative;}#sk-container-id-3 div.sk-text-repr-fallback {display: none;}</style><div id=\"sk-container-id-3\" class=\"sk-top-container\"><div class=\"sk-text-repr-fallback\"><pre>DecisionTreeClassifier(random_state=0)</pre><b>In a Jupyter environment, please rerun this cell to show the HTML representation or trust the notebook. <br />On GitHub, the HTML representation is unable to render, please try loading this page with nbviewer.org.</b></div><div class=\"sk-container\" hidden><div class=\"sk-item\"><div class=\"sk-estimator sk-toggleable\"><input class=\"sk-toggleable__control sk-hidden--visually\" id=\"sk-estimator-id-3\" type=\"checkbox\" checked><label for=\"sk-estimator-id-3\" class=\"sk-toggleable__label sk-toggleable__label-arrow\">DecisionTreeClassifier</label><div class=\"sk-toggleable__content\"><pre>DecisionTreeClassifier(random_state=0)</pre></div></div></div></div></div>"
      ],
      "text/plain": [
       "DecisionTreeClassifier(random_state=0)"
      ]
     },
     "execution_count": 70,
     "metadata": {},
     "output_type": "execute_result"
    }
   ],
   "source": [
    "dt = DecisionTreeClassifier(criterion= 'gini', random_state=0, splitter='best')\n",
    "dt.fit(X_train_rnus, y_train_rnus)"
   ]
  },
  {
   "cell_type": "code",
   "execution_count": 71,
   "id": "f648d0b4",
   "metadata": {},
   "outputs": [],
   "source": [
    "y_pred3 = dt.predict(X_test)"
   ]
  },
  {
   "cell_type": "code",
   "execution_count": 72,
   "id": "e18e384a",
   "metadata": {},
   "outputs": [
    {
     "name": "stdout",
     "output_type": "stream",
     "text": [
      "Accuracy of the classifier is: 0.8115474637745895\n",
      "Precision of the classifier is: 0.26613922907409415\n",
      "Recall of the classifier is: 0.9041482572410408\n"
     ]
    }
   ],
   "source": [
    "acc_dt = accuracy_score(y_test, y_pred3)\n",
    "pre_dt = precision_score(y_test, y_pred3)\n",
    "re_dt = recall_score(y_test, y_pred3)\n",
    "print(f\"Accuracy of the classifier is: {accuracy_score(y_test, y_pred3)}\")\n",
    "print(f\"Precision of the classifier is: {precision_score(y_test, y_pred3)}\")\n",
    "print(f\"Recall of the classifier is: {recall_score(y_test, y_pred3)}\")"
   ]
  },
  {
   "cell_type": "code",
   "execution_count": 73,
   "id": "706e9806",
   "metadata": {},
   "outputs": [
    {
     "name": "stdout",
     "output_type": "stream",
     "text": [
      "              precision    recall  f1-score   support\n",
      "\n",
      "         0.0       0.99      0.80      0.89    103790\n",
      "         1.0       0.27      0.90      0.41      8148\n",
      "\n",
      "    accuracy                           0.81    111938\n",
      "   macro avg       0.63      0.85      0.65    111938\n",
      "weighted avg       0.94      0.81      0.85    111938\n",
      "\n"
     ]
    }
   ],
   "source": [
    "print(classification_report(y_test, y_pred3))"
   ]
  },
  {
   "cell_type": "code",
   "execution_count": 74,
   "id": "b9aba4e1",
   "metadata": {},
   "outputs": [
    {
     "data": {
      "text/plain": [
       "<sklearn.metrics._plot.confusion_matrix.ConfusionMatrixDisplay at 0x236502cffa0>"
      ]
     },
     "execution_count": 74,
     "metadata": {},
     "output_type": "execute_result"
    },
    {
     "data": {
      "image/png": "[encoded data removed]",
      "text/plain": [
       "<Figure size 432x288 with 2 Axes>"
      ]
     },
     "metadata": {
      "needs_background": "light"
     },
     "output_type": "display_data"
    }
   ],
   "source": [
    "plot_confusion_matrix(dt,X_test, y_test)"
   ]
  },
  {
   "cell_type": "code",
   "execution_count": 75,
   "id": "f8afeae1",
   "metadata": {
    "scrolled": true
   },
   "outputs": [
    {
     "data": {
      "image/png": "[encoded data removed]",
      "text/plain": [
       "<Figure size 432x288 with 1 Axes>"
      ]
     },
     "metadata": {
      "needs_background": "light"
     },
     "output_type": "display_data"
    }
   ],
   "source": [
    "fpr_3, tpr_3, thresholds = roc_curve(y_test, y_pred3)\n",
    "plt.title('Receiver Operating Characteristic')\n",
    "plt.plot(fpr_3, tpr_3)\n",
    "plt.plot([0,1],[0,1],'k--')\n",
    "plt.xlim([-0.1,1.1])\n",
    "plt.ylim([-0.1,1.1])\n",
    "plt.ylabel('True Positive Rate')\n",
    "plt.xlabel('False Positive Rate')\n",
    "plt.show()"
   ]
  },
  {
   "cell_type": "code",
   "execution_count": 76,
   "id": "9c04c7dc",
   "metadata": {},
   "outputs": [
    {
     "data": {
      "text/plain": [
       "0.8542130630072629"
      ]
     },
     "execution_count": 76,
     "metadata": {},
     "output_type": "execute_result"
    }
   ],
   "source": [
    "auc_dt = metrics.auc(fpr_3, tpr_3)\n",
    "auc_dt"
   ]
  },
  {
   "cell_type": "markdown",
   "id": "dbd9a6ea",
   "metadata": {},
   "source": [
    "***Random Forest Classifier***"
   ]
  },
  {
   "cell_type": "code",
   "execution_count": 77,
   "id": "2487719f",
   "metadata": {},
   "outputs": [
    {
     "name": "stdout",
     "output_type": "stream",
     "text": [
      "Fitting 3 folds for each of 144 candidates, totalling 432 fits\n"
     ]
    },
    {
     "data": {
      "text/plain": [
       "{'criterion': 'gini',\n",
       " 'max_depth': 10,\n",
       " 'max_features': 'sqrt',\n",
       " 'n_estimators': 150,\n",
       " 'n_jobs': 10,\n",
       " 'random_state': 0}"
      ]
     },
     "execution_count": 77,
     "metadata": {},
     "output_type": "execute_result"
    }
   ],
   "source": [
    "grid_params_rfc = {'n_estimators':[50,150], 'criterion':['gini', 'entropy', 'log_loss'], 'max_depth':[0,10],\n",
    "                   'max_features':['sqrt', 'log2', 'None'], 'random_state':[0,100], 'n_jobs' : [0,10]}\n",
    "gs_rfc = GridSearchCV( RandomForestClassifier(), grid_params_rfc, verbose = 1, cv = 3, n_jobs = -1 )\n",
    "gs_rfc_results = gs_rfc.fit(X_train_rnus, y_train_rnus) \n",
    "gs_rfc_results.best_params_"
   ]
  },
  {
   "cell_type": "code",
   "execution_count": 78,
   "id": "a1ce4c5e",
   "metadata": {},
   "outputs": [],
   "source": [
    "rfc = RandomForestClassifier(random_state=42,criterion = 'gini',max_features='sqrt',n_estimators=150,n_jobs=10)"
   ]
  },
  {
   "cell_type": "code",
   "execution_count": 79,
   "id": "a03401c3",
   "metadata": {},
   "outputs": [
    {
     "data": {
      "text/html": [
       "<style>#sk-container-id-4 {color: black;background-color: white;}#sk-container-id-4 pre{padding: 0;}#sk-container-id-4 div.sk-toggleable {background-color: white;}#sk-container-id-4 label.sk-toggleable__label {cursor: pointer;display: block;width: 100%;margin-bottom: 0;padding: 0.3em;box-sizing: border-box;text-align: center;}#sk-container-id-4 label.sk-toggleable__label-arrow:before {content: \"▸\";float: left;margin-right: 0.25em;color: #696969;}#sk-container-id-4 label.sk-toggleable__label-arrow:hover:before {color: black;}#sk-container-id-4 div.sk-estimator:hover label.sk-toggleable__label-arrow:before {color: black;}#sk-container-id-4 div.sk-toggleable__content {max-height: 0;max-width: 0;overflow: hidden;text-align: left;background-color: #f0f8ff;}#sk-container-id-4 div.sk-toggleable__content pre {margin: 0.2em;color: black;border-radius: 0.25em;background-color: #f0f8ff;}#sk-container-id-4 input.sk-toggleable__control:checked~div.sk-toggleable__content {max-height: 200px;max-width: 100%;overflow: auto;}#sk-container-id-4 input.sk-toggleable__control:checked~label.sk-toggleable__label-arrow:before {content: \"▾\";}#sk-container-id-4 div.sk-estimator input.sk-toggleable__control:checked~label.sk-toggleable__label {background-color: #d4ebff;}#sk-container-id-4 div.sk-label input.sk-toggleable__control:checked~label.sk-toggleable__label {background-color: #d4ebff;}#sk-container-id-4 input.sk-hidden--visually {border: 0;clip: rect(1px 1px 1px 1px);clip: rect(1px, 1px, 1px, 1px);height: 1px;margin: -1px;overflow: hidden;padding: 0;position: absolute;width: 1px;}#sk-container-id-4 div.sk-estimator {font-family: monospace;background-color: #f0f8ff;border: 1px dotted black;border-radius: 0.25em;box-sizing: border-box;margin-bottom: 0.5em;}#sk-container-id-4 div.sk-estimator:hover {background-color: #d4ebff;}#sk-container-id-4 div.sk-parallel-item::after {content: \"\";width: 100%;border-bottom: 1px solid gray;flex-grow: 1;}#sk-container-id-4 div.sk-label:hover label.sk-toggleable__label {background-color: #d4ebff;}#sk-container-id-4 div.sk-serial::before {content: \"\";position: absolute;border-left: 1px solid gray;box-sizing: border-box;top: 0;bottom: 0;left: 50%;z-index: 0;}#sk-container-id-4 div.sk-serial {display: flex;flex-direction: column;align-items: center;background-color: white;padding-right: 0.2em;padding-left: 0.2em;position: relative;}#sk-container-id-4 div.sk-item {position: relative;z-index: 1;}#sk-container-id-4 div.sk-parallel {display: flex;align-items: stretch;justify-content: center;background-color: white;position: relative;}#sk-container-id-4 div.sk-item::before, #sk-container-id-4 div.sk-parallel-item::before {content: \"\";position: absolute;border-left: 1px solid gray;box-sizing: border-box;top: 0;bottom: 0;left: 50%;z-index: -1;}#sk-container-id-4 div.sk-parallel-item {display: flex;flex-direction: column;z-index: 1;position: relative;background-color: white;}#sk-container-id-4 div.sk-parallel-item:first-child::after {align-self: flex-end;width: 50%;}#sk-container-id-4 div.sk-parallel-item:last-child::after {align-self: flex-start;width: 50%;}#sk-container-id-4 div.sk-parallel-item:only-child::after {width: 0;}#sk-container-id-4 div.sk-dashed-wrapped {border: 1px dashed gray;margin: 0 0.4em 0.5em 0.4em;box-sizing: border-box;padding-bottom: 0.4em;background-color: white;}#sk-container-id-4 div.sk-label label {font-family: monospace;font-weight: bold;display: inline-block;line-height: 1.2em;}#sk-container-id-4 div.sk-label-container {text-align: center;}#sk-container-id-4 div.sk-container {/* jupyter's `normalize.less` sets `[hidden] { display: none; }` but bootstrap.min.css set `[hidden] { display: none !important; }` so we also need the `!important` here to be able to override the default hidden behavior on the sphinx rendered scikit-learn.org. See: https://github.com/scikit-learn/scikit-learn/issues/21755 */display: inline-block !important;position: relative;}#sk-container-id-4 div.sk-text-repr-fallback {display: none;}</style><div id=\"sk-container-id-4\" class=\"sk-top-container\"><div class=\"sk-text-repr-fallback\"><pre>RandomForestClassifier(n_estimators=150, n_jobs=10, random_state=42)</pre><b>In a Jupyter environment, please rerun this cell to show the HTML representation or trust the notebook. <br />On GitHub, the HTML representation is unable to render, please try loading this page with nbviewer.org.</b></div><div class=\"sk-container\" hidden><div class=\"sk-item\"><div class=\"sk-estimator sk-toggleable\"><input class=\"sk-toggleable__control sk-hidden--visually\" id=\"sk-estimator-id-4\" type=\"checkbox\" checked><label for=\"sk-estimator-id-4\" class=\"sk-toggleable__label sk-toggleable__label-arrow\">RandomForestClassifier</label><div class=\"sk-toggleable__content\"><pre>RandomForestClassifier(n_estimators=150, n_jobs=10, random_state=42)</pre></div></div></div></div></div>"
      ],
      "text/plain": [
       "RandomForestClassifier(n_estimators=150, n_jobs=10, random_state=42)"
      ]
     },
     "execution_count": 79,
     "metadata": {},
     "output_type": "execute_result"
    }
   ],
   "source": [
    "rfc.fit(X_train_rnus, y_train_rnus)"
   ]
  },
  {
   "cell_type": "code",
   "execution_count": 80,
   "id": "474adbb0",
   "metadata": {},
   "outputs": [],
   "source": [
    "y_pred4 = rfc.predict(X_test)"
   ]
  },
  {
   "cell_type": "code",
   "execution_count": 81,
   "id": "6641a4a0",
   "metadata": {},
   "outputs": [
    {
     "name": "stdout",
     "output_type": "stream",
     "text": [
      "Accuracy of the classifier is: 0.9106737658346584\n",
      "Precision of the classifier is: 0.4448549127092892\n",
      "Recall of the classifier is: 0.9162984781541482\n"
     ]
    }
   ],
   "source": [
    "acc_rfc = accuracy_score(y_test, y_pred4)\n",
    "pre_rfc = precision_score(y_test, y_pred4)\n",
    "re_rfc = recall_score(y_test, y_pred4)\n",
    "print(f\"Accuracy of the classifier is: {accuracy_score(y_test, y_pred4)}\")\n",
    "print(f\"Precision of the classifier is: {precision_score(y_test, y_pred4)}\")\n",
    "print(f\"Recall of the classifier is: {recall_score(y_test, y_pred4)}\")"
   ]
  },
  {
   "cell_type": "code",
   "execution_count": 82,
   "id": "cb244529",
   "metadata": {},
   "outputs": [
    {
     "name": "stdout",
     "output_type": "stream",
     "text": [
      "              precision    recall  f1-score   support\n",
      "\n",
      "         0.0       0.99      0.91      0.95    103790\n",
      "         1.0       0.44      0.92      0.60      8148\n",
      "\n",
      "    accuracy                           0.91    111938\n",
      "   macro avg       0.72      0.91      0.77    111938\n",
      "weighted avg       0.95      0.91      0.92    111938\n",
      "\n"
     ]
    }
   ],
   "source": [
    "print(classification_report(y_test, y_pred4))"
   ]
  },
  {
   "cell_type": "code",
   "execution_count": 83,
   "id": "73ef6909",
   "metadata": {},
   "outputs": [
    {
     "data": {
      "text/plain": [
       "<sklearn.metrics._plot.confusion_matrix.ConfusionMatrixDisplay at 0x236580dc4c0>"
      ]
     },
     "execution_count": 83,
     "metadata": {},
     "output_type": "execute_result"
    },
    {
     "data": {
      "image/png": "[encoded data removed]",
      "text/plain": [
       "<Figure size 432x288 with 2 Axes>"
      ]
     },
     "metadata": {
      "needs_background": "light"
     },
     "output_type": "display_data"
    }
   ],
   "source": [
    "plot_confusion_matrix(rfc,X_test, y_test)"
   ]
  },
  {
   "cell_type": "code",
   "execution_count": 84,
   "id": "f4123043",
   "metadata": {
    "scrolled": false
   },
   "outputs": [
    {
     "data": {
      "image/png": "[encoded data removed]",
      "text/plain": [
       "<Figure size 432x288 with 1 Axes>"
      ]
     },
     "metadata": {
      "needs_background": "light"
     },
     "output_type": "display_data"
    }
   ],
   "source": [
    "fpr_4, tpr_4, thresholds = roc_curve(y_test, y_pred4)\n",
    "plt.title('Receiver Operating Characteristic')\n",
    "plt.plot(fpr_4, tpr_4)\n",
    "plt.plot([0,1],[0,1],'k--')\n",
    "plt.xlim([-0.1,1.1])\n",
    "plt.ylim([-0.1,1.1])\n",
    "plt.ylabel('True Positive Rate')\n",
    "plt.xlabel('False Positive Rate')\n",
    "plt.show()"
   ]
  },
  {
   "cell_type": "code",
   "execution_count": 85,
   "id": "8cbcc06a",
   "metadata": {},
   "outputs": [
    {
     "data": {
      "text/plain": [
       "0.9132653388940122"
      ]
     },
     "execution_count": 85,
     "metadata": {},
     "output_type": "execute_result"
    }
   ],
   "source": [
    "auc_rfc = metrics.auc(fpr_4, tpr_4)\n",
    "auc_rfc"
   ]
  },
  {
   "cell_type": "markdown",
   "id": "615491d3",
   "metadata": {},
   "source": [
    "***AdaBoost Classifier***"
   ]
  },
  {
   "cell_type": "code",
   "execution_count": 86,
   "id": "cb63c934",
   "metadata": {},
   "outputs": [
    {
     "name": "stdout",
     "output_type": "stream",
     "text": [
      "Fitting 3 folds for each of 4 candidates, totalling 12 fits\n"
     ]
    },
    {
     "data": {
      "text/plain": [
       "{'n_estimators': 100, 'random_state': 1}"
      ]
     },
     "execution_count": 86,
     "metadata": {},
     "output_type": "execute_result"
    }
   ],
   "source": [
    "grid_params_ada = {'n_estimators':[1,100],'random_state':[1,100]}\n",
    "gs_ada = GridSearchCV( AdaBoostClassifier(), grid_params_ada, verbose = 1, cv = 3, n_jobs = -1 )\n",
    "gs_ada_results = gs_ada.fit(X_train_rnus, y_train_rnus) \n",
    "gs_ada_results.best_params_"
   ]
  },
  {
   "cell_type": "code",
   "execution_count": 87,
   "id": "715b271c",
   "metadata": {},
   "outputs": [
    {
     "data": {
      "text/html": [
       "<style>#sk-container-id-5 {color: black;background-color: white;}#sk-container-id-5 pre{padding: 0;}#sk-container-id-5 div.sk-toggleable {background-color: white;}#sk-container-id-5 label.sk-toggleable__label {cursor: pointer;display: block;width: 100%;margin-bottom: 0;padding: 0.3em;box-sizing: border-box;text-align: center;}#sk-container-id-5 label.sk-toggleable__label-arrow:before {content: \"▸\";float: left;margin-right: 0.25em;color: #696969;}#sk-container-id-5 label.sk-toggleable__label-arrow:hover:before {color: black;}#sk-container-id-5 div.sk-estimator:hover label.sk-toggleable__label-arrow:before {color: black;}#sk-container-id-5 div.sk-toggleable__content {max-height: 0;max-width: 0;overflow: hidden;text-align: left;background-color: #f0f8ff;}#sk-container-id-5 div.sk-toggleable__content pre {margin: 0.2em;color: black;border-radius: 0.25em;background-color: #f0f8ff;}#sk-container-id-5 input.sk-toggleable__control:checked~div.sk-toggleable__content {max-height: 200px;max-width: 100%;overflow: auto;}#sk-container-id-5 input.sk-toggleable__control:checked~label.sk-toggleable__label-arrow:before {content: \"▾\";}#sk-container-id-5 div.sk-estimator input.sk-toggleable__control:checked~label.sk-toggleable__label {background-color: #d4ebff;}#sk-container-id-5 div.sk-label input.sk-toggleable__control:checked~label.sk-toggleable__label {background-color: #d4ebff;}#sk-container-id-5 input.sk-hidden--visually {border: 0;clip: rect(1px 1px 1px 1px);clip: rect(1px, 1px, 1px, 1px);height: 1px;margin: -1px;overflow: hidden;padding: 0;position: absolute;width: 1px;}#sk-container-id-5 div.sk-estimator {font-family: monospace;background-color: #f0f8ff;border: 1px dotted black;border-radius: 0.25em;box-sizing: border-box;margin-bottom: 0.5em;}#sk-container-id-5 div.sk-estimator:hover {background-color: #d4ebff;}#sk-container-id-5 div.sk-parallel-item::after {content: \"\";width: 100%;border-bottom: 1px solid gray;flex-grow: 1;}#sk-container-id-5 div.sk-label:hover label.sk-toggleable__label {background-color: #d4ebff;}#sk-container-id-5 div.sk-serial::before {content: \"\";position: absolute;border-left: 1px solid gray;box-sizing: border-box;top: 0;bottom: 0;left: 50%;z-index: 0;}#sk-container-id-5 div.sk-serial {display: flex;flex-direction: column;align-items: center;background-color: white;padding-right: 0.2em;padding-left: 0.2em;position: relative;}#sk-container-id-5 div.sk-item {position: relative;z-index: 1;}#sk-container-id-5 div.sk-parallel {display: flex;align-items: stretch;justify-content: center;background-color: white;position: relative;}#sk-container-id-5 div.sk-item::before, #sk-container-id-5 div.sk-parallel-item::before {content: \"\";position: absolute;border-left: 1px solid gray;box-sizing: border-box;top: 0;bottom: 0;left: 50%;z-index: -1;}#sk-container-id-5 div.sk-parallel-item {display: flex;flex-direction: column;z-index: 1;position: relative;background-color: white;}#sk-container-id-5 div.sk-parallel-item:first-child::after {align-self: flex-end;width: 50%;}#sk-container-id-5 div.sk-parallel-item:last-child::after {align-self: flex-start;width: 50%;}#sk-container-id-5 div.sk-parallel-item:only-child::after {width: 0;}#sk-container-id-5 div.sk-dashed-wrapped {border: 1px dashed gray;margin: 0 0.4em 0.5em 0.4em;box-sizing: border-box;padding-bottom: 0.4em;background-color: white;}#sk-container-id-5 div.sk-label label {font-family: monospace;font-weight: bold;display: inline-block;line-height: 1.2em;}#sk-container-id-5 div.sk-label-container {text-align: center;}#sk-container-id-5 div.sk-container {/* jupyter's `normalize.less` sets `[hidden] { display: none; }` but bootstrap.min.css set `[hidden] { display: none !important; }` so we also need the `!important` here to be able to override the default hidden behavior on the sphinx rendered scikit-learn.org. See: https://github.com/scikit-learn/scikit-learn/issues/21755 */display: inline-block !important;position: relative;}#sk-container-id-5 div.sk-text-repr-fallback {display: none;}</style><div id=\"sk-container-id-5\" class=\"sk-top-container\"><div class=\"sk-text-repr-fallback\"><pre>AdaBoostClassifier(n_estimators=100, random_state=1)</pre><b>In a Jupyter environment, please rerun this cell to show the HTML representation or trust the notebook. <br />On GitHub, the HTML representation is unable to render, please try loading this page with nbviewer.org.</b></div><div class=\"sk-container\" hidden><div class=\"sk-item\"><div class=\"sk-estimator sk-toggleable\"><input class=\"sk-toggleable__control sk-hidden--visually\" id=\"sk-estimator-id-5\" type=\"checkbox\" checked><label for=\"sk-estimator-id-5\" class=\"sk-toggleable__label sk-toggleable__label-arrow\">AdaBoostClassifier</label><div class=\"sk-toggleable__content\"><pre>AdaBoostClassifier(n_estimators=100, random_state=1)</pre></div></div></div></div></div>"
      ],
      "text/plain": [
       "AdaBoostClassifier(n_estimators=100, random_state=1)"
      ]
     },
     "execution_count": 87,
     "metadata": {},
     "output_type": "execute_result"
    }
   ],
   "source": [
    "ada = AdaBoostClassifier(n_estimators=100, random_state=1)\n",
    "ada.fit(X_train_rnus, y_train_rnus)"
   ]
  },
  {
   "cell_type": "code",
   "execution_count": 88,
   "id": "ac45c185",
   "metadata": {},
   "outputs": [],
   "source": [
    "y_pred5 = ada.predict(X_test)"
   ]
  },
  {
   "cell_type": "code",
   "execution_count": 89,
   "id": "e675f47d",
   "metadata": {},
   "outputs": [
    {
     "name": "stdout",
     "output_type": "stream",
     "text": [
      "Accuracy of the classifier is: 0.7022012185316872\n",
      "Precision of the classifier is: 0.1536155348351074\n",
      "Recall of the classifier is: 0.6854442808051056\n"
     ]
    }
   ],
   "source": [
    "acc_ada = accuracy_score(y_test, y_pred5)\n",
    "pre_ada = precision_score(y_test, y_pred5)\n",
    "re_ada = recall_score(y_test, y_pred5)\n",
    "print(f\"Accuracy of the classifier is: {accuracy_score(y_test, y_pred5)}\")\n",
    "print(f\"Precision of the classifier is: {precision_score(y_test, y_pred5)}\")\n",
    "print(f\"Recall of the classifier is: {recall_score(y_test, y_pred5)}\")"
   ]
  },
  {
   "cell_type": "code",
   "execution_count": 90,
   "id": "83177e10",
   "metadata": {},
   "outputs": [
    {
     "name": "stdout",
     "output_type": "stream",
     "text": [
      "              precision    recall  f1-score   support\n",
      "\n",
      "         0.0       0.97      0.70      0.81    103790\n",
      "         1.0       0.15      0.69      0.25      8148\n",
      "\n",
      "    accuracy                           0.70    111938\n",
      "   macro avg       0.56      0.69      0.53    111938\n",
      "weighted avg       0.91      0.70      0.77    111938\n",
      "\n"
     ]
    }
   ],
   "source": [
    "print(classification_report(y_test, y_pred5))"
   ]
  },
  {
   "cell_type": "code",
   "execution_count": 91,
   "id": "315a99d0",
   "metadata": {},
   "outputs": [
    {
     "data": {
      "text/plain": [
       "<sklearn.metrics._plot.confusion_matrix.ConfusionMatrixDisplay at 0x23658043fa0>"
      ]
     },
     "execution_count": 91,
     "metadata": {},
     "output_type": "execute_result"
    },
    {
     "data": {
      "image/png": "[encoded data removed]",
      "text/plain": [
       "<Figure size 432x288 with 2 Axes>"
      ]
     },
     "metadata": {
      "needs_background": "light"
     },
     "output_type": "display_data"
    }
   ],
   "source": [
    "plot_confusion_matrix(ada,X_test, y_test)"
   ]
  },
  {
   "cell_type": "code",
   "execution_count": 92,
   "id": "ad68e23f",
   "metadata": {
    "scrolled": true
   },
   "outputs": [
    {
     "data": {
      "image/png": "[encoded data removed]",
      "text/plain": [
       "<Figure size 432x288 with 1 Axes>"
      ]
     },
     "metadata": {
      "needs_background": "light"
     },
     "output_type": "display_data"
    }
   ],
   "source": [
    "fpr_5, tpr_5, thresholds = roc_curve(y_test, y_pred5)\n",
    "plt.title('Receiver Operating Characteristic')\n",
    "plt.plot(fpr_5, tpr_5)\n",
    "plt.plot([0,1],[0,1],'k--')\n",
    "plt.xlim([-0.1,1.1])\n",
    "plt.ylim([-0.1,1.1])\n",
    "plt.ylabel('True Positive Rate')\n",
    "plt.xlabel('False Positive Rate')\n",
    "plt.show()"
   ]
  },
  {
   "cell_type": "code",
   "execution_count": 93,
   "id": "42739eed",
   "metadata": {},
   "outputs": [
    {
     "data": {
      "text/plain": [
       "0.6944804986258883"
      ]
     },
     "execution_count": 93,
     "metadata": {},
     "output_type": "execute_result"
    }
   ],
   "source": [
    "auc_ada = metrics.auc(fpr_5, tpr_5)\n",
    "auc_ada"
   ]
  },
  {
   "cell_type": "markdown",
   "id": "345711c1",
   "metadata": {},
   "source": [
    "***Gradient Boosting Classifier***"
   ]
  },
  {
   "cell_type": "code",
   "execution_count": 94,
   "id": "a0815f39",
   "metadata": {},
   "outputs": [
    {
     "name": "stdout",
     "output_type": "stream",
     "text": [
      "Fitting 3 folds for each of 24 candidates, totalling 72 fits\n"
     ]
    },
    {
     "data": {
      "text/plain": [
       "{'max_depth': 10,\n",
       " 'max_features': 'auto',\n",
       " 'n_estimators': 150,\n",
       " 'random_state': 100}"
      ]
     },
     "execution_count": 94,
     "metadata": {},
     "output_type": "execute_result"
    }
   ],
   "source": [
    "grid_params_gb = {'n_estimators':[1,150],'max_depth':[0,10],'random_state':[1,100],'max_features':['auto', 'sqrt', 'log2']}\n",
    "gs_gb = GridSearchCV( GradientBoostingClassifier(), grid_params_gb, verbose = 1, cv = 3, n_jobs = -1 )\n",
    "gs_gb_results = gs_gb.fit(X_train_rnus, y_train_rnus) \n",
    "gs_gb_results.best_params_"
   ]
  },
  {
   "cell_type": "code",
   "execution_count": 95,
   "id": "7b41ac72",
   "metadata": {},
   "outputs": [
    {
     "data": {
      "text/html": [
       "<style>#sk-container-id-6 {color: black;background-color: white;}#sk-container-id-6 pre{padding: 0;}#sk-container-id-6 div.sk-toggleable {background-color: white;}#sk-container-id-6 label.sk-toggleable__label {cursor: pointer;display: block;width: 100%;margin-bottom: 0;padding: 0.3em;box-sizing: border-box;text-align: center;}#sk-container-id-6 label.sk-toggleable__label-arrow:before {content: \"▸\";float: left;margin-right: 0.25em;color: #696969;}#sk-container-id-6 label.sk-toggleable__label-arrow:hover:before {color: black;}#sk-container-id-6 div.sk-estimator:hover label.sk-toggleable__label-arrow:before {color: black;}#sk-container-id-6 div.sk-toggleable__content {max-height: 0;max-width: 0;overflow: hidden;text-align: left;background-color: #f0f8ff;}#sk-container-id-6 div.sk-toggleable__content pre {margin: 0.2em;color: black;border-radius: 0.25em;background-color: #f0f8ff;}#sk-container-id-6 input.sk-toggleable__control:checked~div.sk-toggleable__content {max-height: 200px;max-width: 100%;overflow: auto;}#sk-container-id-6 input.sk-toggleable__control:checked~label.sk-toggleable__label-arrow:before {content: \"▾\";}#sk-container-id-6 div.sk-estimator input.sk-toggleable__control:checked~label.sk-toggleable__label {background-color: #d4ebff;}#sk-container-id-6 div.sk-label input.sk-toggleable__control:checked~label.sk-toggleable__label {background-color: #d4ebff;}#sk-container-id-6 input.sk-hidden--visually {border: 0;clip: rect(1px 1px 1px 1px);clip: rect(1px, 1px, 1px, 1px);height: 1px;margin: -1px;overflow: hidden;padding: 0;position: absolute;width: 1px;}#sk-container-id-6 div.sk-estimator {font-family: monospace;background-color: #f0f8ff;border: 1px dotted black;border-radius: 0.25em;box-sizing: border-box;margin-bottom: 0.5em;}#sk-container-id-6 div.sk-estimator:hover {background-color: #d4ebff;}#sk-container-id-6 div.sk-parallel-item::after {content: \"\";width: 100%;border-bottom: 1px solid gray;flex-grow: 1;}#sk-container-id-6 div.sk-label:hover label.sk-toggleable__label {background-color: #d4ebff;}#sk-container-id-6 div.sk-serial::before {content: \"\";position: absolute;border-left: 1px solid gray;box-sizing: border-box;top: 0;bottom: 0;left: 50%;z-index: 0;}#sk-container-id-6 div.sk-serial {display: flex;flex-direction: column;align-items: center;background-color: white;padding-right: 0.2em;padding-left: 0.2em;position: relative;}#sk-container-id-6 div.sk-item {position: relative;z-index: 1;}#sk-container-id-6 div.sk-parallel {display: flex;align-items: stretch;justify-content: center;background-color: white;position: relative;}#sk-container-id-6 div.sk-item::before, #sk-container-id-6 div.sk-parallel-item::before {content: \"\";position: absolute;border-left: 1px solid gray;box-sizing: border-box;top: 0;bottom: 0;left: 50%;z-index: -1;}#sk-container-id-6 div.sk-parallel-item {display: flex;flex-direction: column;z-index: 1;position: relative;background-color: white;}#sk-container-id-6 div.sk-parallel-item:first-child::after {align-self: flex-end;width: 50%;}#sk-container-id-6 div.sk-parallel-item:last-child::after {align-self: flex-start;width: 50%;}#sk-container-id-6 div.sk-parallel-item:only-child::after {width: 0;}#sk-container-id-6 div.sk-dashed-wrapped {border: 1px dashed gray;margin: 0 0.4em 0.5em 0.4em;box-sizing: border-box;padding-bottom: 0.4em;background-color: white;}#sk-container-id-6 div.sk-label label {font-family: monospace;font-weight: bold;display: inline-block;line-height: 1.2em;}#sk-container-id-6 div.sk-label-container {text-align: center;}#sk-container-id-6 div.sk-container {/* jupyter's `normalize.less` sets `[hidden] { display: none; }` but bootstrap.min.css set `[hidden] { display: none !important; }` so we also need the `!important` here to be able to override the default hidden behavior on the sphinx rendered scikit-learn.org. See: https://github.com/scikit-learn/scikit-learn/issues/21755 */display: inline-block !important;position: relative;}#sk-container-id-6 div.sk-text-repr-fallback {display: none;}</style><div id=\"sk-container-id-6\" class=\"sk-top-container\"><div class=\"sk-text-repr-fallback\"><pre>GradientBoostingClassifier(max_depth=10, max_features=&#x27;auto&#x27;, n_estimators=150,\n",
       "                           random_state=100)</pre><b>In a Jupyter environment, please rerun this cell to show the HTML representation or trust the notebook. <br />On GitHub, the HTML representation is unable to render, please try loading this page with nbviewer.org.</b></div><div class=\"sk-container\" hidden><div class=\"sk-item\"><div class=\"sk-estimator sk-toggleable\"><input class=\"sk-toggleable__control sk-hidden--visually\" id=\"sk-estimator-id-6\" type=\"checkbox\" checked><label for=\"sk-estimator-id-6\" class=\"sk-toggleable__label sk-toggleable__label-arrow\">GradientBoostingClassifier</label><div class=\"sk-toggleable__content\"><pre>GradientBoostingClassifier(max_depth=10, max_features=&#x27;auto&#x27;, n_estimators=150,\n",
       "                           random_state=100)</pre></div></div></div></div></div>"
      ],
      "text/plain": [
       "GradientBoostingClassifier(max_depth=10, max_features='auto', n_estimators=150,\n",
       "                           random_state=100)"
      ]
     },
     "execution_count": 95,
     "metadata": {},
     "output_type": "execute_result"
    }
   ],
   "source": [
    "gb = GradientBoostingClassifier(random_state=100,max_depth=10,max_features='auto',n_estimators=150)\n",
    "gb.fit(X_train_rnus, y_train_rnus)"
   ]
  },
  {
   "cell_type": "code",
   "execution_count": 96,
   "id": "a0765799",
   "metadata": {},
   "outputs": [],
   "source": [
    "y_pred6 = gb.predict(X_test)"
   ]
  },
  {
   "cell_type": "code",
   "execution_count": 97,
   "id": "ad53b50f",
   "metadata": {},
   "outputs": [
    {
     "name": "stdout",
     "output_type": "stream",
     "text": [
      "Accuracy of the classifier is: 0.9027408029444871\n",
      "Precision of the classifier is: 0.424240747911711\n",
      "Recall of the classifier is: 0.9412125675012273\n"
     ]
    }
   ],
   "source": [
    "acc_gb = accuracy_score(y_test, y_pred6)\n",
    "pre_gb = precision_score(y_test, y_pred6)\n",
    "re_gb = recall_score(y_test, y_pred6)\n",
    "print(f\"Accuracy of the classifier is: {accuracy_score(y_test, y_pred6)}\")\n",
    "print(f\"Precision of the classifier is: {precision_score(y_test, y_pred6)}\")\n",
    "print(f\"Recall of the classifier is: {recall_score(y_test, y_pred6)}\")"
   ]
  },
  {
   "cell_type": "code",
   "execution_count": 98,
   "id": "4f6beb8e",
   "metadata": {},
   "outputs": [
    {
     "name": "stdout",
     "output_type": "stream",
     "text": [
      "              precision    recall  f1-score   support\n",
      "\n",
      "         0.0       0.99      0.90      0.94    103790\n",
      "         1.0       0.42      0.94      0.58      8148\n",
      "\n",
      "    accuracy                           0.90    111938\n",
      "   macro avg       0.71      0.92      0.76    111938\n",
      "weighted avg       0.95      0.90      0.92    111938\n",
      "\n"
     ]
    }
   ],
   "source": [
    "print(classification_report(y_test, y_pred6))"
   ]
  },
  {
   "cell_type": "code",
   "execution_count": 99,
   "id": "bb8c55a7",
   "metadata": {},
   "outputs": [
    {
     "data": {
      "text/plain": [
       "<sklearn.metrics._plot.confusion_matrix.ConfusionMatrixDisplay at 0x2365803ef70>"
      ]
     },
     "execution_count": 99,
     "metadata": {},
     "output_type": "execute_result"
    },
    {
     "data": {
      "image/png": "[encoded data removed]",
      "text/plain": [
       "<Figure size 432x288 with 2 Axes>"
      ]
     },
     "metadata": {
      "needs_background": "light"
     },
     "output_type": "display_data"
    }
   ],
   "source": [
    "plot_confusion_matrix(gb,X_test, y_test)"
   ]
  },
  {
   "cell_type": "code",
   "execution_count": 100,
   "id": "1bb5761a",
   "metadata": {
    "scrolled": true
   },
   "outputs": [
    {
     "data": {
      "image/png": "[encoded data removed]",
      "text/plain": [
       "<Figure size 432x288 with 1 Axes>"
      ]
     },
     "metadata": {
      "needs_background": "light"
     },
     "output_type": "display_data"
    }
   ],
   "source": [
    "fpr_6, tpr_6, thresholds = roc_curve(y_test, y_pred6)\n",
    "plt.title('Receiver Operating Characteristic')\n",
    "plt.plot(fpr_6, tpr_6)\n",
    "plt.plot([0,1],[0,1],'k--')\n",
    "plt.xlim([-0.1,1.1])\n",
    "plt.ylim([-0.1,1.1])\n",
    "plt.ylabel('True Positive Rate')\n",
    "plt.xlabel('False Positive Rate')\n",
    "plt.show()"
   ]
  },
  {
   "cell_type": "code",
   "execution_count": 101,
   "id": "fe4965e9",
   "metadata": {},
   "outputs": [
    {
     "data": {
      "text/plain": [
       "0.9204665785767047"
      ]
     },
     "execution_count": 101,
     "metadata": {},
     "output_type": "execute_result"
    }
   ],
   "source": [
    "auc_gb = metrics.auc(fpr_6, tpr_6)\n",
    "auc_gb"
   ]
  },
  {
   "cell_type": "markdown",
   "id": "b4081257",
   "metadata": {},
   "source": [
    "***XGboost***"
   ]
  },
  {
   "cell_type": "code",
   "execution_count": 102,
   "id": "f4490dfc",
   "metadata": {},
   "outputs": [],
   "source": [
    "from xgboost import XGBClassifier"
   ]
  },
  {
   "cell_type": "code",
   "execution_count": 103,
   "id": "b91c8041",
   "metadata": {},
   "outputs": [
    {
     "name": "stdout",
     "output_type": "stream",
     "text": [
      "Fitting 3 folds for each of 2 candidates, totalling 6 fits\n"
     ]
    },
    {
     "data": {
      "text/plain": [
       "{'max_depth': 20}"
      ]
     },
     "execution_count": 103,
     "metadata": {},
     "output_type": "execute_result"
    }
   ],
   "source": [
    "grid_params_xgb = {'max_depth':[1,20], }\n",
    "gs_xgb = GridSearchCV(XGBClassifier(), grid_params_xgb, verbose = 1, cv = 3, n_jobs = -1 )\n",
    "gs_xgb_results = gs_xgb.fit(X_train_rnus, y_train_rnus) \n",
    "gs_xgb_results.best_params_"
   ]
  },
  {
   "cell_type": "code",
   "execution_count": 104,
   "id": "ffd0335b",
   "metadata": {},
   "outputs": [
    {
     "data": {
      "text/html": [
       "<style>#sk-container-id-7 {color: black;background-color: white;}#sk-container-id-7 pre{padding: 0;}#sk-container-id-7 div.sk-toggleable {background-color: white;}#sk-container-id-7 label.sk-toggleable__label {cursor: pointer;display: block;width: 100%;margin-bottom: 0;padding: 0.3em;box-sizing: border-box;text-align: center;}#sk-container-id-7 label.sk-toggleable__label-arrow:before {content: \"▸\";float: left;margin-right: 0.25em;color: #696969;}#sk-container-id-7 label.sk-toggleable__label-arrow:hover:before {color: black;}#sk-container-id-7 div.sk-estimator:hover label.sk-toggleable__label-arrow:before {color: black;}#sk-container-id-7 div.sk-toggleable__content {max-height: 0;max-width: 0;overflow: hidden;text-align: left;background-color: #f0f8ff;}#sk-container-id-7 div.sk-toggleable__content pre {margin: 0.2em;color: black;border-radius: 0.25em;background-color: #f0f8ff;}#sk-container-id-7 input.sk-toggleable__control:checked~div.sk-toggleable__content {max-height: 200px;max-width: 100%;overflow: auto;}#sk-container-id-7 input.sk-toggleable__control:checked~label.sk-toggleable__label-arrow:before {content: \"▾\";}#sk-container-id-7 div.sk-estimator input.sk-toggleable__control:checked~label.sk-toggleable__label {background-color: #d4ebff;}#sk-container-id-7 div.sk-label input.sk-toggleable__control:checked~label.sk-toggleable__label {background-color: #d4ebff;}#sk-container-id-7 input.sk-hidden--visually {border: 0;clip: rect(1px 1px 1px 1px);clip: rect(1px, 1px, 1px, 1px);height: 1px;margin: -1px;overflow: hidden;padding: 0;position: absolute;width: 1px;}#sk-container-id-7 div.sk-estimator {font-family: monospace;background-color: #f0f8ff;border: 1px dotted black;border-radius: 0.25em;box-sizing: border-box;margin-bottom: 0.5em;}#sk-container-id-7 div.sk-estimator:hover {background-color: #d4ebff;}#sk-container-id-7 div.sk-parallel-item::after {content: \"\";width: 100%;border-bottom: 1px solid gray;flex-grow: 1;}#sk-container-id-7 div.sk-label:hover label.sk-toggleable__label {background-color: #d4ebff;}#sk-container-id-7 div.sk-serial::before {content: \"\";position: absolute;border-left: 1px solid gray;box-sizing: border-box;top: 0;bottom: 0;left: 50%;z-index: 0;}#sk-container-id-7 div.sk-serial {display: flex;flex-direction: column;align-items: center;background-color: white;padding-right: 0.2em;padding-left: 0.2em;position: relative;}#sk-container-id-7 div.sk-item {position: relative;z-index: 1;}#sk-container-id-7 div.sk-parallel {display: flex;align-items: stretch;justify-content: center;background-color: white;position: relative;}#sk-container-id-7 div.sk-item::before, #sk-container-id-7 div.sk-parallel-item::before {content: \"\";position: absolute;border-left: 1px solid gray;box-sizing: border-box;top: 0;bottom: 0;left: 50%;z-index: -1;}#sk-container-id-7 div.sk-parallel-item {display: flex;flex-direction: column;z-index: 1;position: relative;background-color: white;}#sk-container-id-7 div.sk-parallel-item:first-child::after {align-self: flex-end;width: 50%;}#sk-container-id-7 div.sk-parallel-item:last-child::after {align-self: flex-start;width: 50%;}#sk-container-id-7 div.sk-parallel-item:only-child::after {width: 0;}#sk-container-id-7 div.sk-dashed-wrapped {border: 1px dashed gray;margin: 0 0.4em 0.5em 0.4em;box-sizing: border-box;padding-bottom: 0.4em;background-color: white;}#sk-container-id-7 div.sk-label label {font-family: monospace;font-weight: bold;display: inline-block;line-height: 1.2em;}#sk-container-id-7 div.sk-label-container {text-align: center;}#sk-container-id-7 div.sk-container {/* jupyter's `normalize.less` sets `[hidden] { display: none; }` but bootstrap.min.css set `[hidden] { display: none !important; }` so we also need the `!important` here to be able to override the default hidden behavior on the sphinx rendered scikit-learn.org. See: https://github.com/scikit-learn/scikit-learn/issues/21755 */display: inline-block !important;position: relative;}#sk-container-id-7 div.sk-text-repr-fallback {display: none;}</style><div id=\"sk-container-id-7\" class=\"sk-top-container\"><div class=\"sk-text-repr-fallback\"><pre>XGBClassifier(base_score=0.5, booster=&#x27;gbtree&#x27;, callbacks=None,\n",
       "              colsample_bylevel=1, colsample_bynode=1, colsample_bytree=1,\n",
       "              early_stopping_rounds=None, enable_categorical=False,\n",
       "              eval_metric=None, gamma=0, gpu_id=-1, grow_policy=&#x27;depthwise&#x27;,\n",
       "              importance_type=None, interaction_constraints=&#x27;&#x27;,\n",
       "              learning_rate=0.300000012, max_bin=256, max_cat_to_onehot=4,\n",
       "              max_delta_step=0, max_depth=20, max_leaves=0, min_child_weight=1,\n",
       "              missing=nan, monotone_constraints=&#x27;()&#x27;, n_estimators=100,\n",
       "              n_jobs=0, num_parallel_tree=1, predictor=&#x27;auto&#x27;, random_state=0,\n",
       "              reg_alpha=0, reg_lambda=1, ...)</pre><b>In a Jupyter environment, please rerun this cell to show the HTML representation or trust the notebook. <br />On GitHub, the HTML representation is unable to render, please try loading this page with nbviewer.org.</b></div><div class=\"sk-container\" hidden><div class=\"sk-item\"><div class=\"sk-estimator sk-toggleable\"><input class=\"sk-toggleable__control sk-hidden--visually\" id=\"sk-estimator-id-7\" type=\"checkbox\" checked><label for=\"sk-estimator-id-7\" class=\"sk-toggleable__label sk-toggleable__label-arrow\">XGBClassifier</label><div class=\"sk-toggleable__content\"><pre>XGBClassifier(base_score=0.5, booster=&#x27;gbtree&#x27;, callbacks=None,\n",
       "              colsample_bylevel=1, colsample_bynode=1, colsample_bytree=1,\n",
       "              early_stopping_rounds=None, enable_categorical=False,\n",
       "              eval_metric=None, gamma=0, gpu_id=-1, grow_policy=&#x27;depthwise&#x27;,\n",
       "              importance_type=None, interaction_constraints=&#x27;&#x27;,\n",
       "              learning_rate=0.300000012, max_bin=256, max_cat_to_onehot=4,\n",
       "              max_delta_step=0, max_depth=20, max_leaves=0, min_child_weight=1,\n",
       "              missing=nan, monotone_constraints=&#x27;()&#x27;, n_estimators=100,\n",
       "              n_jobs=0, num_parallel_tree=1, predictor=&#x27;auto&#x27;, random_state=0,\n",
       "              reg_alpha=0, reg_lambda=1, ...)</pre></div></div></div></div></div>"
      ],
      "text/plain": [
       "XGBClassifier(base_score=0.5, booster='gbtree', callbacks=None,\n",
       "              colsample_bylevel=1, colsample_bynode=1, colsample_bytree=1,\n",
       "              early_stopping_rounds=None, enable_categorical=False,\n",
       "              eval_metric=None, gamma=0, gpu_id=-1, grow_policy='depthwise',\n",
       "              importance_type=None, interaction_constraints='',\n",
       "              learning_rate=0.300000012, max_bin=256, max_cat_to_onehot=4,\n",
       "              max_delta_step=0, max_depth=20, max_leaves=0, min_child_weight=1,\n",
       "              missing=nan, monotone_constraints='()', n_estimators=100,\n",
       "              n_jobs=0, num_parallel_tree=1, predictor='auto', random_state=0,\n",
       "              reg_alpha=0, reg_lambda=1, ...)"
      ]
     },
     "execution_count": 104,
     "metadata": {},
     "output_type": "execute_result"
    }
   ],
   "source": [
    "xgb =  XGBClassifier(random_state=0,max_depth=20)\n",
    "xgb.fit(X_train_rnus, y_train_rnus)"
   ]
  },
  {
   "cell_type": "code",
   "execution_count": 105,
   "id": "0a06005d",
   "metadata": {},
   "outputs": [],
   "source": [
    "y_pred7 = xgb.predict(X_test)"
   ]
  },
  {
   "cell_type": "code",
   "execution_count": 106,
   "id": "6963bad4",
   "metadata": {},
   "outputs": [
    {
     "name": "stdout",
     "output_type": "stream",
     "text": [
      "Accuracy of the classifier is: 0.9092712037020494\n",
      "Precision of the classifier is: 0.4424443934877322\n",
      "Recall of the classifier is: 0.9472263132056946\n"
     ]
    }
   ],
   "source": [
    "acc_xgb = accuracy_score(y_test, y_pred7)\n",
    "pre_xgb = precision_score(y_test, y_pred7)\n",
    "re_xgb = recall_score(y_test, y_pred7)\n",
    "print(f\"Accuracy of the classifier is: {accuracy_score(y_test, y_pred7)}\")\n",
    "print(f\"Precision of the classifier is: {precision_score(y_test, y_pred7)}\")\n",
    "print(f\"Recall of the classifier is: {recall_score(y_test, y_pred7)}\")"
   ]
  },
  {
   "cell_type": "code",
   "execution_count": 107,
   "id": "64eadc47",
   "metadata": {},
   "outputs": [
    {
     "name": "stdout",
     "output_type": "stream",
     "text": [
      "              precision    recall  f1-score   support\n",
      "\n",
      "         0.0       1.00      0.91      0.95    103790\n",
      "         1.0       0.44      0.95      0.60      8148\n",
      "\n",
      "    accuracy                           0.91    111938\n",
      "   macro avg       0.72      0.93      0.78    111938\n",
      "weighted avg       0.96      0.91      0.92    111938\n",
      "\n"
     ]
    }
   ],
   "source": [
    "print(classification_report(y_test, y_pred7))"
   ]
  },
  {
   "cell_type": "code",
   "execution_count": 108,
   "id": "044c3b6e",
   "metadata": {
    "scrolled": true
   },
   "outputs": [
    {
     "data": {
      "text/plain": [
       "<sklearn.metrics._plot.confusion_matrix.ConfusionMatrixDisplay at 0x23657e88af0>"
      ]
     },
     "execution_count": 108,
     "metadata": {},
     "output_type": "execute_result"
    },
    {
     "data": {
      "image/png": "[encoded data removed]",
      "text/plain": [
       "<Figure size 432x288 with 2 Axes>"
      ]
     },
     "metadata": {
      "needs_background": "light"
     },
     "output_type": "display_data"
    }
   ],
   "source": [
    "plot_confusion_matrix(xgb,X_test, y_test)"
   ]
  },
  {
   "cell_type": "code",
   "execution_count": 109,
   "id": "93d7d95c",
   "metadata": {},
   "outputs": [
    {
     "data": {
      "image/png": "[encoded data removed]",
      "text/plain": [
       "<Figure size 432x288 with 1 Axes>"
      ]
     },
     "metadata": {
      "needs_background": "light"
     },
     "output_type": "display_data"
    }
   ],
   "source": [
    "fpr_7, tpr_7, thresholds = roc_curve(y_test, y_pred7)\n",
    "plt.title('Receiver Operating Characteristic')\n",
    "plt.plot(fpr_7, tpr_7)\n",
    "plt.plot([0,1],[0,1],'k--')\n",
    "plt.xlim([-0.1,1.1])\n",
    "plt.ylim([-0.1,1.1])\n",
    "plt.ylabel('True Positive Rate')\n",
    "plt.xlabel('False Positive Rate')\n",
    "plt.show()"
   ]
  },
  {
   "cell_type": "code",
   "execution_count": 110,
   "id": "e9589a89",
   "metadata": {},
   "outputs": [
    {
     "data": {
      "text/plain": [
       "0.9267589317256915"
      ]
     },
     "execution_count": 110,
     "metadata": {},
     "output_type": "execute_result"
    }
   ],
   "source": [
    "auc_xgb = metrics.auc(fpr_7, tpr_7)\n",
    "auc_xgb"
   ]
  },
  {
   "cell_type": "markdown",
   "id": "1b440717",
   "metadata": {},
   "source": [
    "**Fully Connected Neural Network**"
   ]
  },
  {
   "cell_type": "code",
   "execution_count": 111,
   "id": "47677860",
   "metadata": {},
   "outputs": [],
   "source": [
    "from sklearn.pipeline import make_pipeline\n",
    "from sklearn.preprocessing import StandardScaler\n",
    "from sklearn.model_selection import RandomizedSearchCV, GridSearchCV, cross_val_score\n",
    "from sklearn.decomposition import PCA \n",
    "# Classification metrics\n",
    "from sklearn.metrics import confusion_matrix\n",
    "from sklearn.metrics import roc_curve, roc_auc_score\n",
    "from sklearn.metrics import precision_recall_curve\n",
    "from sklearn.metrics import cohen_kappa_score\n",
    "# Ignore ConvergenceWarning messages\n",
    "import warnings\n",
    "from sklearn.exceptions import ConvergenceWarning\n",
    "warnings.simplefilter(action='ignore', category=ConvergenceWarning)\n",
    "from functools import reduce\n",
    "# Keras Library\n",
    "import tensorflow as tf\n",
    "from tensorflow.keras.models import Sequential\n",
    "from tensorflow.keras.layers import Input, Dense, Flatten, Dropout, Activation, BatchNormalization,Layer\n",
    "from tensorflow.keras.metrics import AUC\n",
    "from tensorflow.keras.utils import to_categorical\n",
    "from tensorflow.keras.callbacks import EarlyStopping,ModelCheckpoint\n",
    "from tensorflow.keras import backend as K"
   ]
  },
  {
   "cell_type": "code",
   "execution_count": 112,
   "id": "b3271ea3",
   "metadata": {},
   "outputs": [],
   "source": [
    "def calculate_metrics(pred_class, pred, y_test):\n",
    "    '''\n",
    "    This function calculates the classificaiton metrics including precision, recall, F1-Score, AUC_ROC, and cohen-kappa coefficient.\n",
    "\n",
    "    Parameters:\n",
    "    pred_class: Binary class prediction of the target variable.\n",
    "    pred: Probability prediction of the target variable.\n",
    "    y_test: y_test in the trainig dataset\n",
    "\n",
    "    Returns:\n",
    "    None\n",
    "    '''\n",
    "\n",
    "    # ROC_AUC score\n",
    "    print('ROC_AUC of the test set:', roc_auc_score(y_test, pred))\n",
    "    # Precision/Recall (0.1 Threshold)\n",
    "    pred_class_2 = (np.array(pred) > 0.5).astype(int)\n",
    "    cm = confusion_matrix(y_test, pred_class_2)\n",
    "    print('\\nConfusion_metrix (0.5 Threshold): \\n', cm)\n",
    "    # True Negatives (TN)\n",
    "    tn = cm[0][0]\n",
    "    # False Positives (FP)\n",
    "    fp = cm[0][1]    \n",
    "    # False Negatives (FN)\n",
    "    fn = cm[1][0]\n",
    "    # True Positives (TP)\n",
    "    tp = cm[1][1]\n",
    "    precision = tp / (tp + fp)\n",
    "    print( 'Precision (0.5 Threshold): ', precision )\n",
    "    recall = tp / (tp + fn)\n",
    "    print( 'Recall (0.5 Threshold): ', recall )\n",
    "    print( 'F1-score ( 0.5 Threshold):', 2*precision*recall/(precision+recall))\n",
    "    cohen_kappa = cohen_kappa_score(y_test, pred_class_2)\n",
    "    print( '\\nCohen_kappa (0.5 Threshold): ', cohen_kappa )\n",
    "    accuracy = (tp+tn) / (tp + tn + fp + fn)\n",
    "    print( 'Accuracy ( 0.5 Threshold):', accuracy) \n",
    "    s = sns.heatmap(cm, annot=True, fmt='d')\n",
    "    s.set_xlabel('\\nPredicted Label')\n",
    "    s.set_ylabel('True Label')\n",
    "    s.xaxis.set_ticklabels(['0.0','1.0'])\n",
    "    s.yaxis.set_ticklabels(['0.0','1.0'])\n",
    "    plt.show()\n",
    "\n",
    "    \n",
    "def plot_ROC(y_test, pred):\n",
    "    '''\n",
    "    This function plots ROC based on y_test and predictied probability of positive class by lightGBM.\n",
    "\n",
    "    Parameters:\n",
    "    pred: Probability prediction of the target variable.\n",
    "    y_test: y_test in the trainig dataset\n",
    "\n",
    "    Returns:\n",
    "    None\n",
    "    '''\n",
    "\n",
    "    # Initialize figure\n",
    "    #fig = plt.figure(figsize=(9,9))\n",
    "    plt.title('Receiver Operating Characteristic')\n",
    "    # Plot ROC curve\n",
    "    fpr, tpr, thresholds = roc_curve(y_test, pred)\n",
    "    plt.plot(fpr, tpr)\n",
    "    # Diagonal 45 degree line\n",
    "    plt.plot([0,1],[0,1],'k--')\n",
    "    # Axes limits and labels\n",
    "    plt.xlim([-0.1,1.1])\n",
    "    plt.ylim([-0.1,1.1])\n",
    "    plt.ylabel('True Positive Rate')\n",
    "    plt.xlabel('False Positive Rate')\n",
    "    plt.show()\n",
    "\n",
    "def plot_precision_recall(y_test, pred):\n",
    "    '''\n",
    "    This function plots precicision_recall curve based on y_test and predictied probability of positive class by lightGBM..\n",
    "\n",
    "    Parameters:\n",
    "    pred: Probability prediction of the target variable.\n",
    "    y_test: y_test in the trainig dataset\n",
    "    \n",
    "    Returns:\n",
    "    None\n",
    "    '''\n",
    "\n",
    "    precision, recall, thresholds = precision_recall_curve(y_test, pred)\n",
    "    #fig = plt.figure(figsize=(9,9))\n",
    "    plt.title('Precision_Recall')\n",
    "    # Plot Precision-Recall curve\n",
    "    plt.plot(recall, precision)\n",
    "    # Axes limits and labels\n",
    "    plt.xlim([0,1])\n",
    "    plt.ylim([0,1])\n",
    "    plt.ylabel('Precision')\n",
    "    plt.xlabel('Recall')\n",
    "    plt.show()\n"
   ]
  },
  {
   "cell_type": "code",
   "execution_count": 113,
   "id": "bf33117a",
   "metadata": {
    "scrolled": true
   },
   "outputs": [
    {
     "name": "stdout",
     "output_type": "stream",
     "text": [
      "Model: \"sequential\"\n",
      "_________________________________________________________________\n",
      " Layer (type)                Output Shape              Param #   \n",
      "=================================================================\n",
      " dense (Dense)               (None, 16)                2224      \n",
      "                                                                 \n",
      " batch_normalization (BatchN  (None, 16)               64        \n",
      " ormalization)                                                   \n",
      "                                                                 \n",
      " activation (Activation)     (None, 16)                0         \n",
      "                                                                 \n",
      " dropout (Dropout)           (None, 16)                0         \n",
      "                                                                 \n",
      " dense_1 (Dense)             (None, 32)                544       \n",
      "                                                                 \n",
      " batch_normalization_1 (Batc  (None, 32)               128       \n",
      " hNormalization)                                                 \n",
      "                                                                 \n",
      " activation_1 (Activation)   (None, 32)                0         \n",
      "                                                                 \n",
      " dropout_1 (Dropout)         (None, 32)                0         \n",
      "                                                                 \n",
      " dense_2 (Dense)             (None, 64)                2112      \n",
      "                                                                 \n",
      " batch_normalization_2 (Batc  (None, 64)               256       \n",
      " hNormalization)                                                 \n",
      "                                                                 \n",
      " activation_2 (Activation)   (None, 64)                0         \n",
      "                                                                 \n",
      " dropout_2 (Dropout)         (None, 64)                0         \n",
      "                                                                 \n",
      " dense_3 (Dense)             (None, 1)                 65        \n",
      "                                                                 \n",
      "=================================================================\n",
      "Total params: 5,393\n",
      "Trainable params: 5,169\n",
      "Non-trainable params: 224\n",
      "_________________________________________________________________\n",
      "Epoch 1/100\n",
      "77/77 [==============================] - 3s 16ms/step - loss: 0.6783 - auc: 0.5987 - val_loss: 0.6629 - val_auc: 0.6763\n",
      "Epoch 2/100\n",
      "77/77 [==============================] - 1s 7ms/step - loss: 0.6408 - auc: 0.6821 - val_loss: 0.6241 - val_auc: 0.7276\n",
      "Epoch 3/100\n",
      "77/77 [==============================] - 1s 8ms/step - loss: 0.6245 - auc: 0.7084 - val_loss: 0.6034 - val_auc: 0.7448\n",
      "Epoch 4/100\n",
      "77/77 [==============================] - 1s 10ms/step - loss: 0.6151 - auc: 0.7214 - val_loss: 0.5944 - val_auc: 0.7508\n",
      "Epoch 5/100\n",
      "77/77 [==============================] - 1s 8ms/step - loss: 0.6079 - auc: 0.7309 - val_loss: 0.5911 - val_auc: 0.7550\n",
      "Epoch 6/100\n",
      "77/77 [==============================] - 1s 10ms/step - loss: 0.6052 - auc: 0.7349 - val_loss: 0.5887 - val_auc: 0.7567\n",
      "Epoch 7/100\n",
      "77/77 [==============================] - 1s 11ms/step - loss: 0.6027 - auc: 0.7383 - val_loss: 0.5865 - val_auc: 0.7591\n",
      "Epoch 8/100\n",
      "77/77 [==============================] - 1s 8ms/step - loss: 0.6008 - auc: 0.7404 - val_loss: 0.5860 - val_auc: 0.7610\n",
      "Epoch 9/100\n",
      "77/77 [==============================] - 1s 10ms/step - loss: 0.5967 - auc: 0.7452 - val_loss: 0.5829 - val_auc: 0.7631\n",
      "Epoch 10/100\n",
      "77/77 [==============================] - 1s 11ms/step - loss: 0.5954 - auc: 0.7467 - val_loss: 0.5822 - val_auc: 0.7636\n",
      "Epoch 11/100\n",
      "77/77 [==============================] - 1s 11ms/step - loss: 0.5943 - auc: 0.7477 - val_loss: 0.5804 - val_auc: 0.7648\n",
      "Epoch 12/100\n",
      "77/77 [==============================] - 1s 11ms/step - loss: 0.5914 - auc: 0.7514 - val_loss: 0.5803 - val_auc: 0.7662\n",
      "Epoch 13/100\n",
      "77/77 [==============================] - 1s 9ms/step - loss: 0.5901 - auc: 0.7529 - val_loss: 0.5790 - val_auc: 0.7673\n",
      "Epoch 14/100\n",
      "77/77 [==============================] - 1s 11ms/step - loss: 0.5893 - auc: 0.7532 - val_loss: 0.5789 - val_auc: 0.7683\n",
      "Epoch 15/100\n",
      "77/77 [==============================] - 1s 9ms/step - loss: 0.5880 - auc: 0.7554 - val_loss: 0.5776 - val_auc: 0.7692\n",
      "Epoch 16/100\n",
      "77/77 [==============================] - 1s 9ms/step - loss: 0.5866 - auc: 0.7570 - val_loss: 0.5773 - val_auc: 0.7697\n",
      "Epoch 17/100\n",
      "77/77 [==============================] - 1s 8ms/step - loss: 0.5866 - auc: 0.7569 - val_loss: 0.5773 - val_auc: 0.7702\n",
      "Epoch 18/100\n",
      "77/77 [==============================] - 1s 10ms/step - loss: 0.5837 - auc: 0.7597 - val_loss: 0.5761 - val_auc: 0.7713\n",
      "Epoch 19/100\n",
      "77/77 [==============================] - 1s 8ms/step - loss: 0.5822 - auc: 0.7612 - val_loss: 0.5750 - val_auc: 0.7715\n",
      "Epoch 20/100\n",
      "77/77 [==============================] - 1s 11ms/step - loss: 0.5819 - auc: 0.7618 - val_loss: 0.5737 - val_auc: 0.7725\n",
      "Epoch 21/100\n",
      "77/77 [==============================] - 1s 8ms/step - loss: 0.5805 - auc: 0.7629 - val_loss: 0.5751 - val_auc: 0.7728\n",
      "Epoch 22/100\n",
      "77/77 [==============================] - 1s 10ms/step - loss: 0.5816 - auc: 0.7623 - val_loss: 0.5734 - val_auc: 0.7738\n",
      "Epoch 23/100\n",
      "77/77 [==============================] - 1s 10ms/step - loss: 0.5777 - auc: 0.7662 - val_loss: 0.5707 - val_auc: 0.7753\n",
      "Epoch 24/100\n",
      "77/77 [==============================] - 1s 11ms/step - loss: 0.5776 - auc: 0.7664 - val_loss: 0.5706 - val_auc: 0.7759\n",
      "Epoch 25/100\n",
      "77/77 [==============================] - 1s 9ms/step - loss: 0.5772 - auc: 0.7668 - val_loss: 0.5709 - val_auc: 0.7760\n",
      "Epoch 26/100\n",
      "77/77 [==============================] - 1s 10ms/step - loss: 0.5758 - auc: 0.7681 - val_loss: 0.5701 - val_auc: 0.7771\n",
      "Epoch 27/100\n",
      "77/77 [==============================] - 1s 10ms/step - loss: 0.5746 - auc: 0.7696 - val_loss: 0.5695 - val_auc: 0.7772\n",
      "Epoch 28/100\n",
      "77/77 [==============================] - 1s 9ms/step - loss: 0.5736 - auc: 0.7707 - val_loss: 0.5693 - val_auc: 0.7780\n",
      "Epoch 29/100\n",
      "77/77 [==============================] - 1s 10ms/step - loss: 0.5746 - auc: 0.7699 - val_loss: 0.5684 - val_auc: 0.7784\n",
      "Epoch 30/100\n",
      "77/77 [==============================] - 1s 10ms/step - loss: 0.5730 - auc: 0.7711 - val_loss: 0.5679 - val_auc: 0.7789\n",
      "Epoch 31/100\n",
      "77/77 [==============================] - 1s 10ms/step - loss: 0.5728 - auc: 0.7714 - val_loss: 0.5679 - val_auc: 0.7788\n",
      "Epoch 32/100\n",
      "77/77 [==============================] - 1s 11ms/step - loss: 0.5708 - auc: 0.7732 - val_loss: 0.5662 - val_auc: 0.7801\n",
      "Epoch 33/100\n",
      "77/77 [==============================] - 1s 11ms/step - loss: 0.5710 - auc: 0.7733 - val_loss: 0.5654 - val_auc: 0.7805\n",
      "Epoch 34/100\n",
      "77/77 [==============================] - 1s 10ms/step - loss: 0.5697 - auc: 0.7745 - val_loss: 0.5648 - val_auc: 0.7811\n",
      "Epoch 35/100\n",
      "77/77 [==============================] - 1s 9ms/step - loss: 0.5685 - auc: 0.7757 - val_loss: 0.5643 - val_auc: 0.7823\n",
      "Epoch 36/100\n",
      "77/77 [==============================] - 1s 9ms/step - loss: 0.5685 - auc: 0.7753 - val_loss: 0.5627 - val_auc: 0.7824\n",
      "Epoch 37/100\n",
      "77/77 [==============================] - 1s 9ms/step - loss: 0.5662 - auc: 0.7778 - val_loss: 0.5631 - val_auc: 0.7825\n",
      "Epoch 38/100\n",
      "77/77 [==============================] - 1s 10ms/step - loss: 0.5670 - auc: 0.7772 - val_loss: 0.5629 - val_auc: 0.7830\n",
      "Epoch 39/100\n",
      "77/77 [==============================] - 1s 11ms/step - loss: 0.5647 - auc: 0.7799 - val_loss: 0.5617 - val_auc: 0.7837\n",
      "Epoch 40/100\n",
      "77/77 [==============================] - 1s 8ms/step - loss: 0.5645 - auc: 0.7794 - val_loss: 0.5623 - val_auc: 0.7837\n",
      "Epoch 41/100\n",
      "77/77 [==============================] - 1s 11ms/step - loss: 0.5670 - auc: 0.7771 - val_loss: 0.5611 - val_auc: 0.7843\n",
      "Epoch 42/100\n",
      "77/77 [==============================] - 1s 9ms/step - loss: 0.5661 - auc: 0.7782 - val_loss: 0.5600 - val_auc: 0.7851\n",
      "Epoch 43/100\n",
      "77/77 [==============================] - 0s 6ms/step - loss: 0.5629 - auc: 0.7815 - val_loss: 0.5602 - val_auc: 0.7851\n",
      "Epoch 44/100\n",
      "77/77 [==============================] - 1s 9ms/step - loss: 0.5641 - auc: 0.7802 - val_loss: 0.5595 - val_auc: 0.7860\n",
      "Epoch 45/100\n",
      "77/77 [==============================] - 1s 8ms/step - loss: 0.5621 - auc: 0.7825 - val_loss: 0.5595 - val_auc: 0.7866\n",
      "Epoch 46/100\n",
      "77/77 [==============================] - 1s 10ms/step - loss: 0.5625 - auc: 0.7817 - val_loss: 0.5596 - val_auc: 0.7861\n",
      "Epoch 47/100\n",
      "77/77 [==============================] - 1s 11ms/step - loss: 0.5623 - auc: 0.7814 - val_loss: 0.5590 - val_auc: 0.7867\n",
      "Epoch 48/100\n",
      "77/77 [==============================] - 1s 10ms/step - loss: 0.5611 - auc: 0.7831 - val_loss: 0.5584 - val_auc: 0.7868\n",
      "Epoch 49/100\n",
      "77/77 [==============================] - 1s 9ms/step - loss: 0.5619 - auc: 0.7819 - val_loss: 0.5587 - val_auc: 0.7871\n",
      "Epoch 50/100\n",
      "77/77 [==============================] - 1s 11ms/step - loss: 0.5611 - auc: 0.7830 - val_loss: 0.5571 - val_auc: 0.7878\n",
      "Epoch 51/100\n",
      "77/77 [==============================] - 1s 10ms/step - loss: 0.5616 - auc: 0.7823 - val_loss: 0.5579 - val_auc: 0.7875\n",
      "Epoch 52/100\n",
      "77/77 [==============================] - 1s 10ms/step - loss: 0.5585 - auc: 0.7853 - val_loss: 0.5572 - val_auc: 0.7876\n",
      "Epoch 53/100\n",
      "77/77 [==============================] - 1s 11ms/step - loss: 0.5595 - auc: 0.7844 - val_loss: 0.5564 - val_auc: 0.7885\n",
      "Epoch 54/100\n",
      "77/77 [==============================] - 1s 7ms/step - loss: 0.5578 - auc: 0.7858 - val_loss: 0.5564 - val_auc: 0.7885\n",
      "Epoch 55/100\n",
      "77/77 [==============================] - 1s 8ms/step - loss: 0.5568 - auc: 0.7867 - val_loss: 0.5574 - val_auc: 0.7890\n",
      "Epoch 56/100\n",
      "77/77 [==============================] - 1s 11ms/step - loss: 0.5586 - auc: 0.7853 - val_loss: 0.5557 - val_auc: 0.7884\n",
      "Epoch 57/100\n",
      "77/77 [==============================] - 1s 7ms/step - loss: 0.5594 - auc: 0.7842 - val_loss: 0.5558 - val_auc: 0.7890\n",
      "Epoch 58/100\n",
      "77/77 [==============================] - 1s 11ms/step - loss: 0.5576 - auc: 0.7861 - val_loss: 0.5549 - val_auc: 0.7896\n",
      "Epoch 59/100\n",
      "77/77 [==============================] - 1s 10ms/step - loss: 0.5569 - auc: 0.7865 - val_loss: 0.5544 - val_auc: 0.7904\n",
      "Epoch 60/100\n",
      "77/77 [==============================] - 1s 11ms/step - loss: 0.5541 - auc: 0.7892 - val_loss: 0.5541 - val_auc: 0.7903\n",
      "Epoch 61/100\n",
      "77/77 [==============================] - 1s 9ms/step - loss: 0.5539 - auc: 0.7894 - val_loss: 0.5549 - val_auc: 0.7904\n",
      "Epoch 62/100\n",
      "77/77 [==============================] - 1s 11ms/step - loss: 0.5545 - auc: 0.7889 - val_loss: 0.5539 - val_auc: 0.7906\n",
      "Epoch 63/100\n",
      "77/77 [==============================] - 1s 10ms/step - loss: 0.5546 - auc: 0.7886 - val_loss: 0.5534 - val_auc: 0.7906\n",
      "Epoch 64/100\n",
      "77/77 [==============================] - 0s 6ms/step - loss: 0.5526 - auc: 0.7911 - val_loss: 0.5537 - val_auc: 0.7909\n",
      "Epoch 65/100\n",
      "77/77 [==============================] - 1s 10ms/step - loss: 0.5537 - auc: 0.7897 - val_loss: 0.5539 - val_auc: 0.7911\n",
      "Epoch 66/100\n",
      "77/77 [==============================] - 1s 10ms/step - loss: 0.5514 - auc: 0.7920 - val_loss: 0.5523 - val_auc: 0.7917\n",
      "Epoch 67/100\n",
      "77/77 [==============================] - 1s 10ms/step - loss: 0.5513 - auc: 0.7919 - val_loss: 0.5521 - val_auc: 0.7921\n",
      "Epoch 68/100\n",
      "77/77 [==============================] - 1s 10ms/step - loss: 0.5522 - auc: 0.7910 - val_loss: 0.5523 - val_auc: 0.7916\n",
      "Epoch 69/100\n",
      "77/77 [==============================] - 1s 10ms/step - loss: 0.5518 - auc: 0.7914 - val_loss: 0.5521 - val_auc: 0.7920\n",
      "Epoch 70/100\n",
      "77/77 [==============================] - 1s 11ms/step - loss: 0.5522 - auc: 0.7911 - val_loss: 0.5515 - val_auc: 0.7926\n",
      "Epoch 71/100\n",
      "77/77 [==============================] - 0s 6ms/step - loss: 0.5526 - auc: 0.7908 - val_loss: 0.5522 - val_auc: 0.7920\n",
      "Epoch 72/100\n",
      "77/77 [==============================] - 1s 7ms/step - loss: 0.5528 - auc: 0.7908 - val_loss: 0.5518 - val_auc: 0.7925\n",
      "Epoch 73/100\n",
      "77/77 [==============================] - 1s 9ms/step - loss: 0.5515 - auc: 0.7919 - val_loss: 0.5515 - val_auc: 0.7928\n",
      "Epoch 74/100\n",
      "77/77 [==============================] - 1s 10ms/step - loss: 0.5524 - auc: 0.7909 - val_loss: 0.5520 - val_auc: 0.7919\n",
      "Epoch 75/100\n",
      "77/77 [==============================] - 1s 9ms/step - loss: 0.5511 - auc: 0.7920 - val_loss: 0.5523 - val_auc: 0.7921\n",
      "Epoch 76/100\n",
      "77/77 [==============================] - 1s 10ms/step - loss: 0.5500 - auc: 0.7935 - val_loss: 0.5516 - val_auc: 0.7927\n",
      "Epoch 77/100\n",
      "77/77 [==============================] - 1s 11ms/step - loss: 0.5493 - auc: 0.7939 - val_loss: 0.5514 - val_auc: 0.7929\n",
      "Epoch 78/100\n",
      "77/77 [==============================] - 1s 10ms/step - loss: 0.5487 - auc: 0.7945 - val_loss: 0.5505 - val_auc: 0.7938\n",
      "Epoch 79/100\n",
      "77/77 [==============================] - 1s 9ms/step - loss: 0.5490 - auc: 0.7943 - val_loss: 0.5506 - val_auc: 0.7936\n",
      "Epoch 80/100\n",
      "77/77 [==============================] - 1s 10ms/step - loss: 0.5491 - auc: 0.7942 - val_loss: 0.5509 - val_auc: 0.7937\n",
      "Epoch 81/100\n",
      "77/77 [==============================] - 1s 8ms/step - loss: 0.5495 - auc: 0.7938 - val_loss: 0.5501 - val_auc: 0.7936\n",
      "Epoch 82/100\n",
      "77/77 [==============================] - 1s 10ms/step - loss: 0.5470 - auc: 0.7956 - val_loss: 0.5506 - val_auc: 0.7935\n",
      "Epoch 83/100\n",
      "77/77 [==============================] - 1s 10ms/step - loss: 0.5476 - auc: 0.7955 - val_loss: 0.5506 - val_auc: 0.7934\n",
      "Epoch 84/100\n",
      "77/77 [==============================] - 1s 10ms/step - loss: 0.5474 - auc: 0.7957 - val_loss: 0.5502 - val_auc: 0.7934\n",
      "Epoch 85/100\n",
      "77/77 [==============================] - 1s 11ms/step - loss: 0.5474 - auc: 0.7956 - val_loss: 0.5501 - val_auc: 0.7936\n",
      "Epoch 86/100\n",
      "77/77 [==============================] - 1s 8ms/step - loss: 0.5488 - auc: 0.7944 - val_loss: 0.5498 - val_auc: 0.7938\n",
      "Epoch 87/100\n",
      "77/77 [==============================] - 1s 9ms/step - loss: 0.5473 - auc: 0.7954 - val_loss: 0.5492 - val_auc: 0.7942\n",
      "Epoch 88/100\n",
      "77/77 [==============================] - 1s 8ms/step - loss: 0.5468 - auc: 0.7962 - val_loss: 0.5496 - val_auc: 0.7938\n",
      "Epoch 89/100\n",
      "77/77 [==============================] - 1s 11ms/step - loss: 0.5464 - auc: 0.7967 - val_loss: 0.5492 - val_auc: 0.7943\n",
      "Epoch 90/100\n",
      "77/77 [==============================] - 1s 11ms/step - loss: 0.5488 - auc: 0.7944 - val_loss: 0.5488 - val_auc: 0.7947\n",
      "Epoch 91/100\n",
      "77/77 [==============================] - 0s 6ms/step - loss: 0.5457 - auc: 0.7971 - val_loss: 0.5500 - val_auc: 0.7940\n",
      "Epoch 92/100\n",
      "77/77 [==============================] - 0s 6ms/step - loss: 0.5490 - auc: 0.7946 - val_loss: 0.5495 - val_auc: 0.7943\n",
      "Epoch 93/100\n",
      "77/77 [==============================] - 1s 11ms/step - loss: 0.5459 - auc: 0.7973 - val_loss: 0.5480 - val_auc: 0.7953\n",
      "Epoch 94/100\n",
      "77/77 [==============================] - 0s 6ms/step - loss: 0.5450 - auc: 0.7978 - val_loss: 0.5483 - val_auc: 0.7949\n",
      "Epoch 95/100\n",
      "77/77 [==============================] - 1s 8ms/step - loss: 0.5447 - auc: 0.7980 - val_loss: 0.5491 - val_auc: 0.7949\n",
      "Epoch 96/100\n",
      "77/77 [==============================] - 1s 8ms/step - loss: 0.5473 - auc: 0.7955 - val_loss: 0.5484 - val_auc: 0.7949\n",
      "Epoch 97/100\n",
      "77/77 [==============================] - 1s 10ms/step - loss: 0.5446 - auc: 0.7983 - val_loss: 0.5482 - val_auc: 0.7948\n",
      "Epoch 98/100\n",
      "77/77 [==============================] - 1s 10ms/step - loss: 0.5454 - auc: 0.7976 - val_loss: 0.5481 - val_auc: 0.7951\n",
      "Epoch 99/100\n",
      "77/77 [==============================] - 1s 10ms/step - loss: 0.5456 - auc: 0.7974 - val_loss: 0.5483 - val_auc: 0.7956\n",
      "Epoch 100/100\n",
      "77/77 [==============================] - 1s 10ms/step - loss: 0.5454 - auc: 0.7977 - val_loss: 0.5481 - val_auc: 0.7953\n",
      "ROC_AUC of the test set: 0.7952953434004062\n",
      "\n",
      "Confusion_metrix (0.5 Threshold): \n",
      " [[5718 2430]\n",
      " [2041 6107]]\n",
      "Precision (0.5 Threshold):  0.7153566826754129\n",
      "Recall (0.5 Threshold):  0.7495090819833088\n",
      "F1-score ( 0.5 Threshold): 0.7320347617620616\n",
      "\n",
      "Cohen_kappa (0.5 Threshold):  0.4512763868433971\n",
      "Accuracy ( 0.5 Threshold): 0.7256381934216986\n"
     ]
    },
    {
     "data": {
      "image/png": "[encoded data removed]",
      "text/plain": [
       "<Figure size 432x288 with 2 Axes>"
      ]
     },
     "metadata": {
      "needs_background": "light"
     },
     "output_type": "display_data"
    }
   ],
   "source": [
    "sc = StandardScaler()\n",
    "X_train_rnus = sc.fit_transform(X_train_rnus)\n",
    "X_train = X_train_rnus\n",
    "X_test_rnus = sc.fit_transform(X_test_rnus)\n",
    "y_test = y_test_rnus\n",
    "y_train = y_train_rnus\n",
    "# Deep FCNN implementation\n",
    "# FCNN architecture includes 3 fully connected units having 150, 75, 25 neurons, respectively.\n",
    "batch_size = 500\n",
    "epochs = 100\n",
    "np.random.seed(5)  \n",
    "\n",
    "from sklearn.utils import class_weight\n",
    "class_weights = class_weight.compute_class_weight(class_weight = \"balanced\",classes = np.unique(y_train),y = y_train.values.reshape(-1))\n",
    "class_weights = dict(zip(np.unique(y_train), class_weights))\n",
    "class_weights\n",
    "\n",
    "#FC1\n",
    "model = Sequential()\n",
    "model.add(Dense(input_shape= (X_train.shape[1],), units = 16))\n",
    "model.add(BatchNormalization())\n",
    "model.add(Activation(\"relu\"))\n",
    "model.add(Dropout(0.2))\n",
    "\n",
    "#FC2\n",
    "model.add(Dense(units = 32))\n",
    "model.add(BatchNormalization())\n",
    "model.add(Activation(\"relu\"))\n",
    "model.add(Dropout(0.2))\n",
    "\n",
    "#FC3\n",
    "model.add(Dense(units = 64))\n",
    "model.add(BatchNormalization())\n",
    "model.add(Activation(\"relu\"))\n",
    "model.add(Dropout(0.2))\n",
    "\n",
    "#Output layer\n",
    "model.add(Dense(units=1, kernel_initializer='uniform', activation='sigmoid'))\n",
    "#model.build()\n",
    "model.compile(optimizer='Adam', loss='binary_crossentropy', metrics=['AUC'])\n",
    "model.summary()\n",
    "\n",
    "# Train deep neural network\n",
    "early_stops = EarlyStopping(patience=10, monitor='val_auc')\n",
    "mc = ModelCheckpoint('best_model.h5', monitor='val_loss', verbose=0, save_best_only=True)\n",
    "history = model.fit(X_train, y_train, validation_data = (X_test_rnus, y_test),  callbacks=[early_stops, mc], batch_size= batch_size, epochs= epochs, verbose=1)\n",
    "#model.fit(X_train, y_train, validation_split = 0.3,  callbacks=[early_stops, mc], batch_size= batch_size, epochs= epochs, verbose=1)\n",
    "#model.evaluate(X_test_rnus, y_test_rnus)\n",
    "\n",
    "# Binary class prediction, Keras predict method always return probability (unlike Sklearn!)\n",
    "pred_class = np.argmax(model.predict(X_test_rnus), axis=-1)\n",
    "# Probability prediction\n",
    "pred = model.predict(X_test_rnus)\n",
    "\n",
    "\n",
    "calculate_metrics(pred_class, pred, y_test)\n",
    "\n",
    "\n",
    "# Plot ROC curve\n",
    "#plot_ROC(y_test, pred)\n",
    "\n",
    "\n",
    "# Plot Precision/R curve\n",
    "#plot_precision_recall(y_test, pred)\n"
   ]
  },
  {
   "cell_type": "code",
   "execution_count": 114,
   "id": "fc224870",
   "metadata": {
    "scrolled": true
   },
   "outputs": [
    {
     "data": {
      "image/png": "[encoded data removed]",
      "text/plain": [
       "<Figure size 432x288 with 1 Axes>"
      ]
     },
     "metadata": {
      "needs_background": "light"
     },
     "output_type": "display_data"
    }
   ],
   "source": [
    "fpr, tpr, thresholds = roc_curve(y_test, pred)\n",
    "plt.title('Receiver Operating Characteristic')\n",
    "plt.plot(fpr, tpr)\n",
    "plt.plot([0,1],[0,1],'k--')\n",
    "plt.xlim([-0.1,1.1])\n",
    "plt.ylim([-0.1,1.1])\n",
    "plt.ylabel('True Positive Rate')\n",
    "plt.xlabel('False Positive Rate')\n",
    "plt.show()\n"
   ]
  },
  {
   "cell_type": "code",
   "execution_count": 115,
   "id": "21c5a904",
   "metadata": {},
   "outputs": [
    {
     "data": {
      "text/plain": [
       "0.7952953434004062"
      ]
     },
     "execution_count": 115,
     "metadata": {},
     "output_type": "execute_result"
    }
   ],
   "source": [
    "from sklearn import metrics\n",
    "auc_fcnn = metrics.auc(fpr, tpr)\n",
    "auc_fcnn"
   ]
  },
  {
   "cell_type": "code",
   "execution_count": 116,
   "id": "ae462e3f",
   "metadata": {},
   "outputs": [
    {
     "data": {
      "text/plain": [
       "0.7952953434004062"
      ]
     },
     "execution_count": 116,
     "metadata": {},
     "output_type": "execute_result"
    }
   ],
   "source": [
    "roc_auc_score(y_test, pred, average=None)"
   ]
  },
  {
   "cell_type": "code",
   "execution_count": 125,
   "id": "f79a9c47",
   "metadata": {},
   "outputs": [],
   "source": [
    "acc_fcnn = 0.725638\n",
    "pre_fcnn = 0.715356\n",
    "re_fcnn = 0.749509"
   ]
  },
  {
   "cell_type": "code",
   "execution_count": 126,
   "id": "d7619638",
   "metadata": {},
   "outputs": [
    {
     "data": {
      "text/html": [
       "<style  type=\"text/css\" >\n",
       "</style><table id=\"T_ab2a5_\" ><thead>    <tr>        <th class=\"blank level0\" ></th>        <th class=\"col_heading level0 col0\" >Algorithms</th>        <th class=\"col_heading level0 col1\" >Accuracy</th>        <th class=\"col_heading level0 col2\" >Precision</th>        <th class=\"col_heading level0 col3\" >Recall</th>        <th class=\"col_heading level0 col4\" >AUC</th>    </tr></thead><tbody>\n",
       "                <tr>\n",
       "                        <th id=\"T_ab2a5_level0_row0\" class=\"row_heading level0 row0\" >0</th>\n",
       "                        <td id=\"T_ab2a5_row0_col0\" class=\"data row0 col0\" >Logistic Regression</td>\n",
       "                        <td id=\"T_ab2a5_row0_col1\" class=\"data row0 col1\" >0.686362</td>\n",
       "                        <td id=\"T_ab2a5_row0_col2\" class=\"data row0 col2\" >0.147379</td>\n",
       "                        <td id=\"T_ab2a5_row0_col3\" class=\"data row0 col3\" >0.691458</td>\n",
       "                        <td id=\"T_ab2a5_row0_col4\" class=\"data row0 col4\" >0.688710</td>\n",
       "            </tr>\n",
       "            <tr>\n",
       "                        <th id=\"T_ab2a5_level0_row1\" class=\"row_heading level0 row1\" >1</th>\n",
       "                        <td id=\"T_ab2a5_row1_col0\" class=\"data row1 col0\" >K Nearest Neighbors</td>\n",
       "                        <td id=\"T_ab2a5_row1_col1\" class=\"data row1 col1\" >0.769917</td>\n",
       "                        <td id=\"T_ab2a5_row1_col2\" class=\"data row1 col2\" >0.231412</td>\n",
       "                        <td id=\"T_ab2a5_row1_col3\" class=\"data row1 col3\" >0.930903</td>\n",
       "                        <td id=\"T_ab2a5_row1_col4\" class=\"data row1 col4\" >0.844091</td>\n",
       "            </tr>\n",
       "            <tr>\n",
       "                        <th id=\"T_ab2a5_level0_row2\" class=\"row_heading level0 row2\" >2</th>\n",
       "                        <td id=\"T_ab2a5_row2_col0\" class=\"data row2 col0\" >Decision Tree Classifier</td>\n",
       "                        <td id=\"T_ab2a5_row2_col1\" class=\"data row2 col1\" >0.811547</td>\n",
       "                        <td id=\"T_ab2a5_row2_col2\" class=\"data row2 col2\" >0.266139</td>\n",
       "                        <td id=\"T_ab2a5_row2_col3\" class=\"data row2 col3\" >0.904148</td>\n",
       "                        <td id=\"T_ab2a5_row2_col4\" class=\"data row2 col4\" >0.854213</td>\n",
       "            </tr>\n",
       "            <tr>\n",
       "                        <th id=\"T_ab2a5_level0_row3\" class=\"row_heading level0 row3\" >3</th>\n",
       "                        <td id=\"T_ab2a5_row3_col0\" class=\"data row3 col0\" >Random Forest Classifier</td>\n",
       "                        <td id=\"T_ab2a5_row3_col1\" class=\"data row3 col1\" >0.910674</td>\n",
       "                        <td id=\"T_ab2a5_row3_col2\" class=\"data row3 col2\" >0.444855</td>\n",
       "                        <td id=\"T_ab2a5_row3_col3\" class=\"data row3 col3\" >0.916298</td>\n",
       "                        <td id=\"T_ab2a5_row3_col4\" class=\"data row3 col4\" >0.913265</td>\n",
       "            </tr>\n",
       "            <tr>\n",
       "                        <th id=\"T_ab2a5_level0_row4\" class=\"row_heading level0 row4\" >4</th>\n",
       "                        <td id=\"T_ab2a5_row4_col0\" class=\"data row4 col0\" >AdaBoost Classifier</td>\n",
       "                        <td id=\"T_ab2a5_row4_col1\" class=\"data row4 col1\" >0.702201</td>\n",
       "                        <td id=\"T_ab2a5_row4_col2\" class=\"data row4 col2\" >0.153616</td>\n",
       "                        <td id=\"T_ab2a5_row4_col3\" class=\"data row4 col3\" >0.685444</td>\n",
       "                        <td id=\"T_ab2a5_row4_col4\" class=\"data row4 col4\" >0.694480</td>\n",
       "            </tr>\n",
       "            <tr>\n",
       "                        <th id=\"T_ab2a5_level0_row5\" class=\"row_heading level0 row5\" >5</th>\n",
       "                        <td id=\"T_ab2a5_row5_col0\" class=\"data row5 col0\" >Gradient Boost Classifier</td>\n",
       "                        <td id=\"T_ab2a5_row5_col1\" class=\"data row5 col1\" >0.902741</td>\n",
       "                        <td id=\"T_ab2a5_row5_col2\" class=\"data row5 col2\" >0.424241</td>\n",
       "                        <td id=\"T_ab2a5_row5_col3\" class=\"data row5 col3\" >0.941213</td>\n",
       "                        <td id=\"T_ab2a5_row5_col4\" class=\"data row5 col4\" >0.920467</td>\n",
       "            </tr>\n",
       "            <tr>\n",
       "                        <th id=\"T_ab2a5_level0_row6\" class=\"row_heading level0 row6\" >6</th>\n",
       "                        <td id=\"T_ab2a5_row6_col0\" class=\"data row6 col0\" >Extreme Gradient Boost Classifier</td>\n",
       "                        <td id=\"T_ab2a5_row6_col1\" class=\"data row6 col1\" >0.909271</td>\n",
       "                        <td id=\"T_ab2a5_row6_col2\" class=\"data row6 col2\" >0.442444</td>\n",
       "                        <td id=\"T_ab2a5_row6_col3\" class=\"data row6 col3\" >0.947226</td>\n",
       "                        <td id=\"T_ab2a5_row6_col4\" class=\"data row6 col4\" >0.926759</td>\n",
       "            </tr>\n",
       "            <tr>\n",
       "                        <th id=\"T_ab2a5_level0_row7\" class=\"row_heading level0 row7\" >7</th>\n",
       "                        <td id=\"T_ab2a5_row7_col0\" class=\"data row7 col0\" >Fully Connected Neural Network</td>\n",
       "                        <td id=\"T_ab2a5_row7_col1\" class=\"data row7 col1\" >0.725638</td>\n",
       "                        <td id=\"T_ab2a5_row7_col2\" class=\"data row7 col2\" >0.715356</td>\n",
       "                        <td id=\"T_ab2a5_row7_col3\" class=\"data row7 col3\" >0.749509</td>\n",
       "                        <td id=\"T_ab2a5_row7_col4\" class=\"data row7 col4\" >0.795295</td>\n",
       "            </tr>\n",
       "    </tbody></table>"
      ],
      "text/plain": [
       "<pandas.io.formats.style.Styler at 0x236ad8e4100>"
      ]
     },
     "execution_count": 126,
     "metadata": {},
     "output_type": "execute_result"
    }
   ],
   "source": [
    "dict = { 'Algorithms' : ['Logistic Regression', 'K Nearest Neighbors', 'Decision Tree Classifier', \n",
    "                         'Random Forest Classifier', 'AdaBoost Classifier', 'Gradient Boost Classifier',\n",
    "                         'Extreme Gradient Boost Classifier', 'Fully Connected Neural Network'],\n",
    "        'Accuracy' : [acc_lr, acc_knn, acc_dt, acc_rfc, acc_ada, acc_gb, acc_xgb, acc_fcnn],\n",
    "        'Precision' : [pre_lr, pre_knn, pre_dt, pre_rfc, pre_ada, pre_gb, pre_xgb, pre_fcnn],\n",
    "        'Recall' : [re_lr, re_knn, re_dt, re_rfc, re_ada, re_gb, re_xgb, re_fcnn],\n",
    "        'AUC' : [auc_lr, auc_knn, auc_dt, auc_rfc, auc_ada ,auc_gb, auc_xgb, auc_fcnn]}\n",
    "dataframe = pd.DataFrame(dict)\n",
    "dataframe.style"
   ]
  },
  {
   "cell_type": "code",
   "execution_count": null,
   "id": "28335bd0",
   "metadata": {},
   "outputs": [],
   "source": []
  },
  {
   "cell_type": "code",
   "execution_count": null,
   "id": "a5fe2ef7",
   "metadata": {},
   "outputs": [],
   "source": []
  },
  {
   "cell_type": "code",
   "execution_count": null,
   "id": "f1d6437c",
   "metadata": {},
   "outputs": [],
   "source": []
  },
  {
   "cell_type": "code",
   "execution_count": null,
   "id": "817f48ec",
   "metadata": {},
   "outputs": [],
   "source": []
  },
  {
   "cell_type": "code",
   "execution_count": null,
   "id": "8c4d7970",
   "metadata": {},
   "outputs": [],
   "source": []
  },
  {
   "cell_type": "code",
   "execution_count": null,
   "id": "b378a08c",
   "metadata": {},
   "outputs": [],
   "source": []
  },
  {
   "cell_type": "code",
   "execution_count": null,
   "id": "7c5c5945",
   "metadata": {},
   "outputs": [],
   "source": []
  },
  {
   "cell_type": "code",
   "execution_count": null,
   "id": "f55901df",
   "metadata": {},
   "outputs": [],
   "source": []
  },
  {
   "cell_type": "code",
   "execution_count": null,
   "id": "eb57361e",
   "metadata": {},
   "outputs": [],
   "source": []
  },
  {
   "cell_type": "code",
   "execution_count": null,
   "id": "25b489f3",
   "metadata": {},
   "outputs": [],
   "source": []
  },
  {
   "cell_type": "code",
   "execution_count": null,
   "id": "bd271700",
   "metadata": {},
   "outputs": [],
   "source": []
  },
  {
   "cell_type": "code",
   "execution_count": null,
   "id": "28f13a0a",
   "metadata": {},
   "outputs": [],
   "source": []
  },
  {
   "cell_type": "code",
   "execution_count": null,
   "id": "11bd40be",
   "metadata": {},
   "outputs": [],
   "source": []
  },
  {
   "cell_type": "code",
   "execution_count": null,
   "id": "db1474d9",
   "metadata": {},
   "outputs": [],
   "source": []
  },
  {
   "cell_type": "code",
   "execution_count": null,
   "id": "4b51da75",
   "metadata": {},
   "outputs": [],
   "source": []
  },
  {
   "cell_type": "code",
   "execution_count": null,
   "id": "73767114",
   "metadata": {},
   "outputs": [],
   "source": []
  },
  {
   "cell_type": "code",
   "execution_count": null,
   "id": "33cee488",
   "metadata": {},
   "outputs": [],
   "source": []
  },
  {
   "cell_type": "code",
   "execution_count": null,
   "id": "fcd2b840",
   "metadata": {},
   "outputs": [],
   "source": []
  },
  {
   "cell_type": "code",
   "execution_count": null,
   "id": "ab9c91e6",
   "metadata": {},
   "outputs": [],
   "source": []
  },
  {
   "cell_type": "code",
   "execution_count": null,
   "id": "093ef7b1",
   "metadata": {},
   "outputs": [],
   "source": []
  },
  {
   "cell_type": "code",
   "execution_count": null,
   "id": "5faf37d0",
   "metadata": {},
   "outputs": [],
   "source": []
  },
  {
   "cell_type": "code",
   "execution_count": null,
   "id": "e0886b8f",
   "metadata": {},
   "outputs": [],
   "source": []
  },
  {
   "cell_type": "code",
   "execution_count": null,
   "id": "55c1ea60",
   "metadata": {},
   "outputs": [],
   "source": []
  },
  {
   "cell_type": "code",
   "execution_count": null,
   "id": "8c809770",
   "metadata": {},
   "outputs": [],
   "source": []
  },
  {
   "cell_type": "code",
   "execution_count": null,
   "id": "424ef5d9",
   "metadata": {},
   "outputs": [],
   "source": []
  },
  {
   "cell_type": "code",
   "execution_count": null,
   "id": "04c54ffd",
   "metadata": {},
   "outputs": [],
   "source": []
  },
  {
   "cell_type": "code",
   "execution_count": null,
   "id": "610f2ff9",
   "metadata": {},
   "outputs": [],
   "source": []
  },
  {
   "cell_type": "code",
   "execution_count": null,
   "id": "6ecce841",
   "metadata": {},
   "outputs": [],
   "source": []
  },
  {
   "cell_type": "code",
   "execution_count": null,
   "id": "91215688",
   "metadata": {},
   "outputs": [],
   "source": []
  },
  {
   "cell_type": "code",
   "execution_count": null,
   "id": "349df258",
   "metadata": {},
   "outputs": [],
   "source": []
  },
  {
   "cell_type": "code",
   "execution_count": null,
   "id": "dd0cc1da",
   "metadata": {},
   "outputs": [],
   "source": []
  },
  {
   "cell_type": "code",
   "execution_count": null,
   "id": "60760fa0",
   "metadata": {},
   "outputs": [],
   "source": []
  },
  {
   "cell_type": "code",
   "execution_count": null,
   "id": "3f48f73f",
   "metadata": {},
   "outputs": [],
   "source": []
  },
  {
   "cell_type": "code",
   "execution_count": null,
   "id": "c821e83e",
   "metadata": {},
   "outputs": [],
   "source": []
  },
  {
   "cell_type": "code",
   "execution_count": null,
   "id": "82dab624",
   "metadata": {},
   "outputs": [],
   "source": []
  },
  {
   "cell_type": "code",
   "execution_count": null,
   "id": "9194bba7",
   "metadata": {},
   "outputs": [],
   "source": []
  },
  {
   "cell_type": "code",
   "execution_count": null,
   "id": "ee6bb7b6",
   "metadata": {},
   "outputs": [],
   "source": []
  },
  {
   "cell_type": "code",
   "execution_count": null,
   "id": "0d7a81d7",
   "metadata": {},
   "outputs": [],
   "source": []
  },
  {
   "cell_type": "code",
   "execution_count": null,
   "id": "5067799b",
   "metadata": {},
   "outputs": [],
   "source": []
  },
  {
   "cell_type": "code",
   "execution_count": null,
   "id": "5ad9d7af",
   "metadata": {},
   "outputs": [],
   "source": []
  },
  {
   "cell_type": "code",
   "execution_count": null,
   "id": "0f02005c",
   "metadata": {},
   "outputs": [],
   "source": []
  },
  {
   "cell_type": "code",
   "execution_count": null,
   "id": "223cdfbf",
   "metadata": {},
   "outputs": [],
   "source": []
  },
  {
   "cell_type": "code",
   "execution_count": null,
   "id": "052028f9",
   "metadata": {},
   "outputs": [],
   "source": []
  },
  {
   "cell_type": "code",
   "execution_count": null,
   "id": "648518d6",
   "metadata": {},
   "outputs": [],
   "source": []
  },
  {
   "cell_type": "code",
   "execution_count": null,
   "id": "d5242af7",
   "metadata": {},
   "outputs": [],
   "source": []
  },
  {
   "cell_type": "code",
   "execution_count": null,
   "id": "8b113dfa",
   "metadata": {},
   "outputs": [],
   "source": []
  },
  {
   "cell_type": "code",
   "execution_count": null,
   "id": "e7036363",
   "metadata": {},
   "outputs": [],
   "source": []
  },
  {
   "cell_type": "code",
   "execution_count": null,
   "id": "86f47976",
   "metadata": {},
   "outputs": [],
   "source": []
  },
  {
   "cell_type": "code",
   "execution_count": null,
   "id": "54ac2e4b",
   "metadata": {},
   "outputs": [],
   "source": []
  },
  {
   "cell_type": "code",
   "execution_count": null,
   "id": "d72c44d5",
   "metadata": {},
   "outputs": [],
   "source": []
  },
  {
   "cell_type": "code",
   "execution_count": null,
   "id": "56b21a3d",
   "metadata": {},
   "outputs": [],
   "source": []
  },
  {
   "cell_type": "code",
   "execution_count": null,
   "id": "246d891e",
   "metadata": {},
   "outputs": [],
   "source": []
  },
  {
   "cell_type": "code",
   "execution_count": null,
   "id": "6c103559",
   "metadata": {},
   "outputs": [],
   "source": []
  },
  {
   "cell_type": "code",
   "execution_count": null,
   "id": "a59bd7bd",
   "metadata": {},
   "outputs": [],
   "source": []
  },
  {
   "cell_type": "code",
   "execution_count": null,
   "id": "61fef4fa",
   "metadata": {},
   "outputs": [],
   "source": []
  },
  {
   "cell_type": "code",
   "execution_count": null,
   "id": "c256e636",
   "metadata": {},
   "outputs": [],
   "source": []
  },
  {
   "cell_type": "code",
   "execution_count": null,
   "id": "ab8d1076",
   "metadata": {},
   "outputs": [],
   "source": []
  },
  {
   "cell_type": "code",
   "execution_count": null,
   "id": "240ef3c6",
   "metadata": {},
   "outputs": [],
   "source": []
  },
  {
   "cell_type": "code",
   "execution_count": null,
   "id": "8525cd09",
   "metadata": {},
   "outputs": [],
   "source": []
  },
  {
   "cell_type": "code",
   "execution_count": null,
   "id": "e05e8158",
   "metadata": {},
   "outputs": [],
   "source": []
  },
  {
   "cell_type": "code",
   "execution_count": null,
   "id": "99a0cb81",
   "metadata": {},
   "outputs": [],
   "source": []
  },
  {
   "cell_type": "code",
   "execution_count": null,
   "id": "929d703b",
   "metadata": {},
   "outputs": [],
   "source": []
  },
  {
   "cell_type": "code",
   "execution_count": null,
   "id": "0c566e15",
   "metadata": {},
   "outputs": [],
   "source": []
  },
  {
   "cell_type": "code",
   "execution_count": null,
   "id": "8c2da1c5",
   "metadata": {},
   "outputs": [],
   "source": []
  },
  {
   "cell_type": "code",
   "execution_count": null,
   "id": "1f990542",
   "metadata": {},
   "outputs": [],
   "source": []
  },
  {
   "cell_type": "code",
   "execution_count": null,
   "id": "b9fa4e51",
   "metadata": {},
   "outputs": [],
   "source": []
  },
  {
   "cell_type": "code",
   "execution_count": null,
   "id": "27c11e24",
   "metadata": {},
   "outputs": [],
   "source": []
  },
  {
   "cell_type": "code",
   "execution_count": null,
   "id": "2fd2c788",
   "metadata": {},
   "outputs": [],
   "source": []
  },
  {
   "cell_type": "code",
   "execution_count": null,
   "id": "954c7b7e",
   "metadata": {},
   "outputs": [],
   "source": []
  },
  {
   "cell_type": "code",
   "execution_count": null,
   "id": "eafd5332",
   "metadata": {},
   "outputs": [],
   "source": []
  },
  {
   "cell_type": "code",
   "execution_count": null,
   "id": "e34a1f91",
   "metadata": {},
   "outputs": [],
   "source": []
  },
  {
   "cell_type": "code",
   "execution_count": null,
   "id": "d75a20f5",
   "metadata": {},
   "outputs": [],
   "source": []
  },
  {
   "cell_type": "code",
   "execution_count": null,
   "id": "d97fe303",
   "metadata": {},
   "outputs": [],
   "source": []
  },
  {
   "cell_type": "code",
   "execution_count": null,
   "id": "d0807795",
   "metadata": {},
   "outputs": [],
   "source": []
  },
  {
   "cell_type": "code",
   "execution_count": null,
   "id": "73db6f5b",
   "metadata": {},
   "outputs": [],
   "source": []
  }
 ],
 "metadata": {
  "kernelspec": {
   "display_name": "Python 3",
   "language": "python",
   "name": "python3"
  },
  "language_info": {
   "codemirror_mode": {
    "name": "ipython",
    "version": 3
   },
   "file_extension": ".py",
   "mimetype": "text/x-python",
   "name": "python",
   "nbconvert_exporter": "python",
   "pygments_lexer": "ipython3",
   "version": "3.8.8"
  }
 },
 "nbformat": 4,
 "nbformat_minor": 5
}
